{
  "nbformat": 4,
  "nbformat_minor": 0,
  "metadata": {
    "colab": {
      "provenance": [],
      "mount_file_id": "1kg1qy78V6v0dm6u3oPFIEZ3sDpaQ_nCr",
      "authorship_tag": "ABX9TyM+wSfBvJLf7rd+x6Xj8ue0",
      "include_colab_link": true
    },
    "kernelspec": {
      "name": "python3",
      "display_name": "Python 3"
    },
    "language_info": {
      "name": "python"
    }
  },
  "cells": [
    {
      "cell_type": "markdown",
      "metadata": {
        "id": "view-in-github",
        "colab_type": "text"
      },
      "source": [
        "<a href=\"https://colab.research.google.com/github/alexsantostavares/TensorflowMLP/blob/master/TensorFlowMLPFinal.ipynb\" target=\"_parent\"><img src=\"https://colab.research.google.com/assets/colab-badge.svg\" alt=\"Open In Colab\"/></a>"
      ]
    },
    {
      "cell_type": "code",
      "execution_count": 24,
      "metadata": {
        "colab": {
          "base_uri": "https://localhost:8080/"
        },
        "id": "oFJj7mdAhLQX",
        "outputId": "95dfbc7f-48af-441d-d603-2cfb1eeb81a0"
      },
      "outputs": [
        {
          "output_type": "stream",
          "name": "stdout",
          "text": [
            "Looking in indexes: https://pypi.org/simple, https://us-python.pkg.dev/colab-wheels/public/simple/\n",
            "Requirement already satisfied: imbalanced-learn in /usr/local/lib/python3.8/dist-packages (0.9.1)\n",
            "Requirement already satisfied: joblib>=1.0.0 in /usr/local/lib/python3.8/dist-packages (from imbalanced-learn) (1.2.0)\n",
            "Requirement already satisfied: scipy>=1.3.2 in /usr/local/lib/python3.8/dist-packages (from imbalanced-learn) (1.7.3)\n",
            "Requirement already satisfied: numpy>=1.17.3 in /usr/local/lib/python3.8/dist-packages (from imbalanced-learn) (1.21.6)\n",
            "Requirement already satisfied: threadpoolctl>=2.0.0 in /usr/local/lib/python3.8/dist-packages (from imbalanced-learn) (3.1.0)\n",
            "Requirement already satisfied: scikit-learn>=1.1.0 in /usr/local/lib/python3.8/dist-packages (from imbalanced-learn) (1.1.3)\n"
          ]
        }
      ],
      "source": [
        "# garantir que seja instalado recurso utilizado\n",
        "!pip install -U imbalanced-learn"
      ]
    },
    {
      "cell_type": "code",
      "source": [
        "from google.colab import drive\n",
        "drive.mount('/content/drive')"
      ],
      "metadata": {
        "colab": {
          "base_uri": "https://localhost:8080/"
        },
        "id": "p9ReVyNFsl4N",
        "outputId": "c0003554-9c29-410d-deb6-aed71b30005e"
      },
      "execution_count": 25,
      "outputs": [
        {
          "output_type": "stream",
          "name": "stdout",
          "text": [
            "Drive already mounted at /content/drive; to attempt to forcibly remount, call drive.mount(\"/content/drive\", force_remount=True).\n"
          ]
        }
      ]
    },
    {
      "cell_type": "code",
      "source": [
        "#importando todas as bibliotecas\n",
        "import numpy as np\n",
        "import pandas as pd\n",
        "import matplotlib.pyplot as plt\n",
        "from sklearn.model_selection import train_test_split\n",
        "from sklearn.preprocessing import StandardScaler\n",
        "import tensorflow as tf\n",
        "from imblearn.over_sampling import RandomOverSampler\n",
        "import sys\n",
        "import csv"
      ],
      "metadata": {
        "id": "SU22PPAthzWi"
      },
      "execution_count": 26,
      "outputs": []
    },
    {
      "cell_type": "code",
      "source": [
        "#leitura do arquivo csv\n",
        "df = pd.read_csv(\"/content/drive/MyDrive/Base/BD-2trab(CSV) (1).csv\")"
      ],
      "metadata": {
        "id": "UGvA3qsRh1kw"
      },
      "execution_count": 27,
      "outputs": []
    },
    {
      "cell_type": "code",
      "source": [
        "df"
      ],
      "metadata": {
        "colab": {
          "base_uri": "https://localhost:8080/",
          "height": 426
        },
        "id": "Y8eux3Bvzae6",
        "outputId": "7ab921ab-5c71-4df8-8f41-e12e59fd5aa2"
      },
      "execution_count": 28,
      "outputs": [
        {
          "output_type": "execute_result",
          "data": {
            "text/plain": [
              "   Alternativo  Bar Sex/Sab Faminto Cliente Preço Chove Reserva Tipo Espera  \\\n",
              "0          Sim  Não     Não     Sim     Alg   $$$   Não     Sim  Fra   0-10   \n",
              "1          Sim  Não     Não     Sim     Che     $   Não     Não  Tai  30-60   \n",
              "2          Não  Sim     Não     Não     Alg     $   Não     Não  Ham   0-10   \n",
              "3          Sim  Não     Sim     Sim     Che     $   Sim     Não  Tai  10-30   \n",
              "4          Sim  Não     Sim     Não     Che   $$$   Não     Sim  Fra    >60   \n",
              "5          Não  Sim     Não     Sim     Alg    $$   Sim     Sim  Ita   0-10   \n",
              "6          Não  Sim     Não     Não      Ne     $   Sim     Não  Ham   0-10   \n",
              "7          Não  Não     Não     Sim     Alg    $$   Sim     Sim  Tai   0-10   \n",
              "8          Não  Sim     Sim     Não     Che     $   Sim     Não  Ham    >60   \n",
              "9          Sim  Sim     Sim     Sim     Che   $$$   Não     Sim  Ita  10-30   \n",
              "10         Não  Não     Não     Não      Ne     $   Não     Não  Tai   0-10   \n",
              "11         Sim  Sim     Sim     Sim     Che     $   Não     Não  Ham  30-60   \n",
              "\n",
              "    Meta  \n",
              "0    Sim  \n",
              "1    Não  \n",
              "2   Sim   \n",
              "3    Sim  \n",
              "4    Não  \n",
              "5    Sim  \n",
              "6    Não  \n",
              "7    Sim  \n",
              "8    Não  \n",
              "9    Não  \n",
              "10   Não  \n",
              "11   Sim  "
            ],
            "text/html": [
              "\n",
              "  <div id=\"df-c92854e0-1f20-46fd-8ec7-0939f8e0474e\">\n",
              "    <div class=\"colab-df-container\">\n",
              "      <div>\n",
              "<style scoped>\n",
              "    .dataframe tbody tr th:only-of-type {\n",
              "        vertical-align: middle;\n",
              "    }\n",
              "\n",
              "    .dataframe tbody tr th {\n",
              "        vertical-align: top;\n",
              "    }\n",
              "\n",
              "    .dataframe thead th {\n",
              "        text-align: right;\n",
              "    }\n",
              "</style>\n",
              "<table border=\"1\" class=\"dataframe\">\n",
              "  <thead>\n",
              "    <tr style=\"text-align: right;\">\n",
              "      <th></th>\n",
              "      <th>Alternativo</th>\n",
              "      <th>Bar</th>\n",
              "      <th>Sex/Sab</th>\n",
              "      <th>Faminto</th>\n",
              "      <th>Cliente</th>\n",
              "      <th>Preço</th>\n",
              "      <th>Chove</th>\n",
              "      <th>Reserva</th>\n",
              "      <th>Tipo</th>\n",
              "      <th>Espera</th>\n",
              "      <th>Meta</th>\n",
              "    </tr>\n",
              "  </thead>\n",
              "  <tbody>\n",
              "    <tr>\n",
              "      <th>0</th>\n",
              "      <td>Sim</td>\n",
              "      <td>Não</td>\n",
              "      <td>Não</td>\n",
              "      <td>Sim</td>\n",
              "      <td>Alg</td>\n",
              "      <td>$$$</td>\n",
              "      <td>Não</td>\n",
              "      <td>Sim</td>\n",
              "      <td>Fra</td>\n",
              "      <td>0-10</td>\n",
              "      <td>Sim</td>\n",
              "    </tr>\n",
              "    <tr>\n",
              "      <th>1</th>\n",
              "      <td>Sim</td>\n",
              "      <td>Não</td>\n",
              "      <td>Não</td>\n",
              "      <td>Sim</td>\n",
              "      <td>Che</td>\n",
              "      <td>$</td>\n",
              "      <td>Não</td>\n",
              "      <td>Não</td>\n",
              "      <td>Tai</td>\n",
              "      <td>30-60</td>\n",
              "      <td>Não</td>\n",
              "    </tr>\n",
              "    <tr>\n",
              "      <th>2</th>\n",
              "      <td>Não</td>\n",
              "      <td>Sim</td>\n",
              "      <td>Não</td>\n",
              "      <td>Não</td>\n",
              "      <td>Alg</td>\n",
              "      <td>$</td>\n",
              "      <td>Não</td>\n",
              "      <td>Não</td>\n",
              "      <td>Ham</td>\n",
              "      <td>0-10</td>\n",
              "      <td>Sim</td>\n",
              "    </tr>\n",
              "    <tr>\n",
              "      <th>3</th>\n",
              "      <td>Sim</td>\n",
              "      <td>Não</td>\n",
              "      <td>Sim</td>\n",
              "      <td>Sim</td>\n",
              "      <td>Che</td>\n",
              "      <td>$</td>\n",
              "      <td>Sim</td>\n",
              "      <td>Não</td>\n",
              "      <td>Tai</td>\n",
              "      <td>10-30</td>\n",
              "      <td>Sim</td>\n",
              "    </tr>\n",
              "    <tr>\n",
              "      <th>4</th>\n",
              "      <td>Sim</td>\n",
              "      <td>Não</td>\n",
              "      <td>Sim</td>\n",
              "      <td>Não</td>\n",
              "      <td>Che</td>\n",
              "      <td>$$$</td>\n",
              "      <td>Não</td>\n",
              "      <td>Sim</td>\n",
              "      <td>Fra</td>\n",
              "      <td>&gt;60</td>\n",
              "      <td>Não</td>\n",
              "    </tr>\n",
              "    <tr>\n",
              "      <th>5</th>\n",
              "      <td>Não</td>\n",
              "      <td>Sim</td>\n",
              "      <td>Não</td>\n",
              "      <td>Sim</td>\n",
              "      <td>Alg</td>\n",
              "      <td>$$</td>\n",
              "      <td>Sim</td>\n",
              "      <td>Sim</td>\n",
              "      <td>Ita</td>\n",
              "      <td>0-10</td>\n",
              "      <td>Sim</td>\n",
              "    </tr>\n",
              "    <tr>\n",
              "      <th>6</th>\n",
              "      <td>Não</td>\n",
              "      <td>Sim</td>\n",
              "      <td>Não</td>\n",
              "      <td>Não</td>\n",
              "      <td>Ne</td>\n",
              "      <td>$</td>\n",
              "      <td>Sim</td>\n",
              "      <td>Não</td>\n",
              "      <td>Ham</td>\n",
              "      <td>0-10</td>\n",
              "      <td>Não</td>\n",
              "    </tr>\n",
              "    <tr>\n",
              "      <th>7</th>\n",
              "      <td>Não</td>\n",
              "      <td>Não</td>\n",
              "      <td>Não</td>\n",
              "      <td>Sim</td>\n",
              "      <td>Alg</td>\n",
              "      <td>$$</td>\n",
              "      <td>Sim</td>\n",
              "      <td>Sim</td>\n",
              "      <td>Tai</td>\n",
              "      <td>0-10</td>\n",
              "      <td>Sim</td>\n",
              "    </tr>\n",
              "    <tr>\n",
              "      <th>8</th>\n",
              "      <td>Não</td>\n",
              "      <td>Sim</td>\n",
              "      <td>Sim</td>\n",
              "      <td>Não</td>\n",
              "      <td>Che</td>\n",
              "      <td>$</td>\n",
              "      <td>Sim</td>\n",
              "      <td>Não</td>\n",
              "      <td>Ham</td>\n",
              "      <td>&gt;60</td>\n",
              "      <td>Não</td>\n",
              "    </tr>\n",
              "    <tr>\n",
              "      <th>9</th>\n",
              "      <td>Sim</td>\n",
              "      <td>Sim</td>\n",
              "      <td>Sim</td>\n",
              "      <td>Sim</td>\n",
              "      <td>Che</td>\n",
              "      <td>$$$</td>\n",
              "      <td>Não</td>\n",
              "      <td>Sim</td>\n",
              "      <td>Ita</td>\n",
              "      <td>10-30</td>\n",
              "      <td>Não</td>\n",
              "    </tr>\n",
              "    <tr>\n",
              "      <th>10</th>\n",
              "      <td>Não</td>\n",
              "      <td>Não</td>\n",
              "      <td>Não</td>\n",
              "      <td>Não</td>\n",
              "      <td>Ne</td>\n",
              "      <td>$</td>\n",
              "      <td>Não</td>\n",
              "      <td>Não</td>\n",
              "      <td>Tai</td>\n",
              "      <td>0-10</td>\n",
              "      <td>Não</td>\n",
              "    </tr>\n",
              "    <tr>\n",
              "      <th>11</th>\n",
              "      <td>Sim</td>\n",
              "      <td>Sim</td>\n",
              "      <td>Sim</td>\n",
              "      <td>Sim</td>\n",
              "      <td>Che</td>\n",
              "      <td>$</td>\n",
              "      <td>Não</td>\n",
              "      <td>Não</td>\n",
              "      <td>Ham</td>\n",
              "      <td>30-60</td>\n",
              "      <td>Sim</td>\n",
              "    </tr>\n",
              "  </tbody>\n",
              "</table>\n",
              "</div>\n",
              "      <button class=\"colab-df-convert\" onclick=\"convertToInteractive('df-c92854e0-1f20-46fd-8ec7-0939f8e0474e')\"\n",
              "              title=\"Convert this dataframe to an interactive table.\"\n",
              "              style=\"display:none;\">\n",
              "        \n",
              "  <svg xmlns=\"http://www.w3.org/2000/svg\" height=\"24px\"viewBox=\"0 0 24 24\"\n",
              "       width=\"24px\">\n",
              "    <path d=\"M0 0h24v24H0V0z\" fill=\"none\"/>\n",
              "    <path d=\"M18.56 5.44l.94 2.06.94-2.06 2.06-.94-2.06-.94-.94-2.06-.94 2.06-2.06.94zm-11 1L8.5 8.5l.94-2.06 2.06-.94-2.06-.94L8.5 2.5l-.94 2.06-2.06.94zm10 10l.94 2.06.94-2.06 2.06-.94-2.06-.94-.94-2.06-.94 2.06-2.06.94z\"/><path d=\"M17.41 7.96l-1.37-1.37c-.4-.4-.92-.59-1.43-.59-.52 0-1.04.2-1.43.59L10.3 9.45l-7.72 7.72c-.78.78-.78 2.05 0 2.83L4 21.41c.39.39.9.59 1.41.59.51 0 1.02-.2 1.41-.59l7.78-7.78 2.81-2.81c.8-.78.8-2.07 0-2.86zM5.41 20L4 18.59l7.72-7.72 1.47 1.35L5.41 20z\"/>\n",
              "  </svg>\n",
              "      </button>\n",
              "      \n",
              "  <style>\n",
              "    .colab-df-container {\n",
              "      display:flex;\n",
              "      flex-wrap:wrap;\n",
              "      gap: 12px;\n",
              "    }\n",
              "\n",
              "    .colab-df-convert {\n",
              "      background-color: #E8F0FE;\n",
              "      border: none;\n",
              "      border-radius: 50%;\n",
              "      cursor: pointer;\n",
              "      display: none;\n",
              "      fill: #1967D2;\n",
              "      height: 32px;\n",
              "      padding: 0 0 0 0;\n",
              "      width: 32px;\n",
              "    }\n",
              "\n",
              "    .colab-df-convert:hover {\n",
              "      background-color: #E2EBFA;\n",
              "      box-shadow: 0px 1px 2px rgba(60, 64, 67, 0.3), 0px 1px 3px 1px rgba(60, 64, 67, 0.15);\n",
              "      fill: #174EA6;\n",
              "    }\n",
              "\n",
              "    [theme=dark] .colab-df-convert {\n",
              "      background-color: #3B4455;\n",
              "      fill: #D2E3FC;\n",
              "    }\n",
              "\n",
              "    [theme=dark] .colab-df-convert:hover {\n",
              "      background-color: #434B5C;\n",
              "      box-shadow: 0px 1px 3px 1px rgba(0, 0, 0, 0.15);\n",
              "      filter: drop-shadow(0px 1px 2px rgba(0, 0, 0, 0.3));\n",
              "      fill: #FFFFFF;\n",
              "    }\n",
              "  </style>\n",
              "\n",
              "      <script>\n",
              "        const buttonEl =\n",
              "          document.querySelector('#df-c92854e0-1f20-46fd-8ec7-0939f8e0474e button.colab-df-convert');\n",
              "        buttonEl.style.display =\n",
              "          google.colab.kernel.accessAllowed ? 'block' : 'none';\n",
              "\n",
              "        async function convertToInteractive(key) {\n",
              "          const element = document.querySelector('#df-c92854e0-1f20-46fd-8ec7-0939f8e0474e');\n",
              "          const dataTable =\n",
              "            await google.colab.kernel.invokeFunction('convertToInteractive',\n",
              "                                                     [key], {});\n",
              "          if (!dataTable) return;\n",
              "\n",
              "          const docLinkHtml = 'Like what you see? Visit the ' +\n",
              "            '<a target=\"_blank\" href=https://colab.research.google.com/notebooks/data_table.ipynb>data table notebook</a>'\n",
              "            + ' to learn more about interactive tables.';\n",
              "          element.innerHTML = '';\n",
              "          dataTable['output_type'] = 'display_data';\n",
              "          await google.colab.output.renderOutput(dataTable, element);\n",
              "          const docLink = document.createElement('div');\n",
              "          docLink.innerHTML = docLinkHtml;\n",
              "          element.appendChild(docLink);\n",
              "        }\n",
              "      </script>\n",
              "    </div>\n",
              "  </div>\n",
              "  "
            ]
          },
          "metadata": {},
          "execution_count": 28
        }
      ]
    },
    {
      "cell_type": "code",
      "source": [
        "# substituindo sim e não por 1 e 0\n",
        "df = df.replace(['Sim'], 1)\n",
        "df = df.replace(['Sim '], 1)\n",
        "df = df.replace([' Sim'], 1)\n",
        "df = df.replace(['sim'], 1)\n",
        "df = df.replace(['sim '], 1)\n",
        "df = df.replace([' sim'], 1)\n",
        "df = df.replace(['Não'], 0)\n",
        "df = df.replace(['Não '], 0)\n",
        "df = df.replace([' Não'], 0)\n",
        "df = df.replace(['não'], 0)\n",
        "df = df.replace(['não '], 0)\n",
        "df = df.replace([' não'], 0)\n"
      ],
      "metadata": {
        "id": "_tJuQ0ctw53e"
      },
      "execution_count": 29,
      "outputs": []
    },
    {
      "cell_type": "code",
      "source": [
        "df.head()"
      ],
      "metadata": {
        "colab": {
          "base_uri": "https://localhost:8080/",
          "height": 206
        },
        "id": "Q01NbGT2xZ2M",
        "outputId": "fc4148eb-0283-45ef-f4a4-c6a51b488bff"
      },
      "execution_count": 30,
      "outputs": [
        {
          "output_type": "execute_result",
          "data": {
            "text/plain": [
              "   Alternativo  Bar  Sex/Sab  Faminto Cliente Preço  Chove  Reserva Tipo  \\\n",
              "0            1    0        0        1     Alg   $$$      0        1  Fra   \n",
              "1            1    0        0        1     Che     $      0        0  Tai   \n",
              "2            0    1        0        0     Alg     $      0        0  Ham   \n",
              "3            1    0        1        1     Che     $      1        0  Tai   \n",
              "4            1    0        1        0     Che   $$$      0        1  Fra   \n",
              "\n",
              "  Espera  Meta  \n",
              "0   0-10     1  \n",
              "1  30-60     0  \n",
              "2   0-10     1  \n",
              "3  10-30     1  \n",
              "4    >60     0  "
            ],
            "text/html": [
              "\n",
              "  <div id=\"df-55f68b43-3a46-460f-9467-cfd5286a2482\">\n",
              "    <div class=\"colab-df-container\">\n",
              "      <div>\n",
              "<style scoped>\n",
              "    .dataframe tbody tr th:only-of-type {\n",
              "        vertical-align: middle;\n",
              "    }\n",
              "\n",
              "    .dataframe tbody tr th {\n",
              "        vertical-align: top;\n",
              "    }\n",
              "\n",
              "    .dataframe thead th {\n",
              "        text-align: right;\n",
              "    }\n",
              "</style>\n",
              "<table border=\"1\" class=\"dataframe\">\n",
              "  <thead>\n",
              "    <tr style=\"text-align: right;\">\n",
              "      <th></th>\n",
              "      <th>Alternativo</th>\n",
              "      <th>Bar</th>\n",
              "      <th>Sex/Sab</th>\n",
              "      <th>Faminto</th>\n",
              "      <th>Cliente</th>\n",
              "      <th>Preço</th>\n",
              "      <th>Chove</th>\n",
              "      <th>Reserva</th>\n",
              "      <th>Tipo</th>\n",
              "      <th>Espera</th>\n",
              "      <th>Meta</th>\n",
              "    </tr>\n",
              "  </thead>\n",
              "  <tbody>\n",
              "    <tr>\n",
              "      <th>0</th>\n",
              "      <td>1</td>\n",
              "      <td>0</td>\n",
              "      <td>0</td>\n",
              "      <td>1</td>\n",
              "      <td>Alg</td>\n",
              "      <td>$$$</td>\n",
              "      <td>0</td>\n",
              "      <td>1</td>\n",
              "      <td>Fra</td>\n",
              "      <td>0-10</td>\n",
              "      <td>1</td>\n",
              "    </tr>\n",
              "    <tr>\n",
              "      <th>1</th>\n",
              "      <td>1</td>\n",
              "      <td>0</td>\n",
              "      <td>0</td>\n",
              "      <td>1</td>\n",
              "      <td>Che</td>\n",
              "      <td>$</td>\n",
              "      <td>0</td>\n",
              "      <td>0</td>\n",
              "      <td>Tai</td>\n",
              "      <td>30-60</td>\n",
              "      <td>0</td>\n",
              "    </tr>\n",
              "    <tr>\n",
              "      <th>2</th>\n",
              "      <td>0</td>\n",
              "      <td>1</td>\n",
              "      <td>0</td>\n",
              "      <td>0</td>\n",
              "      <td>Alg</td>\n",
              "      <td>$</td>\n",
              "      <td>0</td>\n",
              "      <td>0</td>\n",
              "      <td>Ham</td>\n",
              "      <td>0-10</td>\n",
              "      <td>1</td>\n",
              "    </tr>\n",
              "    <tr>\n",
              "      <th>3</th>\n",
              "      <td>1</td>\n",
              "      <td>0</td>\n",
              "      <td>1</td>\n",
              "      <td>1</td>\n",
              "      <td>Che</td>\n",
              "      <td>$</td>\n",
              "      <td>1</td>\n",
              "      <td>0</td>\n",
              "      <td>Tai</td>\n",
              "      <td>10-30</td>\n",
              "      <td>1</td>\n",
              "    </tr>\n",
              "    <tr>\n",
              "      <th>4</th>\n",
              "      <td>1</td>\n",
              "      <td>0</td>\n",
              "      <td>1</td>\n",
              "      <td>0</td>\n",
              "      <td>Che</td>\n",
              "      <td>$$$</td>\n",
              "      <td>0</td>\n",
              "      <td>1</td>\n",
              "      <td>Fra</td>\n",
              "      <td>&gt;60</td>\n",
              "      <td>0</td>\n",
              "    </tr>\n",
              "  </tbody>\n",
              "</table>\n",
              "</div>\n",
              "      <button class=\"colab-df-convert\" onclick=\"convertToInteractive('df-55f68b43-3a46-460f-9467-cfd5286a2482')\"\n",
              "              title=\"Convert this dataframe to an interactive table.\"\n",
              "              style=\"display:none;\">\n",
              "        \n",
              "  <svg xmlns=\"http://www.w3.org/2000/svg\" height=\"24px\"viewBox=\"0 0 24 24\"\n",
              "       width=\"24px\">\n",
              "    <path d=\"M0 0h24v24H0V0z\" fill=\"none\"/>\n",
              "    <path d=\"M18.56 5.44l.94 2.06.94-2.06 2.06-.94-2.06-.94-.94-2.06-.94 2.06-2.06.94zm-11 1L8.5 8.5l.94-2.06 2.06-.94-2.06-.94L8.5 2.5l-.94 2.06-2.06.94zm10 10l.94 2.06.94-2.06 2.06-.94-2.06-.94-.94-2.06-.94 2.06-2.06.94z\"/><path d=\"M17.41 7.96l-1.37-1.37c-.4-.4-.92-.59-1.43-.59-.52 0-1.04.2-1.43.59L10.3 9.45l-7.72 7.72c-.78.78-.78 2.05 0 2.83L4 21.41c.39.39.9.59 1.41.59.51 0 1.02-.2 1.41-.59l7.78-7.78 2.81-2.81c.8-.78.8-2.07 0-2.86zM5.41 20L4 18.59l7.72-7.72 1.47 1.35L5.41 20z\"/>\n",
              "  </svg>\n",
              "      </button>\n",
              "      \n",
              "  <style>\n",
              "    .colab-df-container {\n",
              "      display:flex;\n",
              "      flex-wrap:wrap;\n",
              "      gap: 12px;\n",
              "    }\n",
              "\n",
              "    .colab-df-convert {\n",
              "      background-color: #E8F0FE;\n",
              "      border: none;\n",
              "      border-radius: 50%;\n",
              "      cursor: pointer;\n",
              "      display: none;\n",
              "      fill: #1967D2;\n",
              "      height: 32px;\n",
              "      padding: 0 0 0 0;\n",
              "      width: 32px;\n",
              "    }\n",
              "\n",
              "    .colab-df-convert:hover {\n",
              "      background-color: #E2EBFA;\n",
              "      box-shadow: 0px 1px 2px rgba(60, 64, 67, 0.3), 0px 1px 3px 1px rgba(60, 64, 67, 0.15);\n",
              "      fill: #174EA6;\n",
              "    }\n",
              "\n",
              "    [theme=dark] .colab-df-convert {\n",
              "      background-color: #3B4455;\n",
              "      fill: #D2E3FC;\n",
              "    }\n",
              "\n",
              "    [theme=dark] .colab-df-convert:hover {\n",
              "      background-color: #434B5C;\n",
              "      box-shadow: 0px 1px 3px 1px rgba(0, 0, 0, 0.15);\n",
              "      filter: drop-shadow(0px 1px 2px rgba(0, 0, 0, 0.3));\n",
              "      fill: #FFFFFF;\n",
              "    }\n",
              "  </style>\n",
              "\n",
              "      <script>\n",
              "        const buttonEl =\n",
              "          document.querySelector('#df-55f68b43-3a46-460f-9467-cfd5286a2482 button.colab-df-convert');\n",
              "        buttonEl.style.display =\n",
              "          google.colab.kernel.accessAllowed ? 'block' : 'none';\n",
              "\n",
              "        async function convertToInteractive(key) {\n",
              "          const element = document.querySelector('#df-55f68b43-3a46-460f-9467-cfd5286a2482');\n",
              "          const dataTable =\n",
              "            await google.colab.kernel.invokeFunction('convertToInteractive',\n",
              "                                                     [key], {});\n",
              "          if (!dataTable) return;\n",
              "\n",
              "          const docLinkHtml = 'Like what you see? Visit the ' +\n",
              "            '<a target=\"_blank\" href=https://colab.research.google.com/notebooks/data_table.ipynb>data table notebook</a>'\n",
              "            + ' to learn more about interactive tables.';\n",
              "          element.innerHTML = '';\n",
              "          dataTable['output_type'] = 'display_data';\n",
              "          await google.colab.output.renderOutput(dataTable, element);\n",
              "          const docLink = document.createElement('div');\n",
              "          docLink.innerHTML = docLinkHtml;\n",
              "          element.appendChild(docLink);\n",
              "        }\n",
              "      </script>\n",
              "    </div>\n",
              "  </div>\n",
              "  "
            ]
          },
          "metadata": {},
          "execution_count": 30
        }
      ]
    },
    {
      "cell_type": "code",
      "source": [
        "# converte string repetidas em valores numericos\n",
        "\n",
        "palavras = {}\n",
        "\n",
        "for coluna in df.columns:\n",
        "  if type(coluna) is str:\n",
        "    contador = df[coluna].unique()\n",
        "    total = len(contador)\n",
        "    mapeando = dict(zip(contador, range(total)))\n",
        "    palavras[coluna] = mapeando\n",
        "    df[coluna] = df[coluna].replace(mapeando)"
      ],
      "metadata": {
        "id": "vfwg3APB7aZH"
      },
      "execution_count": 31,
      "outputs": []
    },
    {
      "cell_type": "code",
      "source": [
        "df"
      ],
      "metadata": {
        "colab": {
          "base_uri": "https://localhost:8080/",
          "height": 426
        },
        "id": "-pE5S0X08C6q",
        "outputId": "4c2f2c52-17ad-4c28-d1d0-e724704bb6ee"
      },
      "execution_count": 32,
      "outputs": [
        {
          "output_type": "execute_result",
          "data": {
            "text/plain": [
              "    Alternativo  Bar  Sex/Sab  Faminto  Cliente  Preço  Chove  Reserva  Tipo  \\\n",
              "0             0    0        0        0        0      0      0        0     0   \n",
              "1             0    0        0        0        1      1      0        1     1   \n",
              "2             1    1        0        1        0      1      0        1     2   \n",
              "3             0    0        1        0        1      1      1        1     1   \n",
              "4             0    0        1        1        1      0      0        0     0   \n",
              "5             1    1        0        0        0      2      1        0     3   \n",
              "6             1    1        0        1        2      1      1        1     2   \n",
              "7             1    0        0        0        0      2      1        0     1   \n",
              "8             1    1        1        1        1      1      1        1     2   \n",
              "9             0    1        1        0        1      0      0        0     3   \n",
              "10            1    0        0        1        2      1      0        1     1   \n",
              "11            0    1        1        0        1      1      0        1     2   \n",
              "\n",
              "    Espera  Meta  \n",
              "0        0     0  \n",
              "1        1     1  \n",
              "2        0     0  \n",
              "3        2     0  \n",
              "4        3     1  \n",
              "5        0     0  \n",
              "6        0     1  \n",
              "7        0     0  \n",
              "8        3     1  \n",
              "9        2     1  \n",
              "10       0     1  \n",
              "11       1     0  "
            ],
            "text/html": [
              "\n",
              "  <div id=\"df-b3c5864b-7eda-4b43-a270-1af5dcf8a0d3\">\n",
              "    <div class=\"colab-df-container\">\n",
              "      <div>\n",
              "<style scoped>\n",
              "    .dataframe tbody tr th:only-of-type {\n",
              "        vertical-align: middle;\n",
              "    }\n",
              "\n",
              "    .dataframe tbody tr th {\n",
              "        vertical-align: top;\n",
              "    }\n",
              "\n",
              "    .dataframe thead th {\n",
              "        text-align: right;\n",
              "    }\n",
              "</style>\n",
              "<table border=\"1\" class=\"dataframe\">\n",
              "  <thead>\n",
              "    <tr style=\"text-align: right;\">\n",
              "      <th></th>\n",
              "      <th>Alternativo</th>\n",
              "      <th>Bar</th>\n",
              "      <th>Sex/Sab</th>\n",
              "      <th>Faminto</th>\n",
              "      <th>Cliente</th>\n",
              "      <th>Preço</th>\n",
              "      <th>Chove</th>\n",
              "      <th>Reserva</th>\n",
              "      <th>Tipo</th>\n",
              "      <th>Espera</th>\n",
              "      <th>Meta</th>\n",
              "    </tr>\n",
              "  </thead>\n",
              "  <tbody>\n",
              "    <tr>\n",
              "      <th>0</th>\n",
              "      <td>0</td>\n",
              "      <td>0</td>\n",
              "      <td>0</td>\n",
              "      <td>0</td>\n",
              "      <td>0</td>\n",
              "      <td>0</td>\n",
              "      <td>0</td>\n",
              "      <td>0</td>\n",
              "      <td>0</td>\n",
              "      <td>0</td>\n",
              "      <td>0</td>\n",
              "    </tr>\n",
              "    <tr>\n",
              "      <th>1</th>\n",
              "      <td>0</td>\n",
              "      <td>0</td>\n",
              "      <td>0</td>\n",
              "      <td>0</td>\n",
              "      <td>1</td>\n",
              "      <td>1</td>\n",
              "      <td>0</td>\n",
              "      <td>1</td>\n",
              "      <td>1</td>\n",
              "      <td>1</td>\n",
              "      <td>1</td>\n",
              "    </tr>\n",
              "    <tr>\n",
              "      <th>2</th>\n",
              "      <td>1</td>\n",
              "      <td>1</td>\n",
              "      <td>0</td>\n",
              "      <td>1</td>\n",
              "      <td>0</td>\n",
              "      <td>1</td>\n",
              "      <td>0</td>\n",
              "      <td>1</td>\n",
              "      <td>2</td>\n",
              "      <td>0</td>\n",
              "      <td>0</td>\n",
              "    </tr>\n",
              "    <tr>\n",
              "      <th>3</th>\n",
              "      <td>0</td>\n",
              "      <td>0</td>\n",
              "      <td>1</td>\n",
              "      <td>0</td>\n",
              "      <td>1</td>\n",
              "      <td>1</td>\n",
              "      <td>1</td>\n",
              "      <td>1</td>\n",
              "      <td>1</td>\n",
              "      <td>2</td>\n",
              "      <td>0</td>\n",
              "    </tr>\n",
              "    <tr>\n",
              "      <th>4</th>\n",
              "      <td>0</td>\n",
              "      <td>0</td>\n",
              "      <td>1</td>\n",
              "      <td>1</td>\n",
              "      <td>1</td>\n",
              "      <td>0</td>\n",
              "      <td>0</td>\n",
              "      <td>0</td>\n",
              "      <td>0</td>\n",
              "      <td>3</td>\n",
              "      <td>1</td>\n",
              "    </tr>\n",
              "    <tr>\n",
              "      <th>5</th>\n",
              "      <td>1</td>\n",
              "      <td>1</td>\n",
              "      <td>0</td>\n",
              "      <td>0</td>\n",
              "      <td>0</td>\n",
              "      <td>2</td>\n",
              "      <td>1</td>\n",
              "      <td>0</td>\n",
              "      <td>3</td>\n",
              "      <td>0</td>\n",
              "      <td>0</td>\n",
              "    </tr>\n",
              "    <tr>\n",
              "      <th>6</th>\n",
              "      <td>1</td>\n",
              "      <td>1</td>\n",
              "      <td>0</td>\n",
              "      <td>1</td>\n",
              "      <td>2</td>\n",
              "      <td>1</td>\n",
              "      <td>1</td>\n",
              "      <td>1</td>\n",
              "      <td>2</td>\n",
              "      <td>0</td>\n",
              "      <td>1</td>\n",
              "    </tr>\n",
              "    <tr>\n",
              "      <th>7</th>\n",
              "      <td>1</td>\n",
              "      <td>0</td>\n",
              "      <td>0</td>\n",
              "      <td>0</td>\n",
              "      <td>0</td>\n",
              "      <td>2</td>\n",
              "      <td>1</td>\n",
              "      <td>0</td>\n",
              "      <td>1</td>\n",
              "      <td>0</td>\n",
              "      <td>0</td>\n",
              "    </tr>\n",
              "    <tr>\n",
              "      <th>8</th>\n",
              "      <td>1</td>\n",
              "      <td>1</td>\n",
              "      <td>1</td>\n",
              "      <td>1</td>\n",
              "      <td>1</td>\n",
              "      <td>1</td>\n",
              "      <td>1</td>\n",
              "      <td>1</td>\n",
              "      <td>2</td>\n",
              "      <td>3</td>\n",
              "      <td>1</td>\n",
              "    </tr>\n",
              "    <tr>\n",
              "      <th>9</th>\n",
              "      <td>0</td>\n",
              "      <td>1</td>\n",
              "      <td>1</td>\n",
              "      <td>0</td>\n",
              "      <td>1</td>\n",
              "      <td>0</td>\n",
              "      <td>0</td>\n",
              "      <td>0</td>\n",
              "      <td>3</td>\n",
              "      <td>2</td>\n",
              "      <td>1</td>\n",
              "    </tr>\n",
              "    <tr>\n",
              "      <th>10</th>\n",
              "      <td>1</td>\n",
              "      <td>0</td>\n",
              "      <td>0</td>\n",
              "      <td>1</td>\n",
              "      <td>2</td>\n",
              "      <td>1</td>\n",
              "      <td>0</td>\n",
              "      <td>1</td>\n",
              "      <td>1</td>\n",
              "      <td>0</td>\n",
              "      <td>1</td>\n",
              "    </tr>\n",
              "    <tr>\n",
              "      <th>11</th>\n",
              "      <td>0</td>\n",
              "      <td>1</td>\n",
              "      <td>1</td>\n",
              "      <td>0</td>\n",
              "      <td>1</td>\n",
              "      <td>1</td>\n",
              "      <td>0</td>\n",
              "      <td>1</td>\n",
              "      <td>2</td>\n",
              "      <td>1</td>\n",
              "      <td>0</td>\n",
              "    </tr>\n",
              "  </tbody>\n",
              "</table>\n",
              "</div>\n",
              "      <button class=\"colab-df-convert\" onclick=\"convertToInteractive('df-b3c5864b-7eda-4b43-a270-1af5dcf8a0d3')\"\n",
              "              title=\"Convert this dataframe to an interactive table.\"\n",
              "              style=\"display:none;\">\n",
              "        \n",
              "  <svg xmlns=\"http://www.w3.org/2000/svg\" height=\"24px\"viewBox=\"0 0 24 24\"\n",
              "       width=\"24px\">\n",
              "    <path d=\"M0 0h24v24H0V0z\" fill=\"none\"/>\n",
              "    <path d=\"M18.56 5.44l.94 2.06.94-2.06 2.06-.94-2.06-.94-.94-2.06-.94 2.06-2.06.94zm-11 1L8.5 8.5l.94-2.06 2.06-.94-2.06-.94L8.5 2.5l-.94 2.06-2.06.94zm10 10l.94 2.06.94-2.06 2.06-.94-2.06-.94-.94-2.06-.94 2.06-2.06.94z\"/><path d=\"M17.41 7.96l-1.37-1.37c-.4-.4-.92-.59-1.43-.59-.52 0-1.04.2-1.43.59L10.3 9.45l-7.72 7.72c-.78.78-.78 2.05 0 2.83L4 21.41c.39.39.9.59 1.41.59.51 0 1.02-.2 1.41-.59l7.78-7.78 2.81-2.81c.8-.78.8-2.07 0-2.86zM5.41 20L4 18.59l7.72-7.72 1.47 1.35L5.41 20z\"/>\n",
              "  </svg>\n",
              "      </button>\n",
              "      \n",
              "  <style>\n",
              "    .colab-df-container {\n",
              "      display:flex;\n",
              "      flex-wrap:wrap;\n",
              "      gap: 12px;\n",
              "    }\n",
              "\n",
              "    .colab-df-convert {\n",
              "      background-color: #E8F0FE;\n",
              "      border: none;\n",
              "      border-radius: 50%;\n",
              "      cursor: pointer;\n",
              "      display: none;\n",
              "      fill: #1967D2;\n",
              "      height: 32px;\n",
              "      padding: 0 0 0 0;\n",
              "      width: 32px;\n",
              "    }\n",
              "\n",
              "    .colab-df-convert:hover {\n",
              "      background-color: #E2EBFA;\n",
              "      box-shadow: 0px 1px 2px rgba(60, 64, 67, 0.3), 0px 1px 3px 1px rgba(60, 64, 67, 0.15);\n",
              "      fill: #174EA6;\n",
              "    }\n",
              "\n",
              "    [theme=dark] .colab-df-convert {\n",
              "      background-color: #3B4455;\n",
              "      fill: #D2E3FC;\n",
              "    }\n",
              "\n",
              "    [theme=dark] .colab-df-convert:hover {\n",
              "      background-color: #434B5C;\n",
              "      box-shadow: 0px 1px 3px 1px rgba(0, 0, 0, 0.15);\n",
              "      filter: drop-shadow(0px 1px 2px rgba(0, 0, 0, 0.3));\n",
              "      fill: #FFFFFF;\n",
              "    }\n",
              "  </style>\n",
              "\n",
              "      <script>\n",
              "        const buttonEl =\n",
              "          document.querySelector('#df-b3c5864b-7eda-4b43-a270-1af5dcf8a0d3 button.colab-df-convert');\n",
              "        buttonEl.style.display =\n",
              "          google.colab.kernel.accessAllowed ? 'block' : 'none';\n",
              "\n",
              "        async function convertToInteractive(key) {\n",
              "          const element = document.querySelector('#df-b3c5864b-7eda-4b43-a270-1af5dcf8a0d3');\n",
              "          const dataTable =\n",
              "            await google.colab.kernel.invokeFunction('convertToInteractive',\n",
              "                                                     [key], {});\n",
              "          if (!dataTable) return;\n",
              "\n",
              "          const docLinkHtml = 'Like what you see? Visit the ' +\n",
              "            '<a target=\"_blank\" href=https://colab.research.google.com/notebooks/data_table.ipynb>data table notebook</a>'\n",
              "            + ' to learn more about interactive tables.';\n",
              "          element.innerHTML = '';\n",
              "          dataTable['output_type'] = 'display_data';\n",
              "          await google.colab.output.renderOutput(dataTable, element);\n",
              "          const docLink = document.createElement('div');\n",
              "          docLink.innerHTML = docLinkHtml;\n",
              "          element.appendChild(docLink);\n",
              "        }\n",
              "      </script>\n",
              "    </div>\n",
              "  </div>\n",
              "  "
            ]
          },
          "metadata": {},
          "execution_count": 32
        }
      ]
    },
    {
      "cell_type": "code",
      "source": [
        "# normalizando o formato de X e Y para que possam ser comparados\n",
        "X = df[df.columns[:-1]].values\n",
        "y = df[df.columns[-1]].values"
      ],
      "metadata": {
        "id": "kksetLav8OT2"
      },
      "execution_count": 33,
      "outputs": []
    },
    {
      "cell_type": "code",
      "source": [
        "# Mostrando o formato\n",
        "X.shape, y.shape"
      ],
      "metadata": {
        "colab": {
          "base_uri": "https://localhost:8080/"
        },
        "id": "Ke8lhB2J8QtT",
        "outputId": "71212e77-2153-464a-f505-cbc8187a8c2e"
      },
      "execution_count": 34,
      "outputs": [
        {
          "output_type": "execute_result",
          "data": {
            "text/plain": [
              "((12, 10), (12,))"
            ]
          },
          "metadata": {},
          "execution_count": 34
        }
      ]
    },
    {
      "cell_type": "code",
      "source": [
        "# normalizando o formato de X e Y para que possam ser comparados parte 2\n",
        "scaler = StandardScaler()\n",
        "X = scaler.fit_transform(X)\n",
        "data = np.hstack((X, np.reshape(y, (-1, 1))))\n",
        "transformed_df = pd.DataFrame(data, columns=df.columns)"
      ],
      "metadata": {
        "id": "WqB3iSMw8R7f"
      },
      "execution_count": 35,
      "outputs": []
    },
    {
      "cell_type": "code",
      "source": [
        "# normalizando o formato de X e Y para que possam ser comparados parte 3\n",
        "over = RandomOverSampler()\n",
        "X, y = over.fit_resample(X, y)\n",
        "data = np.hstack((X, np.reshape(y, (-1, 1))))\n",
        "transformed_df = pd.DataFrame(data, columns=df.columns)"
      ],
      "metadata": {
        "id": "mjHXBzcl8TLI"
      },
      "execution_count": 36,
      "outputs": []
    },
    {
      "cell_type": "code",
      "source": [
        "# dispozição dos valores do meta sim,não ou 1,0\n",
        "len(transformed_df[transformed_df[\"Meta\"]==1]), len(transformed_df[transformed_df[\"Meta\"]==0])"
      ],
      "metadata": {
        "colab": {
          "base_uri": "https://localhost:8080/"
        },
        "id": "267djDsk8U9N",
        "outputId": "cc17d609-8ecc-4707-c0ff-7ee78ffc6c3f"
      },
      "execution_count": 37,
      "outputs": [
        {
          "output_type": "execute_result",
          "data": {
            "text/plain": [
              "(6, 6)"
            ]
          },
          "metadata": {},
          "execution_count": 37
        }
      ]
    },
    {
      "cell_type": "code",
      "source": [
        "# determinando os treinamentos\n",
        "X_train, X_temp, y_train, y_temp = train_test_split(X, y, test_size=0.4, random_state=0)\n",
        "X_valid, X_test, y_valid, y_test = train_test_split(X_temp, y_temp, test_size=0.5, random_state=0)"
      ],
      "metadata": {
        "id": "P8Koquul8k8I"
      },
      "execution_count": 38,
      "outputs": []
    },
    {
      "cell_type": "code",
      "source": [
        "# definindo a quantidade de camadas e metodo\n",
        "model = tf.keras.Sequential([\n",
        "                             tf.keras.layers.Dense(24, activation='relu'), # if x <= 0 --> 0, x > 0 --> x\n",
        "                             tf.keras.layers.Dense(16, activation='relu'),\n",
        "                             tf.keras.layers.Dense(16, activation='relu'),\n",
        "                             tf.keras.layers.Dense(1, activation=\"sigmoid\")\n",
        "])"
      ],
      "metadata": {
        "id": "evQssdmb8Xs4"
      },
      "execution_count": 39,
      "outputs": []
    },
    {
      "cell_type": "code",
      "source": [
        "# mais alguns parametros e a taxa de aprendizagem\n",
        "model.compile(optimizer=tf.keras.optimizers.Adam(learning_rate=0.001),\n",
        "              loss=tf.keras.losses.BinaryCrossentropy(),\n",
        "              metrics=['accuracy'])"
      ],
      "metadata": {
        "id": "7ETLWcDI8Y3m"
      },
      "execution_count": 40,
      "outputs": []
    },
    {
      "cell_type": "code",
      "source": [
        "# pré avaliação com variaveis de treino\n",
        "model.evaluate(X_train, y_train)"
      ],
      "metadata": {
        "colab": {
          "base_uri": "https://localhost:8080/"
        },
        "id": "VHFYiLS28Zw9",
        "outputId": "4aacb567-99b8-4649-cd27-b048ca343564"
      },
      "execution_count": 41,
      "outputs": [
        {
          "output_type": "stream",
          "name": "stdout",
          "text": [
            "1/1 [==============================] - 0s 406ms/step - loss: 0.7376 - accuracy: 0.5714\n"
          ]
        },
        {
          "output_type": "execute_result",
          "data": {
            "text/plain": [
              "[0.7376202940940857, 0.5714285969734192]"
            ]
          },
          "metadata": {},
          "execution_count": 41
        }
      ]
    },
    {
      "cell_type": "code",
      "source": [
        "# pré avaliação 2\n",
        "model.evaluate(X_valid, y_valid)"
      ],
      "metadata": {
        "colab": {
          "base_uri": "https://localhost:8080/"
        },
        "id": "CSdo_mK-8a5p",
        "outputId": "509cc385-6437-4fd0-9038-1778c01efac7"
      },
      "execution_count": 42,
      "outputs": [
        {
          "output_type": "stream",
          "name": "stdout",
          "text": [
            "1/1 [==============================] - 0s 20ms/step - loss: 0.7848 - accuracy: 0.0000e+00\n"
          ]
        },
        {
          "output_type": "execute_result",
          "data": {
            "text/plain": [
              "[0.784773588180542, 0.0]"
            ]
          },
          "metadata": {},
          "execution_count": 42
        }
      ]
    },
    {
      "cell_type": "code",
      "source": [
        "# treinamento\n",
        "model.fit(X_train, y_train, batch_size=8, epochs=40, validation_data=(X_valid, y_valid))"
      ],
      "metadata": {
        "colab": {
          "base_uri": "https://localhost:8080/"
        },
        "id": "FXfV9IPc8nyA",
        "outputId": "c8937501-76ce-422c-93ac-bd11554105dc"
      },
      "execution_count": 43,
      "outputs": [
        {
          "output_type": "stream",
          "name": "stdout",
          "text": [
            "Epoch 1/40\n",
            "1/1 [==============================] - 1s 673ms/step - loss: 0.7376 - accuracy: 0.5714 - val_loss: 0.7825 - val_accuracy: 0.0000e+00\n",
            "Epoch 2/40\n",
            "1/1 [==============================] - 0s 32ms/step - loss: 0.7260 - accuracy: 0.5714 - val_loss: 0.7798 - val_accuracy: 0.0000e+00\n",
            "Epoch 3/40\n",
            "1/1 [==============================] - 0s 36ms/step - loss: 0.7148 - accuracy: 0.5714 - val_loss: 0.7771 - val_accuracy: 0.0000e+00\n",
            "Epoch 4/40\n",
            "1/1 [==============================] - 0s 33ms/step - loss: 0.7037 - accuracy: 0.5714 - val_loss: 0.7745 - val_accuracy: 0.0000e+00\n",
            "Epoch 5/40\n",
            "1/1 [==============================] - 0s 32ms/step - loss: 0.6928 - accuracy: 0.5714 - val_loss: 0.7722 - val_accuracy: 0.0000e+00\n",
            "Epoch 6/40\n",
            "1/1 [==============================] - 0s 30ms/step - loss: 0.6827 - accuracy: 0.5714 - val_loss: 0.7701 - val_accuracy: 0.0000e+00\n",
            "Epoch 7/40\n",
            "1/1 [==============================] - 0s 60ms/step - loss: 0.6729 - accuracy: 0.5714 - val_loss: 0.7680 - val_accuracy: 0.0000e+00\n",
            "Epoch 8/40\n",
            "1/1 [==============================] - 0s 47ms/step - loss: 0.6640 - accuracy: 0.5714 - val_loss: 0.7659 - val_accuracy: 0.0000e+00\n",
            "Epoch 9/40\n",
            "1/1 [==============================] - 0s 84ms/step - loss: 0.6555 - accuracy: 0.5714 - val_loss: 0.7640 - val_accuracy: 0.0000e+00\n",
            "Epoch 10/40\n",
            "1/1 [==============================] - 0s 44ms/step - loss: 0.6474 - accuracy: 0.5714 - val_loss: 0.7620 - val_accuracy: 0.0000e+00\n",
            "Epoch 11/40\n",
            "1/1 [==============================] - 0s 38ms/step - loss: 0.6385 - accuracy: 0.5714 - val_loss: 0.7603 - val_accuracy: 0.0000e+00\n",
            "Epoch 12/40\n",
            "1/1 [==============================] - 0s 58ms/step - loss: 0.6296 - accuracy: 0.5714 - val_loss: 0.7587 - val_accuracy: 0.0000e+00\n",
            "Epoch 13/40\n",
            "1/1 [==============================] - 0s 29ms/step - loss: 0.6206 - accuracy: 0.5714 - val_loss: 0.7573 - val_accuracy: 0.0000e+00\n",
            "Epoch 14/40\n",
            "1/1 [==============================] - 0s 37ms/step - loss: 0.6117 - accuracy: 0.7143 - val_loss: 0.7559 - val_accuracy: 0.0000e+00\n",
            "Epoch 15/40\n",
            "1/1 [==============================] - 0s 34ms/step - loss: 0.6031 - accuracy: 0.7143 - val_loss: 0.7546 - val_accuracy: 0.0000e+00\n",
            "Epoch 16/40\n",
            "1/1 [==============================] - 0s 34ms/step - loss: 0.5946 - accuracy: 0.7143 - val_loss: 0.7534 - val_accuracy: 0.0000e+00\n",
            "Epoch 17/40\n",
            "1/1 [==============================] - 0s 34ms/step - loss: 0.5863 - accuracy: 0.7143 - val_loss: 0.7526 - val_accuracy: 0.0000e+00\n",
            "Epoch 18/40\n",
            "1/1 [==============================] - 0s 38ms/step - loss: 0.5782 - accuracy: 0.7143 - val_loss: 0.7519 - val_accuracy: 0.0000e+00\n",
            "Epoch 19/40\n",
            "1/1 [==============================] - 0s 34ms/step - loss: 0.5701 - accuracy: 0.7143 - val_loss: 0.7514 - val_accuracy: 0.0000e+00\n",
            "Epoch 20/40\n",
            "1/1 [==============================] - 0s 30ms/step - loss: 0.5619 - accuracy: 0.7143 - val_loss: 0.7510 - val_accuracy: 0.0000e+00\n",
            "Epoch 21/40\n",
            "1/1 [==============================] - 0s 35ms/step - loss: 0.5539 - accuracy: 0.7143 - val_loss: 0.7506 - val_accuracy: 0.0000e+00\n",
            "Epoch 22/40\n",
            "1/1 [==============================] - 0s 40ms/step - loss: 0.5460 - accuracy: 0.7143 - val_loss: 0.7502 - val_accuracy: 0.0000e+00\n",
            "Epoch 23/40\n",
            "1/1 [==============================] - 0s 31ms/step - loss: 0.5383 - accuracy: 0.7143 - val_loss: 0.7498 - val_accuracy: 0.0000e+00\n",
            "Epoch 24/40\n",
            "1/1 [==============================] - 0s 30ms/step - loss: 0.5310 - accuracy: 0.7143 - val_loss: 0.7495 - val_accuracy: 0.0000e+00\n",
            "Epoch 25/40\n",
            "1/1 [==============================] - 0s 34ms/step - loss: 0.5236 - accuracy: 0.7143 - val_loss: 0.7491 - val_accuracy: 0.0000e+00\n",
            "Epoch 26/40\n",
            "1/1 [==============================] - 0s 39ms/step - loss: 0.5164 - accuracy: 0.7143 - val_loss: 0.7489 - val_accuracy: 0.0000e+00\n",
            "Epoch 27/40\n",
            "1/1 [==============================] - 0s 33ms/step - loss: 0.5095 - accuracy: 0.7143 - val_loss: 0.7487 - val_accuracy: 0.0000e+00\n",
            "Epoch 28/40\n",
            "1/1 [==============================] - 0s 30ms/step - loss: 0.5027 - accuracy: 0.7143 - val_loss: 0.7491 - val_accuracy: 0.0000e+00\n",
            "Epoch 29/40\n",
            "1/1 [==============================] - 0s 31ms/step - loss: 0.4959 - accuracy: 0.7143 - val_loss: 0.7491 - val_accuracy: 0.0000e+00\n",
            "Epoch 30/40\n",
            "1/1 [==============================] - 0s 35ms/step - loss: 0.4893 - accuracy: 0.7143 - val_loss: 0.7490 - val_accuracy: 0.0000e+00\n",
            "Epoch 31/40\n",
            "1/1 [==============================] - 0s 30ms/step - loss: 0.4827 - accuracy: 0.7143 - val_loss: 0.7491 - val_accuracy: 0.0000e+00\n",
            "Epoch 32/40\n",
            "1/1 [==============================] - 0s 32ms/step - loss: 0.4762 - accuracy: 0.7143 - val_loss: 0.7497 - val_accuracy: 0.0000e+00\n",
            "Epoch 33/40\n",
            "1/1 [==============================] - 0s 32ms/step - loss: 0.4696 - accuracy: 0.7143 - val_loss: 0.7505 - val_accuracy: 0.0000e+00\n",
            "Epoch 34/40\n",
            "1/1 [==============================] - 0s 32ms/step - loss: 0.4630 - accuracy: 0.7143 - val_loss: 0.7513 - val_accuracy: 0.0000e+00\n",
            "Epoch 35/40\n",
            "1/1 [==============================] - 0s 31ms/step - loss: 0.4568 - accuracy: 0.7143 - val_loss: 0.7522 - val_accuracy: 0.0000e+00\n",
            "Epoch 36/40\n",
            "1/1 [==============================] - 0s 30ms/step - loss: 0.4505 - accuracy: 0.7143 - val_loss: 0.7532 - val_accuracy: 0.0000e+00\n",
            "Epoch 37/40\n",
            "1/1 [==============================] - 0s 30ms/step - loss: 0.4443 - accuracy: 0.7143 - val_loss: 0.7541 - val_accuracy: 0.0000e+00\n",
            "Epoch 38/40\n",
            "1/1 [==============================] - 0s 33ms/step - loss: 0.4382 - accuracy: 0.7143 - val_loss: 0.7550 - val_accuracy: 0.0000e+00\n",
            "Epoch 39/40\n",
            "1/1 [==============================] - 0s 32ms/step - loss: 0.4319 - accuracy: 1.0000 - val_loss: 0.7558 - val_accuracy: 0.0000e+00\n",
            "Epoch 40/40\n",
            "1/1 [==============================] - 0s 30ms/step - loss: 0.4259 - accuracy: 1.0000 - val_loss: 0.7565 - val_accuracy: 0.0000e+00\n"
          ]
        },
        {
          "output_type": "execute_result",
          "data": {
            "text/plain": [
              "<keras.callbacks.History at 0x7f41cc708d90>"
            ]
          },
          "metadata": {},
          "execution_count": 43
        }
      ]
    },
    {
      "cell_type": "code",
      "source": [
        "# avaliação com as variaveis separadas para teste\n",
        "model.evaluate(X_test, y_test)"
      ],
      "metadata": {
        "colab": {
          "base_uri": "https://localhost:8080/"
        },
        "id": "dHFFyjzo8qkl",
        "outputId": "63134107-7848-49fb-eac7-763b9e5609a0"
      },
      "execution_count": 44,
      "outputs": [
        {
          "output_type": "stream",
          "name": "stdout",
          "text": [
            "1/1 [==============================] - 0s 30ms/step - loss: 0.8307 - accuracy: 0.3333\n"
          ]
        },
        {
          "output_type": "execute_result",
          "data": {
            "text/plain": [
              "[0.8307296633720398, 0.3333333432674408]"
            ]
          },
          "metadata": {},
          "execution_count": 44
        }
      ]
    },
    {
      "cell_type": "code",
      "source": [
        "# avaliação com todos os elementos\n",
        "model.evaluate(X, y)"
      ],
      "metadata": {
        "colab": {
          "base_uri": "https://localhost:8080/"
        },
        "id": "COr5_Xjd8rzJ",
        "outputId": "5da3993f-b638-4763-95d9-36b13cab288f"
      },
      "execution_count": 45,
      "outputs": [
        {
          "output_type": "stream",
          "name": "stdout",
          "text": [
            "1/1 [==============================] - 0s 24ms/step - loss: 0.5787 - accuracy: 0.6667\n"
          ]
        },
        {
          "output_type": "execute_result",
          "data": {
            "text/plain": [
              "[0.5786976218223572, 0.6666666865348816]"
            ]
          },
          "metadata": {},
          "execution_count": 45
        }
      ]
    }
  ]
}