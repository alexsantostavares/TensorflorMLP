{
  "nbformat": 4,
  "nbformat_minor": 0,
  "metadata": {
    "colab": {
      "provenance": [],
      "mount_file_id": "1kg1qy78V6v0dm6u3oPFIEZ3sDpaQ_nCr",
      "authorship_tag": "ABX9TyNz5ZKoQK39lQkAyceCz/Tv",
      "include_colab_link": true
    },
    "kernelspec": {
      "name": "python3",
      "display_name": "Python 3"
    },
    "language_info": {
      "name": "python"
    }
  },
  "cells": [
    {
      "cell_type": "markdown",
      "metadata": {
        "id": "view-in-github",
        "colab_type": "text"
      },
      "source": [
        "<a href=\"https://colab.research.google.com/github/alexsantostavares/TensorflowMLP/blob/master/TensorFlowMLPFinal.ipynb\" target=\"_parent\"><img src=\"https://colab.research.google.com/assets/colab-badge.svg\" alt=\"Open In Colab\"/></a>"
      ]
    },
    {
      "cell_type": "code",
      "execution_count": null,
      "metadata": {
        "colab": {
          "base_uri": "https://localhost:8080/"
        },
        "id": "oFJj7mdAhLQX",
        "outputId": "3d20a9a7-976b-4a26-b841-cc450158ba36"
      },
      "outputs": [
        {
          "output_type": "stream",
          "name": "stdout",
          "text": [
            "Looking in indexes: https://pypi.org/simple, https://us-python.pkg.dev/colab-wheels/public/simple/\n",
            "Requirement already satisfied: imbalanced-learn in /usr/local/lib/python3.8/dist-packages (0.9.1)\n",
            "Requirement already satisfied: joblib>=1.0.0 in /usr/local/lib/python3.8/dist-packages (from imbalanced-learn) (1.2.0)\n",
            "Requirement already satisfied: scipy>=1.3.2 in /usr/local/lib/python3.8/dist-packages (from imbalanced-learn) (1.7.3)\n",
            "Requirement already satisfied: threadpoolctl>=2.0.0 in /usr/local/lib/python3.8/dist-packages (from imbalanced-learn) (3.1.0)\n",
            "Requirement already satisfied: numpy>=1.17.3 in /usr/local/lib/python3.8/dist-packages (from imbalanced-learn) (1.21.6)\n",
            "Requirement already satisfied: scikit-learn>=1.1.0 in /usr/local/lib/python3.8/dist-packages (from imbalanced-learn) (1.1.3)\n"
          ]
        }
      ],
      "source": [
        "# garantir que seja instalado recurso utilizado\n",
        "!pip install -U imbalanced-learn"
      ]
    },
    {
      "cell_type": "code",
      "source": [
        "from google.colab import drive\n",
        "drive.mount('/content/drive')"
      ],
      "metadata": {
        "colab": {
          "base_uri": "https://localhost:8080/"
        },
        "id": "p9ReVyNFsl4N",
        "outputId": "c16b0624-0781-4559-f54c-f241de7cf707"
      },
      "execution_count": null,
      "outputs": [
        {
          "output_type": "stream",
          "name": "stdout",
          "text": [
            "Drive already mounted at /content/drive; to attempt to forcibly remount, call drive.mount(\"/content/drive\", force_remount=True).\n"
          ]
        }
      ]
    },
    {
      "cell_type": "code",
      "source": [
        "#importando todas as bibliotecas\n",
        "import numpy as np\n",
        "import pandas as pd\n",
        "import matplotlib.pyplot as plt\n",
        "from sklearn.model_selection import train_test_split\n",
        "from sklearn.preprocessing import StandardScaler\n",
        "import tensorflow as tf\n",
        "from imblearn.over_sampling import RandomOverSampler\n",
        "import sys\n",
        "import csv"
      ],
      "metadata": {
        "id": "SU22PPAthzWi"
      },
      "execution_count": null,
      "outputs": []
    },
    {
      "cell_type": "code",
      "source": [
        "#leitura do arquivo csv\n",
        "df = pd.read_csv(\"/content/drive/MyDrive/Base/BD-2trab(CSV) (1).csv\")"
      ],
      "metadata": {
        "id": "UGvA3qsRh1kw"
      },
      "execution_count": null,
      "outputs": []
    },
    {
      "cell_type": "code",
      "source": [
        "df"
      ],
      "metadata": {
        "colab": {
          "base_uri": "https://localhost:8080/",
          "height": 470
        },
        "id": "Y8eux3Bvzae6",
        "outputId": "13e69b8a-6a43-4762-ae66-44b77aa740b7"
      },
      "execution_count": null,
      "outputs": [
        {
          "output_type": "execute_result",
          "data": {
            "text/plain": [
              "   Alternativo  Bar Sex/Sab Faminto Cliente Preço Chove Reserva Tipo Espera  \\\n",
              "0          Sim  Não     Não     Sim     Alg   $$$   Não     Sim  Fra   0-10   \n",
              "1          Sim  Não     Não     Sim     Che     $   Não     Não  Tai  30-60   \n",
              "2          Não  Sim     Não     Não     Alg     $   Não     Não  Ham   0-10   \n",
              "3          Sim  Não     Sim     Sim     Che     $   Sim     Não  Tai  10-30   \n",
              "4          Sim  Não     Sim     Não     Che   $$$   Não     Sim  Fra    >60   \n",
              "5          Não  Sim     Não     Sim     Alg    $$   Sim     Sim  Ita   0-10   \n",
              "6          Não  Sim     Não     Não      Ne     $   Sim     Não  Ham   0-10   \n",
              "7          Não  Não     Não     Sim     Alg    $$   Sim     Sim  Tai   0-10   \n",
              "8          Não  Sim     Sim     Não     Che     $   Sim     Não  Ham    >60   \n",
              "9          Sim  Sim     Sim     Sim     Che   $$$   Não     Sim  Ita  10-30   \n",
              "10         Não  Não     Não     Não      Ne     $   Não     Não  Tai   0-10   \n",
              "11         Sim  Sim     Sim     Sim     Che     $   Não     Não  Ham  30-60   \n",
              "\n",
              "    Meta  \n",
              "0    Sim  \n",
              "1    Não  \n",
              "2   Sim   \n",
              "3    Sim  \n",
              "4    Não  \n",
              "5    Sim  \n",
              "6    Não  \n",
              "7    Sim  \n",
              "8    Não  \n",
              "9    Não  \n",
              "10   Não  \n",
              "11   Sim  "
            ],
            "text/html": [
              "\n",
              "  <div id=\"df-821ab545-502c-43a5-aa36-3fd34a09bdcd\">\n",
              "    <div class=\"colab-df-container\">\n",
              "      <div>\n",
              "<style scoped>\n",
              "    .dataframe tbody tr th:only-of-type {\n",
              "        vertical-align: middle;\n",
              "    }\n",
              "\n",
              "    .dataframe tbody tr th {\n",
              "        vertical-align: top;\n",
              "    }\n",
              "\n",
              "    .dataframe thead th {\n",
              "        text-align: right;\n",
              "    }\n",
              "</style>\n",
              "<table border=\"1\" class=\"dataframe\">\n",
              "  <thead>\n",
              "    <tr style=\"text-align: right;\">\n",
              "      <th></th>\n",
              "      <th>Alternativo</th>\n",
              "      <th>Bar</th>\n",
              "      <th>Sex/Sab</th>\n",
              "      <th>Faminto</th>\n",
              "      <th>Cliente</th>\n",
              "      <th>Preço</th>\n",
              "      <th>Chove</th>\n",
              "      <th>Reserva</th>\n",
              "      <th>Tipo</th>\n",
              "      <th>Espera</th>\n",
              "      <th>Meta</th>\n",
              "    </tr>\n",
              "  </thead>\n",
              "  <tbody>\n",
              "    <tr>\n",
              "      <th>0</th>\n",
              "      <td>Sim</td>\n",
              "      <td>Não</td>\n",
              "      <td>Não</td>\n",
              "      <td>Sim</td>\n",
              "      <td>Alg</td>\n",
              "      <td>$$$</td>\n",
              "      <td>Não</td>\n",
              "      <td>Sim</td>\n",
              "      <td>Fra</td>\n",
              "      <td>0-10</td>\n",
              "      <td>Sim</td>\n",
              "    </tr>\n",
              "    <tr>\n",
              "      <th>1</th>\n",
              "      <td>Sim</td>\n",
              "      <td>Não</td>\n",
              "      <td>Não</td>\n",
              "      <td>Sim</td>\n",
              "      <td>Che</td>\n",
              "      <td>$</td>\n",
              "      <td>Não</td>\n",
              "      <td>Não</td>\n",
              "      <td>Tai</td>\n",
              "      <td>30-60</td>\n",
              "      <td>Não</td>\n",
              "    </tr>\n",
              "    <tr>\n",
              "      <th>2</th>\n",
              "      <td>Não</td>\n",
              "      <td>Sim</td>\n",
              "      <td>Não</td>\n",
              "      <td>Não</td>\n",
              "      <td>Alg</td>\n",
              "      <td>$</td>\n",
              "      <td>Não</td>\n",
              "      <td>Não</td>\n",
              "      <td>Ham</td>\n",
              "      <td>0-10</td>\n",
              "      <td>Sim</td>\n",
              "    </tr>\n",
              "    <tr>\n",
              "      <th>3</th>\n",
              "      <td>Sim</td>\n",
              "      <td>Não</td>\n",
              "      <td>Sim</td>\n",
              "      <td>Sim</td>\n",
              "      <td>Che</td>\n",
              "      <td>$</td>\n",
              "      <td>Sim</td>\n",
              "      <td>Não</td>\n",
              "      <td>Tai</td>\n",
              "      <td>10-30</td>\n",
              "      <td>Sim</td>\n",
              "    </tr>\n",
              "    <tr>\n",
              "      <th>4</th>\n",
              "      <td>Sim</td>\n",
              "      <td>Não</td>\n",
              "      <td>Sim</td>\n",
              "      <td>Não</td>\n",
              "      <td>Che</td>\n",
              "      <td>$$$</td>\n",
              "      <td>Não</td>\n",
              "      <td>Sim</td>\n",
              "      <td>Fra</td>\n",
              "      <td>&gt;60</td>\n",
              "      <td>Não</td>\n",
              "    </tr>\n",
              "    <tr>\n",
              "      <th>5</th>\n",
              "      <td>Não</td>\n",
              "      <td>Sim</td>\n",
              "      <td>Não</td>\n",
              "      <td>Sim</td>\n",
              "      <td>Alg</td>\n",
              "      <td>$$</td>\n",
              "      <td>Sim</td>\n",
              "      <td>Sim</td>\n",
              "      <td>Ita</td>\n",
              "      <td>0-10</td>\n",
              "      <td>Sim</td>\n",
              "    </tr>\n",
              "    <tr>\n",
              "      <th>6</th>\n",
              "      <td>Não</td>\n",
              "      <td>Sim</td>\n",
              "      <td>Não</td>\n",
              "      <td>Não</td>\n",
              "      <td>Ne</td>\n",
              "      <td>$</td>\n",
              "      <td>Sim</td>\n",
              "      <td>Não</td>\n",
              "      <td>Ham</td>\n",
              "      <td>0-10</td>\n",
              "      <td>Não</td>\n",
              "    </tr>\n",
              "    <tr>\n",
              "      <th>7</th>\n",
              "      <td>Não</td>\n",
              "      <td>Não</td>\n",
              "      <td>Não</td>\n",
              "      <td>Sim</td>\n",
              "      <td>Alg</td>\n",
              "      <td>$$</td>\n",
              "      <td>Sim</td>\n",
              "      <td>Sim</td>\n",
              "      <td>Tai</td>\n",
              "      <td>0-10</td>\n",
              "      <td>Sim</td>\n",
              "    </tr>\n",
              "    <tr>\n",
              "      <th>8</th>\n",
              "      <td>Não</td>\n",
              "      <td>Sim</td>\n",
              "      <td>Sim</td>\n",
              "      <td>Não</td>\n",
              "      <td>Che</td>\n",
              "      <td>$</td>\n",
              "      <td>Sim</td>\n",
              "      <td>Não</td>\n",
              "      <td>Ham</td>\n",
              "      <td>&gt;60</td>\n",
              "      <td>Não</td>\n",
              "    </tr>\n",
              "    <tr>\n",
              "      <th>9</th>\n",
              "      <td>Sim</td>\n",
              "      <td>Sim</td>\n",
              "      <td>Sim</td>\n",
              "      <td>Sim</td>\n",
              "      <td>Che</td>\n",
              "      <td>$$$</td>\n",
              "      <td>Não</td>\n",
              "      <td>Sim</td>\n",
              "      <td>Ita</td>\n",
              "      <td>10-30</td>\n",
              "      <td>Não</td>\n",
              "    </tr>\n",
              "    <tr>\n",
              "      <th>10</th>\n",
              "      <td>Não</td>\n",
              "      <td>Não</td>\n",
              "      <td>Não</td>\n",
              "      <td>Não</td>\n",
              "      <td>Ne</td>\n",
              "      <td>$</td>\n",
              "      <td>Não</td>\n",
              "      <td>Não</td>\n",
              "      <td>Tai</td>\n",
              "      <td>0-10</td>\n",
              "      <td>Não</td>\n",
              "    </tr>\n",
              "    <tr>\n",
              "      <th>11</th>\n",
              "      <td>Sim</td>\n",
              "      <td>Sim</td>\n",
              "      <td>Sim</td>\n",
              "      <td>Sim</td>\n",
              "      <td>Che</td>\n",
              "      <td>$</td>\n",
              "      <td>Não</td>\n",
              "      <td>Não</td>\n",
              "      <td>Ham</td>\n",
              "      <td>30-60</td>\n",
              "      <td>Sim</td>\n",
              "    </tr>\n",
              "  </tbody>\n",
              "</table>\n",
              "</div>\n",
              "      <button class=\"colab-df-convert\" onclick=\"convertToInteractive('df-821ab545-502c-43a5-aa36-3fd34a09bdcd')\"\n",
              "              title=\"Convert this dataframe to an interactive table.\"\n",
              "              style=\"display:none;\">\n",
              "        \n",
              "  <svg xmlns=\"http://www.w3.org/2000/svg\" height=\"24px\"viewBox=\"0 0 24 24\"\n",
              "       width=\"24px\">\n",
              "    <path d=\"M0 0h24v24H0V0z\" fill=\"none\"/>\n",
              "    <path d=\"M18.56 5.44l.94 2.06.94-2.06 2.06-.94-2.06-.94-.94-2.06-.94 2.06-2.06.94zm-11 1L8.5 8.5l.94-2.06 2.06-.94-2.06-.94L8.5 2.5l-.94 2.06-2.06.94zm10 10l.94 2.06.94-2.06 2.06-.94-2.06-.94-.94-2.06-.94 2.06-2.06.94z\"/><path d=\"M17.41 7.96l-1.37-1.37c-.4-.4-.92-.59-1.43-.59-.52 0-1.04.2-1.43.59L10.3 9.45l-7.72 7.72c-.78.78-.78 2.05 0 2.83L4 21.41c.39.39.9.59 1.41.59.51 0 1.02-.2 1.41-.59l7.78-7.78 2.81-2.81c.8-.78.8-2.07 0-2.86zM5.41 20L4 18.59l7.72-7.72 1.47 1.35L5.41 20z\"/>\n",
              "  </svg>\n",
              "      </button>\n",
              "      \n",
              "  <style>\n",
              "    .colab-df-container {\n",
              "      display:flex;\n",
              "      flex-wrap:wrap;\n",
              "      gap: 12px;\n",
              "    }\n",
              "\n",
              "    .colab-df-convert {\n",
              "      background-color: #E8F0FE;\n",
              "      border: none;\n",
              "      border-radius: 50%;\n",
              "      cursor: pointer;\n",
              "      display: none;\n",
              "      fill: #1967D2;\n",
              "      height: 32px;\n",
              "      padding: 0 0 0 0;\n",
              "      width: 32px;\n",
              "    }\n",
              "\n",
              "    .colab-df-convert:hover {\n",
              "      background-color: #E2EBFA;\n",
              "      box-shadow: 0px 1px 2px rgba(60, 64, 67, 0.3), 0px 1px 3px 1px rgba(60, 64, 67, 0.15);\n",
              "      fill: #174EA6;\n",
              "    }\n",
              "\n",
              "    [theme=dark] .colab-df-convert {\n",
              "      background-color: #3B4455;\n",
              "      fill: #D2E3FC;\n",
              "    }\n",
              "\n",
              "    [theme=dark] .colab-df-convert:hover {\n",
              "      background-color: #434B5C;\n",
              "      box-shadow: 0px 1px 3px 1px rgba(0, 0, 0, 0.15);\n",
              "      filter: drop-shadow(0px 1px 2px rgba(0, 0, 0, 0.3));\n",
              "      fill: #FFFFFF;\n",
              "    }\n",
              "  </style>\n",
              "\n",
              "      <script>\n",
              "        const buttonEl =\n",
              "          document.querySelector('#df-821ab545-502c-43a5-aa36-3fd34a09bdcd button.colab-df-convert');\n",
              "        buttonEl.style.display =\n",
              "          google.colab.kernel.accessAllowed ? 'block' : 'none';\n",
              "\n",
              "        async function convertToInteractive(key) {\n",
              "          const element = document.querySelector('#df-821ab545-502c-43a5-aa36-3fd34a09bdcd');\n",
              "          const dataTable =\n",
              "            await google.colab.kernel.invokeFunction('convertToInteractive',\n",
              "                                                     [key], {});\n",
              "          if (!dataTable) return;\n",
              "\n",
              "          const docLinkHtml = 'Like what you see? Visit the ' +\n",
              "            '<a target=\"_blank\" href=https://colab.research.google.com/notebooks/data_table.ipynb>data table notebook</a>'\n",
              "            + ' to learn more about interactive tables.';\n",
              "          element.innerHTML = '';\n",
              "          dataTable['output_type'] = 'display_data';\n",
              "          await google.colab.output.renderOutput(dataTable, element);\n",
              "          const docLink = document.createElement('div');\n",
              "          docLink.innerHTML = docLinkHtml;\n",
              "          element.appendChild(docLink);\n",
              "        }\n",
              "      </script>\n",
              "    </div>\n",
              "  </div>\n",
              "  "
            ]
          },
          "metadata": {},
          "execution_count": 152
        }
      ]
    },
    {
      "cell_type": "code",
      "source": [
        "# substituindo sim e não por 1 e 0\n",
        "df = df.replace(['Sim'], 1)\n",
        "df = df.replace(['Sim '], 1)\n",
        "df = df.replace([' Sim'], 1)\n",
        "df = df.replace(['sim'], 1)\n",
        "df = df.replace(['sim '], 1)\n",
        "df = df.replace([' sim'], 1)\n",
        "df = df.replace(['Não'], 0)\n",
        "df = df.replace(['Não '], 0)\n",
        "df = df.replace([' Não'], 0)\n",
        "df = df.replace(['não'], 0)\n",
        "df = df.replace(['não '], 0)\n",
        "df = df.replace([' não'], 0)\n"
      ],
      "metadata": {
        "id": "_tJuQ0ctw53e"
      },
      "execution_count": null,
      "outputs": []
    },
    {
      "cell_type": "code",
      "source": [
        "df.head()"
      ],
      "metadata": {
        "colab": {
          "base_uri": "https://localhost:8080/",
          "height": 250
        },
        "id": "Q01NbGT2xZ2M",
        "outputId": "c1f2797f-dcf7-4307-c5b4-a4eb19bd5c38"
      },
      "execution_count": null,
      "outputs": [
        {
          "output_type": "execute_result",
          "data": {
            "text/plain": [
              "   Alternativo  Bar  Sex/Sab  Faminto Cliente Preço  Chove  Reserva Tipo  \\\n",
              "0            1    0        0        1     Alg   $$$      0        1  Fra   \n",
              "1            1    0        0        1     Che     $      0        0  Tai   \n",
              "2            0    1        0        0     Alg     $      0        0  Ham   \n",
              "3            1    0        1        1     Che     $      1        0  Tai   \n",
              "4            1    0        1        0     Che   $$$      0        1  Fra   \n",
              "\n",
              "  Espera  Meta  \n",
              "0   0-10     1  \n",
              "1  30-60     0  \n",
              "2   0-10     1  \n",
              "3  10-30     1  \n",
              "4    >60     0  "
            ],
            "text/html": [
              "\n",
              "  <div id=\"df-e7cc8d47-9599-4ee7-bcfb-2e6e570512d2\">\n",
              "    <div class=\"colab-df-container\">\n",
              "      <div>\n",
              "<style scoped>\n",
              "    .dataframe tbody tr th:only-of-type {\n",
              "        vertical-align: middle;\n",
              "    }\n",
              "\n",
              "    .dataframe tbody tr th {\n",
              "        vertical-align: top;\n",
              "    }\n",
              "\n",
              "    .dataframe thead th {\n",
              "        text-align: right;\n",
              "    }\n",
              "</style>\n",
              "<table border=\"1\" class=\"dataframe\">\n",
              "  <thead>\n",
              "    <tr style=\"text-align: right;\">\n",
              "      <th></th>\n",
              "      <th>Alternativo</th>\n",
              "      <th>Bar</th>\n",
              "      <th>Sex/Sab</th>\n",
              "      <th>Faminto</th>\n",
              "      <th>Cliente</th>\n",
              "      <th>Preço</th>\n",
              "      <th>Chove</th>\n",
              "      <th>Reserva</th>\n",
              "      <th>Tipo</th>\n",
              "      <th>Espera</th>\n",
              "      <th>Meta</th>\n",
              "    </tr>\n",
              "  </thead>\n",
              "  <tbody>\n",
              "    <tr>\n",
              "      <th>0</th>\n",
              "      <td>1</td>\n",
              "      <td>0</td>\n",
              "      <td>0</td>\n",
              "      <td>1</td>\n",
              "      <td>Alg</td>\n",
              "      <td>$$$</td>\n",
              "      <td>0</td>\n",
              "      <td>1</td>\n",
              "      <td>Fra</td>\n",
              "      <td>0-10</td>\n",
              "      <td>1</td>\n",
              "    </tr>\n",
              "    <tr>\n",
              "      <th>1</th>\n",
              "      <td>1</td>\n",
              "      <td>0</td>\n",
              "      <td>0</td>\n",
              "      <td>1</td>\n",
              "      <td>Che</td>\n",
              "      <td>$</td>\n",
              "      <td>0</td>\n",
              "      <td>0</td>\n",
              "      <td>Tai</td>\n",
              "      <td>30-60</td>\n",
              "      <td>0</td>\n",
              "    </tr>\n",
              "    <tr>\n",
              "      <th>2</th>\n",
              "      <td>0</td>\n",
              "      <td>1</td>\n",
              "      <td>0</td>\n",
              "      <td>0</td>\n",
              "      <td>Alg</td>\n",
              "      <td>$</td>\n",
              "      <td>0</td>\n",
              "      <td>0</td>\n",
              "      <td>Ham</td>\n",
              "      <td>0-10</td>\n",
              "      <td>1</td>\n",
              "    </tr>\n",
              "    <tr>\n",
              "      <th>3</th>\n",
              "      <td>1</td>\n",
              "      <td>0</td>\n",
              "      <td>1</td>\n",
              "      <td>1</td>\n",
              "      <td>Che</td>\n",
              "      <td>$</td>\n",
              "      <td>1</td>\n",
              "      <td>0</td>\n",
              "      <td>Tai</td>\n",
              "      <td>10-30</td>\n",
              "      <td>1</td>\n",
              "    </tr>\n",
              "    <tr>\n",
              "      <th>4</th>\n",
              "      <td>1</td>\n",
              "      <td>0</td>\n",
              "      <td>1</td>\n",
              "      <td>0</td>\n",
              "      <td>Che</td>\n",
              "      <td>$$$</td>\n",
              "      <td>0</td>\n",
              "      <td>1</td>\n",
              "      <td>Fra</td>\n",
              "      <td>&gt;60</td>\n",
              "      <td>0</td>\n",
              "    </tr>\n",
              "  </tbody>\n",
              "</table>\n",
              "</div>\n",
              "      <button class=\"colab-df-convert\" onclick=\"convertToInteractive('df-e7cc8d47-9599-4ee7-bcfb-2e6e570512d2')\"\n",
              "              title=\"Convert this dataframe to an interactive table.\"\n",
              "              style=\"display:none;\">\n",
              "        \n",
              "  <svg xmlns=\"http://www.w3.org/2000/svg\" height=\"24px\"viewBox=\"0 0 24 24\"\n",
              "       width=\"24px\">\n",
              "    <path d=\"M0 0h24v24H0V0z\" fill=\"none\"/>\n",
              "    <path d=\"M18.56 5.44l.94 2.06.94-2.06 2.06-.94-2.06-.94-.94-2.06-.94 2.06-2.06.94zm-11 1L8.5 8.5l.94-2.06 2.06-.94-2.06-.94L8.5 2.5l-.94 2.06-2.06.94zm10 10l.94 2.06.94-2.06 2.06-.94-2.06-.94-.94-2.06-.94 2.06-2.06.94z\"/><path d=\"M17.41 7.96l-1.37-1.37c-.4-.4-.92-.59-1.43-.59-.52 0-1.04.2-1.43.59L10.3 9.45l-7.72 7.72c-.78.78-.78 2.05 0 2.83L4 21.41c.39.39.9.59 1.41.59.51 0 1.02-.2 1.41-.59l7.78-7.78 2.81-2.81c.8-.78.8-2.07 0-2.86zM5.41 20L4 18.59l7.72-7.72 1.47 1.35L5.41 20z\"/>\n",
              "  </svg>\n",
              "      </button>\n",
              "      \n",
              "  <style>\n",
              "    .colab-df-container {\n",
              "      display:flex;\n",
              "      flex-wrap:wrap;\n",
              "      gap: 12px;\n",
              "    }\n",
              "\n",
              "    .colab-df-convert {\n",
              "      background-color: #E8F0FE;\n",
              "      border: none;\n",
              "      border-radius: 50%;\n",
              "      cursor: pointer;\n",
              "      display: none;\n",
              "      fill: #1967D2;\n",
              "      height: 32px;\n",
              "      padding: 0 0 0 0;\n",
              "      width: 32px;\n",
              "    }\n",
              "\n",
              "    .colab-df-convert:hover {\n",
              "      background-color: #E2EBFA;\n",
              "      box-shadow: 0px 1px 2px rgba(60, 64, 67, 0.3), 0px 1px 3px 1px rgba(60, 64, 67, 0.15);\n",
              "      fill: #174EA6;\n",
              "    }\n",
              "\n",
              "    [theme=dark] .colab-df-convert {\n",
              "      background-color: #3B4455;\n",
              "      fill: #D2E3FC;\n",
              "    }\n",
              "\n",
              "    [theme=dark] .colab-df-convert:hover {\n",
              "      background-color: #434B5C;\n",
              "      box-shadow: 0px 1px 3px 1px rgba(0, 0, 0, 0.15);\n",
              "      filter: drop-shadow(0px 1px 2px rgba(0, 0, 0, 0.3));\n",
              "      fill: #FFFFFF;\n",
              "    }\n",
              "  </style>\n",
              "\n",
              "      <script>\n",
              "        const buttonEl =\n",
              "          document.querySelector('#df-e7cc8d47-9599-4ee7-bcfb-2e6e570512d2 button.colab-df-convert');\n",
              "        buttonEl.style.display =\n",
              "          google.colab.kernel.accessAllowed ? 'block' : 'none';\n",
              "\n",
              "        async function convertToInteractive(key) {\n",
              "          const element = document.querySelector('#df-e7cc8d47-9599-4ee7-bcfb-2e6e570512d2');\n",
              "          const dataTable =\n",
              "            await google.colab.kernel.invokeFunction('convertToInteractive',\n",
              "                                                     [key], {});\n",
              "          if (!dataTable) return;\n",
              "\n",
              "          const docLinkHtml = 'Like what you see? Visit the ' +\n",
              "            '<a target=\"_blank\" href=https://colab.research.google.com/notebooks/data_table.ipynb>data table notebook</a>'\n",
              "            + ' to learn more about interactive tables.';\n",
              "          element.innerHTML = '';\n",
              "          dataTable['output_type'] = 'display_data';\n",
              "          await google.colab.output.renderOutput(dataTable, element);\n",
              "          const docLink = document.createElement('div');\n",
              "          docLink.innerHTML = docLinkHtml;\n",
              "          element.appendChild(docLink);\n",
              "        }\n",
              "      </script>\n",
              "    </div>\n",
              "  </div>\n",
              "  "
            ]
          },
          "metadata": {},
          "execution_count": 154
        }
      ]
    },
    {
      "cell_type": "code",
      "source": [
        "# converte string repetidas em valores numericos\n",
        "\n",
        "mapeamento_pala = {}\n",
        "\n",
        "for coluna in df.columns:\n",
        "  if type(coluna) is str:\n",
        "    contador = df[coluna].unique()\n",
        "    total = len(contador)\n",
        "    mapeando = dict(zip(contador, range(total)))\n",
        "    mapeamento_pala[coluna] = mapeando\n",
        "    df[coluna] = df[coluna].replace(mapeando)"
      ],
      "metadata": {
        "id": "vfwg3APB7aZH"
      },
      "execution_count": null,
      "outputs": []
    },
    {
      "cell_type": "code",
      "source": [
        "df"
      ],
      "metadata": {
        "colab": {
          "base_uri": "https://localhost:8080/",
          "height": 470
        },
        "id": "-pE5S0X08C6q",
        "outputId": "e88aeaae-95f6-4880-cd6b-94dce27cf776"
      },
      "execution_count": null,
      "outputs": [
        {
          "output_type": "execute_result",
          "data": {
            "text/plain": [
              "    Alternativo  Bar  Sex/Sab  Faminto  Cliente  Preço  Chove  Reserva  Tipo  \\\n",
              "0             0    0        0        0        0      0      0        0     0   \n",
              "1             0    0        0        0        1      1      0        1     1   \n",
              "2             1    1        0        1        0      1      0        1     2   \n",
              "3             0    0        1        0        1      1      1        1     1   \n",
              "4             0    0        1        1        1      0      0        0     0   \n",
              "5             1    1        0        0        0      2      1        0     3   \n",
              "6             1    1        0        1        2      1      1        1     2   \n",
              "7             1    0        0        0        0      2      1        0     1   \n",
              "8             1    1        1        1        1      1      1        1     2   \n",
              "9             0    1        1        0        1      0      0        0     3   \n",
              "10            1    0        0        1        2      1      0        1     1   \n",
              "11            0    1        1        0        1      1      0        1     2   \n",
              "\n",
              "    Espera  Meta  \n",
              "0        0     0  \n",
              "1        1     1  \n",
              "2        0     0  \n",
              "3        2     0  \n",
              "4        3     1  \n",
              "5        0     0  \n",
              "6        0     1  \n",
              "7        0     0  \n",
              "8        3     1  \n",
              "9        2     1  \n",
              "10       0     1  \n",
              "11       1     0  "
            ],
            "text/html": [
              "\n",
              "  <div id=\"df-bfcd5046-8f99-4373-9574-5782277ac260\">\n",
              "    <div class=\"colab-df-container\">\n",
              "      <div>\n",
              "<style scoped>\n",
              "    .dataframe tbody tr th:only-of-type {\n",
              "        vertical-align: middle;\n",
              "    }\n",
              "\n",
              "    .dataframe tbody tr th {\n",
              "        vertical-align: top;\n",
              "    }\n",
              "\n",
              "    .dataframe thead th {\n",
              "        text-align: right;\n",
              "    }\n",
              "</style>\n",
              "<table border=\"1\" class=\"dataframe\">\n",
              "  <thead>\n",
              "    <tr style=\"text-align: right;\">\n",
              "      <th></th>\n",
              "      <th>Alternativo</th>\n",
              "      <th>Bar</th>\n",
              "      <th>Sex/Sab</th>\n",
              "      <th>Faminto</th>\n",
              "      <th>Cliente</th>\n",
              "      <th>Preço</th>\n",
              "      <th>Chove</th>\n",
              "      <th>Reserva</th>\n",
              "      <th>Tipo</th>\n",
              "      <th>Espera</th>\n",
              "      <th>Meta</th>\n",
              "    </tr>\n",
              "  </thead>\n",
              "  <tbody>\n",
              "    <tr>\n",
              "      <th>0</th>\n",
              "      <td>0</td>\n",
              "      <td>0</td>\n",
              "      <td>0</td>\n",
              "      <td>0</td>\n",
              "      <td>0</td>\n",
              "      <td>0</td>\n",
              "      <td>0</td>\n",
              "      <td>0</td>\n",
              "      <td>0</td>\n",
              "      <td>0</td>\n",
              "      <td>0</td>\n",
              "    </tr>\n",
              "    <tr>\n",
              "      <th>1</th>\n",
              "      <td>0</td>\n",
              "      <td>0</td>\n",
              "      <td>0</td>\n",
              "      <td>0</td>\n",
              "      <td>1</td>\n",
              "      <td>1</td>\n",
              "      <td>0</td>\n",
              "      <td>1</td>\n",
              "      <td>1</td>\n",
              "      <td>1</td>\n",
              "      <td>1</td>\n",
              "    </tr>\n",
              "    <tr>\n",
              "      <th>2</th>\n",
              "      <td>1</td>\n",
              "      <td>1</td>\n",
              "      <td>0</td>\n",
              "      <td>1</td>\n",
              "      <td>0</td>\n",
              "      <td>1</td>\n",
              "      <td>0</td>\n",
              "      <td>1</td>\n",
              "      <td>2</td>\n",
              "      <td>0</td>\n",
              "      <td>0</td>\n",
              "    </tr>\n",
              "    <tr>\n",
              "      <th>3</th>\n",
              "      <td>0</td>\n",
              "      <td>0</td>\n",
              "      <td>1</td>\n",
              "      <td>0</td>\n",
              "      <td>1</td>\n",
              "      <td>1</td>\n",
              "      <td>1</td>\n",
              "      <td>1</td>\n",
              "      <td>1</td>\n",
              "      <td>2</td>\n",
              "      <td>0</td>\n",
              "    </tr>\n",
              "    <tr>\n",
              "      <th>4</th>\n",
              "      <td>0</td>\n",
              "      <td>0</td>\n",
              "      <td>1</td>\n",
              "      <td>1</td>\n",
              "      <td>1</td>\n",
              "      <td>0</td>\n",
              "      <td>0</td>\n",
              "      <td>0</td>\n",
              "      <td>0</td>\n",
              "      <td>3</td>\n",
              "      <td>1</td>\n",
              "    </tr>\n",
              "    <tr>\n",
              "      <th>5</th>\n",
              "      <td>1</td>\n",
              "      <td>1</td>\n",
              "      <td>0</td>\n",
              "      <td>0</td>\n",
              "      <td>0</td>\n",
              "      <td>2</td>\n",
              "      <td>1</td>\n",
              "      <td>0</td>\n",
              "      <td>3</td>\n",
              "      <td>0</td>\n",
              "      <td>0</td>\n",
              "    </tr>\n",
              "    <tr>\n",
              "      <th>6</th>\n",
              "      <td>1</td>\n",
              "      <td>1</td>\n",
              "      <td>0</td>\n",
              "      <td>1</td>\n",
              "      <td>2</td>\n",
              "      <td>1</td>\n",
              "      <td>1</td>\n",
              "      <td>1</td>\n",
              "      <td>2</td>\n",
              "      <td>0</td>\n",
              "      <td>1</td>\n",
              "    </tr>\n",
              "    <tr>\n",
              "      <th>7</th>\n",
              "      <td>1</td>\n",
              "      <td>0</td>\n",
              "      <td>0</td>\n",
              "      <td>0</td>\n",
              "      <td>0</td>\n",
              "      <td>2</td>\n",
              "      <td>1</td>\n",
              "      <td>0</td>\n",
              "      <td>1</td>\n",
              "      <td>0</td>\n",
              "      <td>0</td>\n",
              "    </tr>\n",
              "    <tr>\n",
              "      <th>8</th>\n",
              "      <td>1</td>\n",
              "      <td>1</td>\n",
              "      <td>1</td>\n",
              "      <td>1</td>\n",
              "      <td>1</td>\n",
              "      <td>1</td>\n",
              "      <td>1</td>\n",
              "      <td>1</td>\n",
              "      <td>2</td>\n",
              "      <td>3</td>\n",
              "      <td>1</td>\n",
              "    </tr>\n",
              "    <tr>\n",
              "      <th>9</th>\n",
              "      <td>0</td>\n",
              "      <td>1</td>\n",
              "      <td>1</td>\n",
              "      <td>0</td>\n",
              "      <td>1</td>\n",
              "      <td>0</td>\n",
              "      <td>0</td>\n",
              "      <td>0</td>\n",
              "      <td>3</td>\n",
              "      <td>2</td>\n",
              "      <td>1</td>\n",
              "    </tr>\n",
              "    <tr>\n",
              "      <th>10</th>\n",
              "      <td>1</td>\n",
              "      <td>0</td>\n",
              "      <td>0</td>\n",
              "      <td>1</td>\n",
              "      <td>2</td>\n",
              "      <td>1</td>\n",
              "      <td>0</td>\n",
              "      <td>1</td>\n",
              "      <td>1</td>\n",
              "      <td>0</td>\n",
              "      <td>1</td>\n",
              "    </tr>\n",
              "    <tr>\n",
              "      <th>11</th>\n",
              "      <td>0</td>\n",
              "      <td>1</td>\n",
              "      <td>1</td>\n",
              "      <td>0</td>\n",
              "      <td>1</td>\n",
              "      <td>1</td>\n",
              "      <td>0</td>\n",
              "      <td>1</td>\n",
              "      <td>2</td>\n",
              "      <td>1</td>\n",
              "      <td>0</td>\n",
              "    </tr>\n",
              "  </tbody>\n",
              "</table>\n",
              "</div>\n",
              "      <button class=\"colab-df-convert\" onclick=\"convertToInteractive('df-bfcd5046-8f99-4373-9574-5782277ac260')\"\n",
              "              title=\"Convert this dataframe to an interactive table.\"\n",
              "              style=\"display:none;\">\n",
              "        \n",
              "  <svg xmlns=\"http://www.w3.org/2000/svg\" height=\"24px\"viewBox=\"0 0 24 24\"\n",
              "       width=\"24px\">\n",
              "    <path d=\"M0 0h24v24H0V0z\" fill=\"none\"/>\n",
              "    <path d=\"M18.56 5.44l.94 2.06.94-2.06 2.06-.94-2.06-.94-.94-2.06-.94 2.06-2.06.94zm-11 1L8.5 8.5l.94-2.06 2.06-.94-2.06-.94L8.5 2.5l-.94 2.06-2.06.94zm10 10l.94 2.06.94-2.06 2.06-.94-2.06-.94-.94-2.06-.94 2.06-2.06.94z\"/><path d=\"M17.41 7.96l-1.37-1.37c-.4-.4-.92-.59-1.43-.59-.52 0-1.04.2-1.43.59L10.3 9.45l-7.72 7.72c-.78.78-.78 2.05 0 2.83L4 21.41c.39.39.9.59 1.41.59.51 0 1.02-.2 1.41-.59l7.78-7.78 2.81-2.81c.8-.78.8-2.07 0-2.86zM5.41 20L4 18.59l7.72-7.72 1.47 1.35L5.41 20z\"/>\n",
              "  </svg>\n",
              "      </button>\n",
              "      \n",
              "  <style>\n",
              "    .colab-df-container {\n",
              "      display:flex;\n",
              "      flex-wrap:wrap;\n",
              "      gap: 12px;\n",
              "    }\n",
              "\n",
              "    .colab-df-convert {\n",
              "      background-color: #E8F0FE;\n",
              "      border: none;\n",
              "      border-radius: 50%;\n",
              "      cursor: pointer;\n",
              "      display: none;\n",
              "      fill: #1967D2;\n",
              "      height: 32px;\n",
              "      padding: 0 0 0 0;\n",
              "      width: 32px;\n",
              "    }\n",
              "\n",
              "    .colab-df-convert:hover {\n",
              "      background-color: #E2EBFA;\n",
              "      box-shadow: 0px 1px 2px rgba(60, 64, 67, 0.3), 0px 1px 3px 1px rgba(60, 64, 67, 0.15);\n",
              "      fill: #174EA6;\n",
              "    }\n",
              "\n",
              "    [theme=dark] .colab-df-convert {\n",
              "      background-color: #3B4455;\n",
              "      fill: #D2E3FC;\n",
              "    }\n",
              "\n",
              "    [theme=dark] .colab-df-convert:hover {\n",
              "      background-color: #434B5C;\n",
              "      box-shadow: 0px 1px 3px 1px rgba(0, 0, 0, 0.15);\n",
              "      filter: drop-shadow(0px 1px 2px rgba(0, 0, 0, 0.3));\n",
              "      fill: #FFFFFF;\n",
              "    }\n",
              "  </style>\n",
              "\n",
              "      <script>\n",
              "        const buttonEl =\n",
              "          document.querySelector('#df-bfcd5046-8f99-4373-9574-5782277ac260 button.colab-df-convert');\n",
              "        buttonEl.style.display =\n",
              "          google.colab.kernel.accessAllowed ? 'block' : 'none';\n",
              "\n",
              "        async function convertToInteractive(key) {\n",
              "          const element = document.querySelector('#df-bfcd5046-8f99-4373-9574-5782277ac260');\n",
              "          const dataTable =\n",
              "            await google.colab.kernel.invokeFunction('convertToInteractive',\n",
              "                                                     [key], {});\n",
              "          if (!dataTable) return;\n",
              "\n",
              "          const docLinkHtml = 'Like what you see? Visit the ' +\n",
              "            '<a target=\"_blank\" href=https://colab.research.google.com/notebooks/data_table.ipynb>data table notebook</a>'\n",
              "            + ' to learn more about interactive tables.';\n",
              "          element.innerHTML = '';\n",
              "          dataTable['output_type'] = 'display_data';\n",
              "          await google.colab.output.renderOutput(dataTable, element);\n",
              "          const docLink = document.createElement('div');\n",
              "          docLink.innerHTML = docLinkHtml;\n",
              "          element.appendChild(docLink);\n",
              "        }\n",
              "      </script>\n",
              "    </div>\n",
              "  </div>\n",
              "  "
            ]
          },
          "metadata": {},
          "execution_count": 156
        }
      ]
    },
    {
      "cell_type": "code",
      "source": [
        "# normalizando o formato de X e Y para que possam ser comparados\n",
        "X = df[df.columns[:-1]].values\n",
        "y = df[df.columns[-1]].values"
      ],
      "metadata": {
        "id": "kksetLav8OT2"
      },
      "execution_count": null,
      "outputs": []
    },
    {
      "cell_type": "code",
      "source": [
        "# Mostrando o formato\n",
        "X.shape, y.shape"
      ],
      "metadata": {
        "colab": {
          "base_uri": "https://localhost:8080/"
        },
        "id": "Ke8lhB2J8QtT",
        "outputId": "a512b6ab-8c18-49f5-d444-1b410f9d1ab0"
      },
      "execution_count": null,
      "outputs": [
        {
          "output_type": "execute_result",
          "data": {
            "text/plain": [
              "((12, 10), (12,))"
            ]
          },
          "metadata": {},
          "execution_count": 158
        }
      ]
    },
    {
      "cell_type": "code",
      "source": [
        "# normalizando o formato de X e Y para que possam ser comparados parte 2\n",
        "scaler = StandardScaler()\n",
        "X = scaler.fit_transform(X)\n",
        "data = np.hstack((X, np.reshape(y, (-1, 1))))\n",
        "transformed_df = pd.DataFrame(data, columns=df.columns)"
      ],
      "metadata": {
        "id": "WqB3iSMw8R7f"
      },
      "execution_count": null,
      "outputs": []
    },
    {
      "cell_type": "code",
      "source": [
        "# normalizando o formato de X e Y para que possam ser comparados parte 3\n",
        "over = RandomOverSampler()\n",
        "X, y = over.fit_resample(X, y)\n",
        "data = np.hstack((X, np.reshape(y, (-1, 1))))\n",
        "transformed_df = pd.DataFrame(data, columns=df.columns)"
      ],
      "metadata": {
        "id": "mjHXBzcl8TLI"
      },
      "execution_count": null,
      "outputs": []
    },
    {
      "cell_type": "code",
      "source": [
        "# dispozição dos valores do meta sim,não ou 1,0\n",
        "len(transformed_df[transformed_df[\"Meta\"]==1]), len(transformed_df[transformed_df[\"Meta\"]==0])"
      ],
      "metadata": {
        "colab": {
          "base_uri": "https://localhost:8080/"
        },
        "id": "267djDsk8U9N",
        "outputId": "1a9649c6-0e6f-4f9f-9a0b-5507e775a03c"
      },
      "execution_count": null,
      "outputs": [
        {
          "output_type": "execute_result",
          "data": {
            "text/plain": [
              "(6, 6)"
            ]
          },
          "metadata": {},
          "execution_count": 161
        }
      ]
    },
    {
      "cell_type": "code",
      "source": [
        "# determinando os treinamentos\n",
        "X_train, X_temp, y_train, y_temp = train_test_split(X, y, test_size=0.4, random_state=0)\n",
        "X_valid, X_test, y_valid, y_test = train_test_split(X_temp, y_temp, test_size=0.5, random_state=0)"
      ],
      "metadata": {
        "id": "P8Koquul8k8I"
      },
      "execution_count": null,
      "outputs": []
    },
    {
      "cell_type": "code",
      "source": [
        "# definindo a quantidade de camadas e metodo\n",
        "model = tf.keras.Sequential([\n",
        "                             tf.keras.layers.Dense(24, activation='relu'), # if x <= 0 --> 0, x > 0 --> x\n",
        "                             tf.keras.layers.Dense(16, activation='relu'),\n",
        "                             tf.keras.layers.Dense(16, activation='relu'),\n",
        "                             tf.keras.layers.Dense(1, activation=\"sigmoid\")\n",
        "])"
      ],
      "metadata": {
        "id": "evQssdmb8Xs4"
      },
      "execution_count": null,
      "outputs": []
    },
    {
      "cell_type": "code",
      "source": [
        "# mais alguns parametros e a taxa de aprendizagem\n",
        "model.compile(optimizer=tf.keras.optimizers.Adam(learning_rate=0.001),\n",
        "              loss=tf.keras.losses.BinaryCrossentropy(),\n",
        "              metrics=['accuracy'])"
      ],
      "metadata": {
        "id": "7ETLWcDI8Y3m"
      },
      "execution_count": null,
      "outputs": []
    },
    {
      "cell_type": "code",
      "source": [
        "# pré avaliação com variaveis de treino\n",
        "model.evaluate(X_train, y_train)"
      ],
      "metadata": {
        "colab": {
          "base_uri": "https://localhost:8080/"
        },
        "id": "VHFYiLS28Zw9",
        "outputId": "3729834c-1b8b-4c9f-fd63-7817069ba280"
      },
      "execution_count": null,
      "outputs": [
        {
          "output_type": "stream",
          "name": "stdout",
          "text": [
            "1/1 [==============================] - 1s 526ms/step - loss: 0.6600 - accuracy: 0.5714\n"
          ]
        },
        {
          "output_type": "execute_result",
          "data": {
            "text/plain": [
              "[0.6599979996681213, 0.5714285969734192]"
            ]
          },
          "metadata": {},
          "execution_count": 165
        }
      ]
    },
    {
      "cell_type": "code",
      "source": [
        "# pré avaliação 2\n",
        "model.evaluate(X_valid, y_valid)"
      ],
      "metadata": {
        "colab": {
          "base_uri": "https://localhost:8080/"
        },
        "id": "CSdo_mK-8a5p",
        "outputId": "db8a205d-5dab-4a10-ea7d-6c25a2c439d9"
      },
      "execution_count": null,
      "outputs": [
        {
          "output_type": "stream",
          "name": "stdout",
          "text": [
            "1/1 [==============================] - 0s 59ms/step - loss: 0.6420 - accuracy: 1.0000\n"
          ]
        },
        {
          "output_type": "execute_result",
          "data": {
            "text/plain": [
              "[0.6420055031776428, 1.0]"
            ]
          },
          "metadata": {},
          "execution_count": 166
        }
      ]
    },
    {
      "cell_type": "code",
      "source": [
        "# treinamento\n",
        "model.fit(X_train, y_train, batch_size=8, epochs=40, validation_data=(X_valid, y_valid))"
      ],
      "metadata": {
        "colab": {
          "base_uri": "https://localhost:8080/"
        },
        "id": "FXfV9IPc8nyA",
        "outputId": "85059a35-4730-41f6-b4f1-068533813ba3"
      },
      "execution_count": null,
      "outputs": [
        {
          "output_type": "stream",
          "name": "stdout",
          "text": [
            "Epoch 1/40\n",
            "1/1 [==============================] - 1s 775ms/step - loss: 0.6600 - accuracy: 0.5714 - val_loss: 0.6407 - val_accuracy: 1.0000\n",
            "Epoch 2/40\n",
            "1/1 [==============================] - 0s 33ms/step - loss: 0.6488 - accuracy: 0.5714 - val_loss: 0.6396 - val_accuracy: 1.0000\n",
            "Epoch 3/40\n",
            "1/1 [==============================] - 0s 32ms/step - loss: 0.6381 - accuracy: 0.5714 - val_loss: 0.6380 - val_accuracy: 1.0000\n",
            "Epoch 4/40\n",
            "1/1 [==============================] - 0s 35ms/step - loss: 0.6276 - accuracy: 0.7143 - val_loss: 0.6364 - val_accuracy: 1.0000\n",
            "Epoch 5/40\n",
            "1/1 [==============================] - 0s 33ms/step - loss: 0.6172 - accuracy: 0.7143 - val_loss: 0.6348 - val_accuracy: 1.0000\n",
            "Epoch 6/40\n",
            "1/1 [==============================] - 0s 43ms/step - loss: 0.6070 - accuracy: 0.7143 - val_loss: 0.6331 - val_accuracy: 1.0000\n",
            "Epoch 7/40\n",
            "1/1 [==============================] - 0s 36ms/step - loss: 0.5971 - accuracy: 0.7143 - val_loss: 0.6312 - val_accuracy: 1.0000\n",
            "Epoch 8/40\n",
            "1/1 [==============================] - 0s 27ms/step - loss: 0.5876 - accuracy: 0.7143 - val_loss: 0.6293 - val_accuracy: 1.0000\n",
            "Epoch 9/40\n",
            "1/1 [==============================] - 0s 28ms/step - loss: 0.5783 - accuracy: 0.7143 - val_loss: 0.6272 - val_accuracy: 1.0000\n",
            "Epoch 10/40\n",
            "1/1 [==============================] - 0s 31ms/step - loss: 0.5690 - accuracy: 0.8571 - val_loss: 0.6251 - val_accuracy: 1.0000\n",
            "Epoch 11/40\n",
            "1/1 [==============================] - 0s 44ms/step - loss: 0.5597 - accuracy: 0.8571 - val_loss: 0.6230 - val_accuracy: 1.0000\n",
            "Epoch 12/40\n",
            "1/1 [==============================] - 0s 37ms/step - loss: 0.5505 - accuracy: 0.8571 - val_loss: 0.6208 - val_accuracy: 1.0000\n",
            "Epoch 13/40\n",
            "1/1 [==============================] - 0s 36ms/step - loss: 0.5417 - accuracy: 0.8571 - val_loss: 0.6187 - val_accuracy: 1.0000\n",
            "Epoch 14/40\n",
            "1/1 [==============================] - 0s 32ms/step - loss: 0.5338 - accuracy: 0.8571 - val_loss: 0.6165 - val_accuracy: 1.0000\n",
            "Epoch 15/40\n",
            "1/1 [==============================] - 0s 42ms/step - loss: 0.5269 - accuracy: 0.8571 - val_loss: 0.6144 - val_accuracy: 1.0000\n",
            "Epoch 16/40\n",
            "1/1 [==============================] - 0s 32ms/step - loss: 0.5201 - accuracy: 0.8571 - val_loss: 0.6123 - val_accuracy: 1.0000\n",
            "Epoch 17/40\n",
            "1/1 [==============================] - 0s 54ms/step - loss: 0.5134 - accuracy: 0.8571 - val_loss: 0.6101 - val_accuracy: 1.0000\n",
            "Epoch 18/40\n",
            "1/1 [==============================] - 0s 63ms/step - loss: 0.5066 - accuracy: 0.8571 - val_loss: 0.6078 - val_accuracy: 1.0000\n",
            "Epoch 19/40\n",
            "1/1 [==============================] - 0s 70ms/step - loss: 0.4998 - accuracy: 0.8571 - val_loss: 0.6054 - val_accuracy: 1.0000\n",
            "Epoch 20/40\n",
            "1/1 [==============================] - 0s 73ms/step - loss: 0.4929 - accuracy: 0.8571 - val_loss: 0.6029 - val_accuracy: 1.0000\n",
            "Epoch 21/40\n",
            "1/1 [==============================] - 0s 49ms/step - loss: 0.4860 - accuracy: 0.8571 - val_loss: 0.6005 - val_accuracy: 1.0000\n",
            "Epoch 22/40\n",
            "1/1 [==============================] - 0s 40ms/step - loss: 0.4790 - accuracy: 0.8571 - val_loss: 0.5979 - val_accuracy: 1.0000\n",
            "Epoch 23/40\n",
            "1/1 [==============================] - 0s 50ms/step - loss: 0.4720 - accuracy: 1.0000 - val_loss: 0.5957 - val_accuracy: 1.0000\n",
            "Epoch 24/40\n",
            "1/1 [==============================] - 0s 30ms/step - loss: 0.4650 - accuracy: 1.0000 - val_loss: 0.5938 - val_accuracy: 1.0000\n",
            "Epoch 25/40\n",
            "1/1 [==============================] - 0s 34ms/step - loss: 0.4578 - accuracy: 1.0000 - val_loss: 0.5920 - val_accuracy: 1.0000\n",
            "Epoch 26/40\n",
            "1/1 [==============================] - 0s 29ms/step - loss: 0.4506 - accuracy: 1.0000 - val_loss: 0.5901 - val_accuracy: 1.0000\n",
            "Epoch 27/40\n",
            "1/1 [==============================] - 0s 30ms/step - loss: 0.4432 - accuracy: 1.0000 - val_loss: 0.5883 - val_accuracy: 1.0000\n",
            "Epoch 28/40\n",
            "1/1 [==============================] - 0s 37ms/step - loss: 0.4358 - accuracy: 1.0000 - val_loss: 0.5865 - val_accuracy: 1.0000\n",
            "Epoch 29/40\n",
            "1/1 [==============================] - 0s 32ms/step - loss: 0.4286 - accuracy: 1.0000 - val_loss: 0.5847 - val_accuracy: 1.0000\n",
            "Epoch 30/40\n",
            "1/1 [==============================] - 0s 31ms/step - loss: 0.4213 - accuracy: 1.0000 - val_loss: 0.5825 - val_accuracy: 1.0000\n",
            "Epoch 31/40\n",
            "1/1 [==============================] - 0s 31ms/step - loss: 0.4137 - accuracy: 1.0000 - val_loss: 0.5801 - val_accuracy: 1.0000\n",
            "Epoch 32/40\n",
            "1/1 [==============================] - 0s 35ms/step - loss: 0.4062 - accuracy: 1.0000 - val_loss: 0.5777 - val_accuracy: 1.0000\n",
            "Epoch 33/40\n",
            "1/1 [==============================] - 0s 50ms/step - loss: 0.3985 - accuracy: 1.0000 - val_loss: 0.5752 - val_accuracy: 1.0000\n",
            "Epoch 34/40\n",
            "1/1 [==============================] - 0s 43ms/step - loss: 0.3908 - accuracy: 1.0000 - val_loss: 0.5725 - val_accuracy: 1.0000\n",
            "Epoch 35/40\n",
            "1/1 [==============================] - 0s 30ms/step - loss: 0.3833 - accuracy: 1.0000 - val_loss: 0.5697 - val_accuracy: 1.0000\n",
            "Epoch 36/40\n",
            "1/1 [==============================] - 0s 30ms/step - loss: 0.3757 - accuracy: 1.0000 - val_loss: 0.5668 - val_accuracy: 1.0000\n",
            "Epoch 37/40\n",
            "1/1 [==============================] - 0s 40ms/step - loss: 0.3680 - accuracy: 1.0000 - val_loss: 0.5639 - val_accuracy: 1.0000\n",
            "Epoch 38/40\n",
            "1/1 [==============================] - 0s 31ms/step - loss: 0.3602 - accuracy: 1.0000 - val_loss: 0.5609 - val_accuracy: 1.0000\n",
            "Epoch 39/40\n",
            "1/1 [==============================] - 0s 30ms/step - loss: 0.3523 - accuracy: 1.0000 - val_loss: 0.5579 - val_accuracy: 1.0000\n",
            "Epoch 40/40\n",
            "1/1 [==============================] - 0s 48ms/step - loss: 0.3445 - accuracy: 1.0000 - val_loss: 0.5549 - val_accuracy: 1.0000\n"
          ]
        },
        {
          "output_type": "execute_result",
          "data": {
            "text/plain": [
              "<keras.callbacks.History at 0x7fe2816c0dc0>"
            ]
          },
          "metadata": {},
          "execution_count": 167
        }
      ]
    },
    {
      "cell_type": "code",
      "source": [
        "# avaliação com as variaveis separadas para teste\n",
        "model.evaluate(X_test, y_test)"
      ],
      "metadata": {
        "colab": {
          "base_uri": "https://localhost:8080/"
        },
        "id": "dHFFyjzo8qkl",
        "outputId": "9cec36fb-7190-4ed5-942a-6859bf5c0591"
      },
      "execution_count": null,
      "outputs": [
        {
          "output_type": "stream",
          "name": "stdout",
          "text": [
            "1/1 [==============================] - 0s 21ms/step - loss: 0.7114 - accuracy: 0.3333\n"
          ]
        },
        {
          "output_type": "execute_result",
          "data": {
            "text/plain": [
              "[0.7113985419273376, 0.3333333432674408]"
            ]
          },
          "metadata": {},
          "execution_count": 168
        }
      ]
    },
    {
      "cell_type": "code",
      "source": [
        "# avaliação com todos os elementos\n",
        "model.evaluate(X, y)"
      ],
      "metadata": {
        "colab": {
          "base_uri": "https://localhost:8080/"
        },
        "id": "COr5_Xjd8rzJ",
        "outputId": "9885d0f7-fa52-45d2-f62d-27007afba903"
      },
      "execution_count": null,
      "outputs": [
        {
          "output_type": "stream",
          "name": "stdout",
          "text": [
            "1/1 [==============================] - 0s 23ms/step - loss: 0.4669 - accuracy: 0.8333\n"
          ]
        },
        {
          "output_type": "execute_result",
          "data": {
            "text/plain": [
              "[0.4669020175933838, 0.8333333134651184]"
            ]
          },
          "metadata": {},
          "execution_count": 169
        }
      ]
    }
  ]
}