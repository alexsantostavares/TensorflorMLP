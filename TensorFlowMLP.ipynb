{
  "nbformat": 4,
  "nbformat_minor": 0,
  "metadata": {
    "colab": {
      "provenance": [],
      "authorship_tag": "ABX9TyPSZOnwYmcGk2kuY7TMZ66/",
      "include_colab_link": true
    },
    "kernelspec": {
      "name": "python3",
      "display_name": "Python 3"
    },
    "language_info": {
      "name": "python"
    }
  },
  "cells": [
    {
      "cell_type": "markdown",
      "metadata": {
        "id": "view-in-github",
        "colab_type": "text"
      },
      "source": [
        "<a href=\"https://colab.research.google.com/github/alexsantostavares/TensorflowMLP/blob/master/TensorFlowMLP.ipynb\" target=\"_parent\"><img src=\"https://colab.research.google.com/assets/colab-badge.svg\" alt=\"Open In Colab\"/></a>"
      ]
    },
    {
      "cell_type": "code",
      "execution_count": 86,
      "metadata": {
        "colab": {
          "base_uri": "https://localhost:8080/"
        },
        "id": "oFJj7mdAhLQX",
        "outputId": "c93a29f4-dde3-4bc2-e625-8e9cad133a95"
      },
      "outputs": [
        {
          "output_type": "stream",
          "name": "stdout",
          "text": [
            "Looking in indexes: https://pypi.org/simple, https://us-python.pkg.dev/colab-wheels/public/simple/\n",
            "Requirement already satisfied: imbalanced-learn in /usr/local/lib/python3.8/dist-packages (0.9.1)\n",
            "Requirement already satisfied: scikit-learn>=1.1.0 in /usr/local/lib/python3.8/dist-packages (from imbalanced-learn) (1.1.3)\n",
            "Requirement already satisfied: numpy>=1.17.3 in /usr/local/lib/python3.8/dist-packages (from imbalanced-learn) (1.21.6)\n",
            "Requirement already satisfied: scipy>=1.3.2 in /usr/local/lib/python3.8/dist-packages (from imbalanced-learn) (1.7.3)\n",
            "Requirement already satisfied: joblib>=1.0.0 in /usr/local/lib/python3.8/dist-packages (from imbalanced-learn) (1.2.0)\n",
            "Requirement already satisfied: threadpoolctl>=2.0.0 in /usr/local/lib/python3.8/dist-packages (from imbalanced-learn) (3.1.0)\n"
          ]
        }
      ],
      "source": [
        "# garantir que seja instalado recurso utilizado\n",
        "!pip install -U imbalanced-learn"
      ]
    },
    {
      "cell_type": "code",
      "source": [
        "#importando todas as bibliotecas\n",
        "import numpy as np\n",
        "import pandas as pd\n",
        "import matplotlib.pyplot as plt\n",
        "from sklearn.model_selection import train_test_split\n",
        "from sklearn.preprocessing import StandardScaler\n",
        "import tensorflow as tf\n",
        "from imblearn.over_sampling import RandomOverSampler\n",
        "import sys\n",
        "import csv"
      ],
      "metadata": {
        "id": "SU22PPAthzWi"
      },
      "execution_count": 87,
      "outputs": []
    },
    {
      "cell_type": "code",
      "source": [
        "#leitura do arquivo csv\n",
        "df = pd.read_csv(\"/content/dataset/BD-2trab(CSV) (1).csv\")"
      ],
      "metadata": {
        "id": "UGvA3qsRh1kw"
      },
      "execution_count": 98,
      "outputs": []
    },
    {
      "cell_type": "code",
      "source": [
        "df"
      ],
      "metadata": {
        "colab": {
          "base_uri": "https://localhost:8080/",
          "height": 426
        },
        "id": "Y8eux3Bvzae6",
        "outputId": "10740662-b0d1-4da4-a2bf-93c96e53e73e"
      },
      "execution_count": 99,
      "outputs": [
        {
          "output_type": "execute_result",
          "data": {
            "text/plain": [
              "   Alternativo  Bar Sex/Sab Faminto Cliente Preço Chove Reserva Tipo Espera  \\\n",
              "0          Sim  Não     Não     Sim     Alg   $$$   Não     Sim  Fra   0-10   \n",
              "1          Sim  Não     Não     Sim     Che     $   Não     Não  Tai  30-60   \n",
              "2          Não  Sim     Não     Não     Alg     $   Não     Não  Ham   0-10   \n",
              "3          Sim  Não     Sim     Sim     Che     $   Sim     Não  Tai  10-30   \n",
              "4          Sim  Não     Sim     Não     Che   $$$   Não     Sim  Fra    >60   \n",
              "5          Não  Sim     Não     Sim     Alg    $$   Sim     Sim  Ita   0-10   \n",
              "6          Não  Sim     Não     Não      Ne     $   Sim     Não  Ham   0-10   \n",
              "7          Não  Não     Não     Sim     Alg    $$   Sim     Sim  Tai   0-10   \n",
              "8          Não  Sim     Sim     Não     Che     $   Sim     Não  Ham    >60   \n",
              "9          Sim  Sim     Sim     Sim     Che   $$$   Não     Sim  Ita  10-30   \n",
              "10         Não  Não     Não     Não      Ne     $   Não     Não  Tai   0-10   \n",
              "11         Sim  Sim     Sim     Sim     Che     $   Não     Não  Ham  30-60   \n",
              "\n",
              "    Meta  \n",
              "0    Sim  \n",
              "1    Não  \n",
              "2   Sim   \n",
              "3    Sim  \n",
              "4    Não  \n",
              "5    Sim  \n",
              "6    Não  \n",
              "7    Sim  \n",
              "8    Não  \n",
              "9    Não  \n",
              "10   Não  \n",
              "11   Sim  "
            ],
            "text/html": [
              "\n",
              "  <div id=\"df-59e97c2e-b84c-47e2-adb1-1b983e4169d9\">\n",
              "    <div class=\"colab-df-container\">\n",
              "      <div>\n",
              "<style scoped>\n",
              "    .dataframe tbody tr th:only-of-type {\n",
              "        vertical-align: middle;\n",
              "    }\n",
              "\n",
              "    .dataframe tbody tr th {\n",
              "        vertical-align: top;\n",
              "    }\n",
              "\n",
              "    .dataframe thead th {\n",
              "        text-align: right;\n",
              "    }\n",
              "</style>\n",
              "<table border=\"1\" class=\"dataframe\">\n",
              "  <thead>\n",
              "    <tr style=\"text-align: right;\">\n",
              "      <th></th>\n",
              "      <th>Alternativo</th>\n",
              "      <th>Bar</th>\n",
              "      <th>Sex/Sab</th>\n",
              "      <th>Faminto</th>\n",
              "      <th>Cliente</th>\n",
              "      <th>Preço</th>\n",
              "      <th>Chove</th>\n",
              "      <th>Reserva</th>\n",
              "      <th>Tipo</th>\n",
              "      <th>Espera</th>\n",
              "      <th>Meta</th>\n",
              "    </tr>\n",
              "  </thead>\n",
              "  <tbody>\n",
              "    <tr>\n",
              "      <th>0</th>\n",
              "      <td>Sim</td>\n",
              "      <td>Não</td>\n",
              "      <td>Não</td>\n",
              "      <td>Sim</td>\n",
              "      <td>Alg</td>\n",
              "      <td>$$$</td>\n",
              "      <td>Não</td>\n",
              "      <td>Sim</td>\n",
              "      <td>Fra</td>\n",
              "      <td>0-10</td>\n",
              "      <td>Sim</td>\n",
              "    </tr>\n",
              "    <tr>\n",
              "      <th>1</th>\n",
              "      <td>Sim</td>\n",
              "      <td>Não</td>\n",
              "      <td>Não</td>\n",
              "      <td>Sim</td>\n",
              "      <td>Che</td>\n",
              "      <td>$</td>\n",
              "      <td>Não</td>\n",
              "      <td>Não</td>\n",
              "      <td>Tai</td>\n",
              "      <td>30-60</td>\n",
              "      <td>Não</td>\n",
              "    </tr>\n",
              "    <tr>\n",
              "      <th>2</th>\n",
              "      <td>Não</td>\n",
              "      <td>Sim</td>\n",
              "      <td>Não</td>\n",
              "      <td>Não</td>\n",
              "      <td>Alg</td>\n",
              "      <td>$</td>\n",
              "      <td>Não</td>\n",
              "      <td>Não</td>\n",
              "      <td>Ham</td>\n",
              "      <td>0-10</td>\n",
              "      <td>Sim</td>\n",
              "    </tr>\n",
              "    <tr>\n",
              "      <th>3</th>\n",
              "      <td>Sim</td>\n",
              "      <td>Não</td>\n",
              "      <td>Sim</td>\n",
              "      <td>Sim</td>\n",
              "      <td>Che</td>\n",
              "      <td>$</td>\n",
              "      <td>Sim</td>\n",
              "      <td>Não</td>\n",
              "      <td>Tai</td>\n",
              "      <td>10-30</td>\n",
              "      <td>Sim</td>\n",
              "    </tr>\n",
              "    <tr>\n",
              "      <th>4</th>\n",
              "      <td>Sim</td>\n",
              "      <td>Não</td>\n",
              "      <td>Sim</td>\n",
              "      <td>Não</td>\n",
              "      <td>Che</td>\n",
              "      <td>$$$</td>\n",
              "      <td>Não</td>\n",
              "      <td>Sim</td>\n",
              "      <td>Fra</td>\n",
              "      <td>&gt;60</td>\n",
              "      <td>Não</td>\n",
              "    </tr>\n",
              "    <tr>\n",
              "      <th>5</th>\n",
              "      <td>Não</td>\n",
              "      <td>Sim</td>\n",
              "      <td>Não</td>\n",
              "      <td>Sim</td>\n",
              "      <td>Alg</td>\n",
              "      <td>$$</td>\n",
              "      <td>Sim</td>\n",
              "      <td>Sim</td>\n",
              "      <td>Ita</td>\n",
              "      <td>0-10</td>\n",
              "      <td>Sim</td>\n",
              "    </tr>\n",
              "    <tr>\n",
              "      <th>6</th>\n",
              "      <td>Não</td>\n",
              "      <td>Sim</td>\n",
              "      <td>Não</td>\n",
              "      <td>Não</td>\n",
              "      <td>Ne</td>\n",
              "      <td>$</td>\n",
              "      <td>Sim</td>\n",
              "      <td>Não</td>\n",
              "      <td>Ham</td>\n",
              "      <td>0-10</td>\n",
              "      <td>Não</td>\n",
              "    </tr>\n",
              "    <tr>\n",
              "      <th>7</th>\n",
              "      <td>Não</td>\n",
              "      <td>Não</td>\n",
              "      <td>Não</td>\n",
              "      <td>Sim</td>\n",
              "      <td>Alg</td>\n",
              "      <td>$$</td>\n",
              "      <td>Sim</td>\n",
              "      <td>Sim</td>\n",
              "      <td>Tai</td>\n",
              "      <td>0-10</td>\n",
              "      <td>Sim</td>\n",
              "    </tr>\n",
              "    <tr>\n",
              "      <th>8</th>\n",
              "      <td>Não</td>\n",
              "      <td>Sim</td>\n",
              "      <td>Sim</td>\n",
              "      <td>Não</td>\n",
              "      <td>Che</td>\n",
              "      <td>$</td>\n",
              "      <td>Sim</td>\n",
              "      <td>Não</td>\n",
              "      <td>Ham</td>\n",
              "      <td>&gt;60</td>\n",
              "      <td>Não</td>\n",
              "    </tr>\n",
              "    <tr>\n",
              "      <th>9</th>\n",
              "      <td>Sim</td>\n",
              "      <td>Sim</td>\n",
              "      <td>Sim</td>\n",
              "      <td>Sim</td>\n",
              "      <td>Che</td>\n",
              "      <td>$$$</td>\n",
              "      <td>Não</td>\n",
              "      <td>Sim</td>\n",
              "      <td>Ita</td>\n",
              "      <td>10-30</td>\n",
              "      <td>Não</td>\n",
              "    </tr>\n",
              "    <tr>\n",
              "      <th>10</th>\n",
              "      <td>Não</td>\n",
              "      <td>Não</td>\n",
              "      <td>Não</td>\n",
              "      <td>Não</td>\n",
              "      <td>Ne</td>\n",
              "      <td>$</td>\n",
              "      <td>Não</td>\n",
              "      <td>Não</td>\n",
              "      <td>Tai</td>\n",
              "      <td>0-10</td>\n",
              "      <td>Não</td>\n",
              "    </tr>\n",
              "    <tr>\n",
              "      <th>11</th>\n",
              "      <td>Sim</td>\n",
              "      <td>Sim</td>\n",
              "      <td>Sim</td>\n",
              "      <td>Sim</td>\n",
              "      <td>Che</td>\n",
              "      <td>$</td>\n",
              "      <td>Não</td>\n",
              "      <td>Não</td>\n",
              "      <td>Ham</td>\n",
              "      <td>30-60</td>\n",
              "      <td>Sim</td>\n",
              "    </tr>\n",
              "  </tbody>\n",
              "</table>\n",
              "</div>\n",
              "      <button class=\"colab-df-convert\" onclick=\"convertToInteractive('df-59e97c2e-b84c-47e2-adb1-1b983e4169d9')\"\n",
              "              title=\"Convert this dataframe to an interactive table.\"\n",
              "              style=\"display:none;\">\n",
              "        \n",
              "  <svg xmlns=\"http://www.w3.org/2000/svg\" height=\"24px\"viewBox=\"0 0 24 24\"\n",
              "       width=\"24px\">\n",
              "    <path d=\"M0 0h24v24H0V0z\" fill=\"none\"/>\n",
              "    <path d=\"M18.56 5.44l.94 2.06.94-2.06 2.06-.94-2.06-.94-.94-2.06-.94 2.06-2.06.94zm-11 1L8.5 8.5l.94-2.06 2.06-.94-2.06-.94L8.5 2.5l-.94 2.06-2.06.94zm10 10l.94 2.06.94-2.06 2.06-.94-2.06-.94-.94-2.06-.94 2.06-2.06.94z\"/><path d=\"M17.41 7.96l-1.37-1.37c-.4-.4-.92-.59-1.43-.59-.52 0-1.04.2-1.43.59L10.3 9.45l-7.72 7.72c-.78.78-.78 2.05 0 2.83L4 21.41c.39.39.9.59 1.41.59.51 0 1.02-.2 1.41-.59l7.78-7.78 2.81-2.81c.8-.78.8-2.07 0-2.86zM5.41 20L4 18.59l7.72-7.72 1.47 1.35L5.41 20z\"/>\n",
              "  </svg>\n",
              "      </button>\n",
              "      \n",
              "  <style>\n",
              "    .colab-df-container {\n",
              "      display:flex;\n",
              "      flex-wrap:wrap;\n",
              "      gap: 12px;\n",
              "    }\n",
              "\n",
              "    .colab-df-convert {\n",
              "      background-color: #E8F0FE;\n",
              "      border: none;\n",
              "      border-radius: 50%;\n",
              "      cursor: pointer;\n",
              "      display: none;\n",
              "      fill: #1967D2;\n",
              "      height: 32px;\n",
              "      padding: 0 0 0 0;\n",
              "      width: 32px;\n",
              "    }\n",
              "\n",
              "    .colab-df-convert:hover {\n",
              "      background-color: #E2EBFA;\n",
              "      box-shadow: 0px 1px 2px rgba(60, 64, 67, 0.3), 0px 1px 3px 1px rgba(60, 64, 67, 0.15);\n",
              "      fill: #174EA6;\n",
              "    }\n",
              "\n",
              "    [theme=dark] .colab-df-convert {\n",
              "      background-color: #3B4455;\n",
              "      fill: #D2E3FC;\n",
              "    }\n",
              "\n",
              "    [theme=dark] .colab-df-convert:hover {\n",
              "      background-color: #434B5C;\n",
              "      box-shadow: 0px 1px 3px 1px rgba(0, 0, 0, 0.15);\n",
              "      filter: drop-shadow(0px 1px 2px rgba(0, 0, 0, 0.3));\n",
              "      fill: #FFFFFF;\n",
              "    }\n",
              "  </style>\n",
              "\n",
              "      <script>\n",
              "        const buttonEl =\n",
              "          document.querySelector('#df-59e97c2e-b84c-47e2-adb1-1b983e4169d9 button.colab-df-convert');\n",
              "        buttonEl.style.display =\n",
              "          google.colab.kernel.accessAllowed ? 'block' : 'none';\n",
              "\n",
              "        async function convertToInteractive(key) {\n",
              "          const element = document.querySelector('#df-59e97c2e-b84c-47e2-adb1-1b983e4169d9');\n",
              "          const dataTable =\n",
              "            await google.colab.kernel.invokeFunction('convertToInteractive',\n",
              "                                                     [key], {});\n",
              "          if (!dataTable) return;\n",
              "\n",
              "          const docLinkHtml = 'Like what you see? Visit the ' +\n",
              "            '<a target=\"_blank\" href=https://colab.research.google.com/notebooks/data_table.ipynb>data table notebook</a>'\n",
              "            + ' to learn more about interactive tables.';\n",
              "          element.innerHTML = '';\n",
              "          dataTable['output_type'] = 'display_data';\n",
              "          await google.colab.output.renderOutput(dataTable, element);\n",
              "          const docLink = document.createElement('div');\n",
              "          docLink.innerHTML = docLinkHtml;\n",
              "          element.appendChild(docLink);\n",
              "        }\n",
              "      </script>\n",
              "    </div>\n",
              "  </div>\n",
              "  "
            ]
          },
          "metadata": {},
          "execution_count": 99
        }
      ]
    },
    {
      "cell_type": "code",
      "source": [
        "# substituindo sim e não por 1 e 0\n",
        "df = df.replace(['Sim'], 1)\n",
        "df = df.replace(['Sim '], 1)\n",
        "df = df.replace([' Sim'], 1)\n",
        "df = df.replace(['sim'], 1)\n",
        "df = df.replace(['sim '], 1)\n",
        "df = df.replace([' sim'], 1)\n",
        "df = df.replace(['Não'], 0)\n",
        "df = df.replace(['Não '], 0)\n",
        "df = df.replace([' Não'], 0)\n",
        "df = df.replace(['não'], 0)\n",
        "df = df.replace(['não '], 0)\n",
        "df = df.replace([' não'], 0)\n"
      ],
      "metadata": {
        "id": "_tJuQ0ctw53e"
      },
      "execution_count": 100,
      "outputs": []
    },
    {
      "cell_type": "code",
      "source": [
        "df.head()"
      ],
      "metadata": {
        "colab": {
          "base_uri": "https://localhost:8080/",
          "height": 206
        },
        "id": "Q01NbGT2xZ2M",
        "outputId": "0155b509-45c3-448d-9962-e197678bfaa6"
      },
      "execution_count": 101,
      "outputs": [
        {
          "output_type": "execute_result",
          "data": {
            "text/plain": [
              "   Alternativo  Bar  Sex/Sab  Faminto Cliente Preço  Chove  Reserva Tipo  \\\n",
              "0            1    0        0        1     Alg   $$$      0        1  Fra   \n",
              "1            1    0        0        1     Che     $      0        0  Tai   \n",
              "2            0    1        0        0     Alg     $      0        0  Ham   \n",
              "3            1    0        1        1     Che     $      1        0  Tai   \n",
              "4            1    0        1        0     Che   $$$      0        1  Fra   \n",
              "\n",
              "  Espera  Meta  \n",
              "0   0-10     1  \n",
              "1  30-60     0  \n",
              "2   0-10     1  \n",
              "3  10-30     1  \n",
              "4    >60     0  "
            ],
            "text/html": [
              "\n",
              "  <div id=\"df-aa237a17-f15c-406a-89bb-6ca03ced5c6c\">\n",
              "    <div class=\"colab-df-container\">\n",
              "      <div>\n",
              "<style scoped>\n",
              "    .dataframe tbody tr th:only-of-type {\n",
              "        vertical-align: middle;\n",
              "    }\n",
              "\n",
              "    .dataframe tbody tr th {\n",
              "        vertical-align: top;\n",
              "    }\n",
              "\n",
              "    .dataframe thead th {\n",
              "        text-align: right;\n",
              "    }\n",
              "</style>\n",
              "<table border=\"1\" class=\"dataframe\">\n",
              "  <thead>\n",
              "    <tr style=\"text-align: right;\">\n",
              "      <th></th>\n",
              "      <th>Alternativo</th>\n",
              "      <th>Bar</th>\n",
              "      <th>Sex/Sab</th>\n",
              "      <th>Faminto</th>\n",
              "      <th>Cliente</th>\n",
              "      <th>Preço</th>\n",
              "      <th>Chove</th>\n",
              "      <th>Reserva</th>\n",
              "      <th>Tipo</th>\n",
              "      <th>Espera</th>\n",
              "      <th>Meta</th>\n",
              "    </tr>\n",
              "  </thead>\n",
              "  <tbody>\n",
              "    <tr>\n",
              "      <th>0</th>\n",
              "      <td>1</td>\n",
              "      <td>0</td>\n",
              "      <td>0</td>\n",
              "      <td>1</td>\n",
              "      <td>Alg</td>\n",
              "      <td>$$$</td>\n",
              "      <td>0</td>\n",
              "      <td>1</td>\n",
              "      <td>Fra</td>\n",
              "      <td>0-10</td>\n",
              "      <td>1</td>\n",
              "    </tr>\n",
              "    <tr>\n",
              "      <th>1</th>\n",
              "      <td>1</td>\n",
              "      <td>0</td>\n",
              "      <td>0</td>\n",
              "      <td>1</td>\n",
              "      <td>Che</td>\n",
              "      <td>$</td>\n",
              "      <td>0</td>\n",
              "      <td>0</td>\n",
              "      <td>Tai</td>\n",
              "      <td>30-60</td>\n",
              "      <td>0</td>\n",
              "    </tr>\n",
              "    <tr>\n",
              "      <th>2</th>\n",
              "      <td>0</td>\n",
              "      <td>1</td>\n",
              "      <td>0</td>\n",
              "      <td>0</td>\n",
              "      <td>Alg</td>\n",
              "      <td>$</td>\n",
              "      <td>0</td>\n",
              "      <td>0</td>\n",
              "      <td>Ham</td>\n",
              "      <td>0-10</td>\n",
              "      <td>1</td>\n",
              "    </tr>\n",
              "    <tr>\n",
              "      <th>3</th>\n",
              "      <td>1</td>\n",
              "      <td>0</td>\n",
              "      <td>1</td>\n",
              "      <td>1</td>\n",
              "      <td>Che</td>\n",
              "      <td>$</td>\n",
              "      <td>1</td>\n",
              "      <td>0</td>\n",
              "      <td>Tai</td>\n",
              "      <td>10-30</td>\n",
              "      <td>1</td>\n",
              "    </tr>\n",
              "    <tr>\n",
              "      <th>4</th>\n",
              "      <td>1</td>\n",
              "      <td>0</td>\n",
              "      <td>1</td>\n",
              "      <td>0</td>\n",
              "      <td>Che</td>\n",
              "      <td>$$$</td>\n",
              "      <td>0</td>\n",
              "      <td>1</td>\n",
              "      <td>Fra</td>\n",
              "      <td>&gt;60</td>\n",
              "      <td>0</td>\n",
              "    </tr>\n",
              "  </tbody>\n",
              "</table>\n",
              "</div>\n",
              "      <button class=\"colab-df-convert\" onclick=\"convertToInteractive('df-aa237a17-f15c-406a-89bb-6ca03ced5c6c')\"\n",
              "              title=\"Convert this dataframe to an interactive table.\"\n",
              "              style=\"display:none;\">\n",
              "        \n",
              "  <svg xmlns=\"http://www.w3.org/2000/svg\" height=\"24px\"viewBox=\"0 0 24 24\"\n",
              "       width=\"24px\">\n",
              "    <path d=\"M0 0h24v24H0V0z\" fill=\"none\"/>\n",
              "    <path d=\"M18.56 5.44l.94 2.06.94-2.06 2.06-.94-2.06-.94-.94-2.06-.94 2.06-2.06.94zm-11 1L8.5 8.5l.94-2.06 2.06-.94-2.06-.94L8.5 2.5l-.94 2.06-2.06.94zm10 10l.94 2.06.94-2.06 2.06-.94-2.06-.94-.94-2.06-.94 2.06-2.06.94z\"/><path d=\"M17.41 7.96l-1.37-1.37c-.4-.4-.92-.59-1.43-.59-.52 0-1.04.2-1.43.59L10.3 9.45l-7.72 7.72c-.78.78-.78 2.05 0 2.83L4 21.41c.39.39.9.59 1.41.59.51 0 1.02-.2 1.41-.59l7.78-7.78 2.81-2.81c.8-.78.8-2.07 0-2.86zM5.41 20L4 18.59l7.72-7.72 1.47 1.35L5.41 20z\"/>\n",
              "  </svg>\n",
              "      </button>\n",
              "      \n",
              "  <style>\n",
              "    .colab-df-container {\n",
              "      display:flex;\n",
              "      flex-wrap:wrap;\n",
              "      gap: 12px;\n",
              "    }\n",
              "\n",
              "    .colab-df-convert {\n",
              "      background-color: #E8F0FE;\n",
              "      border: none;\n",
              "      border-radius: 50%;\n",
              "      cursor: pointer;\n",
              "      display: none;\n",
              "      fill: #1967D2;\n",
              "      height: 32px;\n",
              "      padding: 0 0 0 0;\n",
              "      width: 32px;\n",
              "    }\n",
              "\n",
              "    .colab-df-convert:hover {\n",
              "      background-color: #E2EBFA;\n",
              "      box-shadow: 0px 1px 2px rgba(60, 64, 67, 0.3), 0px 1px 3px 1px rgba(60, 64, 67, 0.15);\n",
              "      fill: #174EA6;\n",
              "    }\n",
              "\n",
              "    [theme=dark] .colab-df-convert {\n",
              "      background-color: #3B4455;\n",
              "      fill: #D2E3FC;\n",
              "    }\n",
              "\n",
              "    [theme=dark] .colab-df-convert:hover {\n",
              "      background-color: #434B5C;\n",
              "      box-shadow: 0px 1px 3px 1px rgba(0, 0, 0, 0.15);\n",
              "      filter: drop-shadow(0px 1px 2px rgba(0, 0, 0, 0.3));\n",
              "      fill: #FFFFFF;\n",
              "    }\n",
              "  </style>\n",
              "\n",
              "      <script>\n",
              "        const buttonEl =\n",
              "          document.querySelector('#df-aa237a17-f15c-406a-89bb-6ca03ced5c6c button.colab-df-convert');\n",
              "        buttonEl.style.display =\n",
              "          google.colab.kernel.accessAllowed ? 'block' : 'none';\n",
              "\n",
              "        async function convertToInteractive(key) {\n",
              "          const element = document.querySelector('#df-aa237a17-f15c-406a-89bb-6ca03ced5c6c');\n",
              "          const dataTable =\n",
              "            await google.colab.kernel.invokeFunction('convertToInteractive',\n",
              "                                                     [key], {});\n",
              "          if (!dataTable) return;\n",
              "\n",
              "          const docLinkHtml = 'Like what you see? Visit the ' +\n",
              "            '<a target=\"_blank\" href=https://colab.research.google.com/notebooks/data_table.ipynb>data table notebook</a>'\n",
              "            + ' to learn more about interactive tables.';\n",
              "          element.innerHTML = '';\n",
              "          dataTable['output_type'] = 'display_data';\n",
              "          await google.colab.output.renderOutput(dataTable, element);\n",
              "          const docLink = document.createElement('div');\n",
              "          docLink.innerHTML = docLinkHtml;\n",
              "          element.appendChild(docLink);\n",
              "        }\n",
              "      </script>\n",
              "    </div>\n",
              "  </div>\n",
              "  "
            ]
          },
          "metadata": {},
          "execution_count": 101
        }
      ]
    },
    {
      "cell_type": "code",
      "source": [
        "# converte string repetidas em valores numericos\n",
        "\n",
        "mapeamento_pala = {}\n",
        "\n",
        "for coluna in df.columns:\n",
        "  if type(coluna) is str:\n",
        "    contador = df[coluna].unique()\n",
        "    total = len(contador)\n",
        "    mapeando = dict(zip(contador, range(total)))\n",
        "    mapeamento_pala[coluna] = mapeando\n",
        "    df[coluna] = df[coluna].replace(mapeando)"
      ],
      "metadata": {
        "id": "vfwg3APB7aZH"
      },
      "execution_count": 102,
      "outputs": []
    },
    {
      "cell_type": "code",
      "source": [
        "df"
      ],
      "metadata": {
        "colab": {
          "base_uri": "https://localhost:8080/",
          "height": 426
        },
        "id": "-pE5S0X08C6q",
        "outputId": "705206e6-ce14-4f31-c978-84d02b564a9b"
      },
      "execution_count": 118,
      "outputs": [
        {
          "output_type": "execute_result",
          "data": {
            "text/plain": [
              "    Alternativo  Bar  Sex/Sab  Faminto  Cliente  Preço  Chove  Reserva  Tipo  \\\n",
              "0             0    0        0        0        0      0      0        0     0   \n",
              "1             0    0        0        0        1      1      0        1     1   \n",
              "2             1    1        0        1        0      1      0        1     2   \n",
              "3             0    0        1        0        1      1      1        1     1   \n",
              "4             0    0        1        1        1      0      0        0     0   \n",
              "5             1    1        0        0        0      2      1        0     3   \n",
              "6             1    1        0        1        2      1      1        1     2   \n",
              "7             1    0        0        0        0      2      1        0     1   \n",
              "8             1    1        1        1        1      1      1        1     2   \n",
              "9             0    1        1        0        1      0      0        0     3   \n",
              "10            1    0        0        1        2      1      0        1     1   \n",
              "11            0    1        1        0        1      1      0        1     2   \n",
              "\n",
              "    Espera  Meta  \n",
              "0        0     0  \n",
              "1        1     1  \n",
              "2        0     0  \n",
              "3        2     0  \n",
              "4        3     1  \n",
              "5        0     0  \n",
              "6        0     1  \n",
              "7        0     0  \n",
              "8        3     1  \n",
              "9        2     1  \n",
              "10       0     1  \n",
              "11       1     0  "
            ],
            "text/html": [
              "\n",
              "  <div id=\"df-d56bb390-035f-4615-88d5-9cd91bd07b7c\">\n",
              "    <div class=\"colab-df-container\">\n",
              "      <div>\n",
              "<style scoped>\n",
              "    .dataframe tbody tr th:only-of-type {\n",
              "        vertical-align: middle;\n",
              "    }\n",
              "\n",
              "    .dataframe tbody tr th {\n",
              "        vertical-align: top;\n",
              "    }\n",
              "\n",
              "    .dataframe thead th {\n",
              "        text-align: right;\n",
              "    }\n",
              "</style>\n",
              "<table border=\"1\" class=\"dataframe\">\n",
              "  <thead>\n",
              "    <tr style=\"text-align: right;\">\n",
              "      <th></th>\n",
              "      <th>Alternativo</th>\n",
              "      <th>Bar</th>\n",
              "      <th>Sex/Sab</th>\n",
              "      <th>Faminto</th>\n",
              "      <th>Cliente</th>\n",
              "      <th>Preço</th>\n",
              "      <th>Chove</th>\n",
              "      <th>Reserva</th>\n",
              "      <th>Tipo</th>\n",
              "      <th>Espera</th>\n",
              "      <th>Meta</th>\n",
              "    </tr>\n",
              "  </thead>\n",
              "  <tbody>\n",
              "    <tr>\n",
              "      <th>0</th>\n",
              "      <td>0</td>\n",
              "      <td>0</td>\n",
              "      <td>0</td>\n",
              "      <td>0</td>\n",
              "      <td>0</td>\n",
              "      <td>0</td>\n",
              "      <td>0</td>\n",
              "      <td>0</td>\n",
              "      <td>0</td>\n",
              "      <td>0</td>\n",
              "      <td>0</td>\n",
              "    </tr>\n",
              "    <tr>\n",
              "      <th>1</th>\n",
              "      <td>0</td>\n",
              "      <td>0</td>\n",
              "      <td>0</td>\n",
              "      <td>0</td>\n",
              "      <td>1</td>\n",
              "      <td>1</td>\n",
              "      <td>0</td>\n",
              "      <td>1</td>\n",
              "      <td>1</td>\n",
              "      <td>1</td>\n",
              "      <td>1</td>\n",
              "    </tr>\n",
              "    <tr>\n",
              "      <th>2</th>\n",
              "      <td>1</td>\n",
              "      <td>1</td>\n",
              "      <td>0</td>\n",
              "      <td>1</td>\n",
              "      <td>0</td>\n",
              "      <td>1</td>\n",
              "      <td>0</td>\n",
              "      <td>1</td>\n",
              "      <td>2</td>\n",
              "      <td>0</td>\n",
              "      <td>0</td>\n",
              "    </tr>\n",
              "    <tr>\n",
              "      <th>3</th>\n",
              "      <td>0</td>\n",
              "      <td>0</td>\n",
              "      <td>1</td>\n",
              "      <td>0</td>\n",
              "      <td>1</td>\n",
              "      <td>1</td>\n",
              "      <td>1</td>\n",
              "      <td>1</td>\n",
              "      <td>1</td>\n",
              "      <td>2</td>\n",
              "      <td>0</td>\n",
              "    </tr>\n",
              "    <tr>\n",
              "      <th>4</th>\n",
              "      <td>0</td>\n",
              "      <td>0</td>\n",
              "      <td>1</td>\n",
              "      <td>1</td>\n",
              "      <td>1</td>\n",
              "      <td>0</td>\n",
              "      <td>0</td>\n",
              "      <td>0</td>\n",
              "      <td>0</td>\n",
              "      <td>3</td>\n",
              "      <td>1</td>\n",
              "    </tr>\n",
              "    <tr>\n",
              "      <th>5</th>\n",
              "      <td>1</td>\n",
              "      <td>1</td>\n",
              "      <td>0</td>\n",
              "      <td>0</td>\n",
              "      <td>0</td>\n",
              "      <td>2</td>\n",
              "      <td>1</td>\n",
              "      <td>0</td>\n",
              "      <td>3</td>\n",
              "      <td>0</td>\n",
              "      <td>0</td>\n",
              "    </tr>\n",
              "    <tr>\n",
              "      <th>6</th>\n",
              "      <td>1</td>\n",
              "      <td>1</td>\n",
              "      <td>0</td>\n",
              "      <td>1</td>\n",
              "      <td>2</td>\n",
              "      <td>1</td>\n",
              "      <td>1</td>\n",
              "      <td>1</td>\n",
              "      <td>2</td>\n",
              "      <td>0</td>\n",
              "      <td>1</td>\n",
              "    </tr>\n",
              "    <tr>\n",
              "      <th>7</th>\n",
              "      <td>1</td>\n",
              "      <td>0</td>\n",
              "      <td>0</td>\n",
              "      <td>0</td>\n",
              "      <td>0</td>\n",
              "      <td>2</td>\n",
              "      <td>1</td>\n",
              "      <td>0</td>\n",
              "      <td>1</td>\n",
              "      <td>0</td>\n",
              "      <td>0</td>\n",
              "    </tr>\n",
              "    <tr>\n",
              "      <th>8</th>\n",
              "      <td>1</td>\n",
              "      <td>1</td>\n",
              "      <td>1</td>\n",
              "      <td>1</td>\n",
              "      <td>1</td>\n",
              "      <td>1</td>\n",
              "      <td>1</td>\n",
              "      <td>1</td>\n",
              "      <td>2</td>\n",
              "      <td>3</td>\n",
              "      <td>1</td>\n",
              "    </tr>\n",
              "    <tr>\n",
              "      <th>9</th>\n",
              "      <td>0</td>\n",
              "      <td>1</td>\n",
              "      <td>1</td>\n",
              "      <td>0</td>\n",
              "      <td>1</td>\n",
              "      <td>0</td>\n",
              "      <td>0</td>\n",
              "      <td>0</td>\n",
              "      <td>3</td>\n",
              "      <td>2</td>\n",
              "      <td>1</td>\n",
              "    </tr>\n",
              "    <tr>\n",
              "      <th>10</th>\n",
              "      <td>1</td>\n",
              "      <td>0</td>\n",
              "      <td>0</td>\n",
              "      <td>1</td>\n",
              "      <td>2</td>\n",
              "      <td>1</td>\n",
              "      <td>0</td>\n",
              "      <td>1</td>\n",
              "      <td>1</td>\n",
              "      <td>0</td>\n",
              "      <td>1</td>\n",
              "    </tr>\n",
              "    <tr>\n",
              "      <th>11</th>\n",
              "      <td>0</td>\n",
              "      <td>1</td>\n",
              "      <td>1</td>\n",
              "      <td>0</td>\n",
              "      <td>1</td>\n",
              "      <td>1</td>\n",
              "      <td>0</td>\n",
              "      <td>1</td>\n",
              "      <td>2</td>\n",
              "      <td>1</td>\n",
              "      <td>0</td>\n",
              "    </tr>\n",
              "  </tbody>\n",
              "</table>\n",
              "</div>\n",
              "      <button class=\"colab-df-convert\" onclick=\"convertToInteractive('df-d56bb390-035f-4615-88d5-9cd91bd07b7c')\"\n",
              "              title=\"Convert this dataframe to an interactive table.\"\n",
              "              style=\"display:none;\">\n",
              "        \n",
              "  <svg xmlns=\"http://www.w3.org/2000/svg\" height=\"24px\"viewBox=\"0 0 24 24\"\n",
              "       width=\"24px\">\n",
              "    <path d=\"M0 0h24v24H0V0z\" fill=\"none\"/>\n",
              "    <path d=\"M18.56 5.44l.94 2.06.94-2.06 2.06-.94-2.06-.94-.94-2.06-.94 2.06-2.06.94zm-11 1L8.5 8.5l.94-2.06 2.06-.94-2.06-.94L8.5 2.5l-.94 2.06-2.06.94zm10 10l.94 2.06.94-2.06 2.06-.94-2.06-.94-.94-2.06-.94 2.06-2.06.94z\"/><path d=\"M17.41 7.96l-1.37-1.37c-.4-.4-.92-.59-1.43-.59-.52 0-1.04.2-1.43.59L10.3 9.45l-7.72 7.72c-.78.78-.78 2.05 0 2.83L4 21.41c.39.39.9.59 1.41.59.51 0 1.02-.2 1.41-.59l7.78-7.78 2.81-2.81c.8-.78.8-2.07 0-2.86zM5.41 20L4 18.59l7.72-7.72 1.47 1.35L5.41 20z\"/>\n",
              "  </svg>\n",
              "      </button>\n",
              "      \n",
              "  <style>\n",
              "    .colab-df-container {\n",
              "      display:flex;\n",
              "      flex-wrap:wrap;\n",
              "      gap: 12px;\n",
              "    }\n",
              "\n",
              "    .colab-df-convert {\n",
              "      background-color: #E8F0FE;\n",
              "      border: none;\n",
              "      border-radius: 50%;\n",
              "      cursor: pointer;\n",
              "      display: none;\n",
              "      fill: #1967D2;\n",
              "      height: 32px;\n",
              "      padding: 0 0 0 0;\n",
              "      width: 32px;\n",
              "    }\n",
              "\n",
              "    .colab-df-convert:hover {\n",
              "      background-color: #E2EBFA;\n",
              "      box-shadow: 0px 1px 2px rgba(60, 64, 67, 0.3), 0px 1px 3px 1px rgba(60, 64, 67, 0.15);\n",
              "      fill: #174EA6;\n",
              "    }\n",
              "\n",
              "    [theme=dark] .colab-df-convert {\n",
              "      background-color: #3B4455;\n",
              "      fill: #D2E3FC;\n",
              "    }\n",
              "\n",
              "    [theme=dark] .colab-df-convert:hover {\n",
              "      background-color: #434B5C;\n",
              "      box-shadow: 0px 1px 3px 1px rgba(0, 0, 0, 0.15);\n",
              "      filter: drop-shadow(0px 1px 2px rgba(0, 0, 0, 0.3));\n",
              "      fill: #FFFFFF;\n",
              "    }\n",
              "  </style>\n",
              "\n",
              "      <script>\n",
              "        const buttonEl =\n",
              "          document.querySelector('#df-d56bb390-035f-4615-88d5-9cd91bd07b7c button.colab-df-convert');\n",
              "        buttonEl.style.display =\n",
              "          google.colab.kernel.accessAllowed ? 'block' : 'none';\n",
              "\n",
              "        async function convertToInteractive(key) {\n",
              "          const element = document.querySelector('#df-d56bb390-035f-4615-88d5-9cd91bd07b7c');\n",
              "          const dataTable =\n",
              "            await google.colab.kernel.invokeFunction('convertToInteractive',\n",
              "                                                     [key], {});\n",
              "          if (!dataTable) return;\n",
              "\n",
              "          const docLinkHtml = 'Like what you see? Visit the ' +\n",
              "            '<a target=\"_blank\" href=https://colab.research.google.com/notebooks/data_table.ipynb>data table notebook</a>'\n",
              "            + ' to learn more about interactive tables.';\n",
              "          element.innerHTML = '';\n",
              "          dataTable['output_type'] = 'display_data';\n",
              "          await google.colab.output.renderOutput(dataTable, element);\n",
              "          const docLink = document.createElement('div');\n",
              "          docLink.innerHTML = docLinkHtml;\n",
              "          element.appendChild(docLink);\n",
              "        }\n",
              "      </script>\n",
              "    </div>\n",
              "  </div>\n",
              "  "
            ]
          },
          "metadata": {},
          "execution_count": 118
        }
      ]
    },
    {
      "cell_type": "code",
      "source": [
        "# mostrando todas as relações das colunas da tabela com a Meta\n",
        "for i in range(len(df.columns[:-1])):\n",
        "  label = df.columns[i]\n",
        "  plt.hist(df[df['Meta']== 1][label], color='blue', label=\"Sim\", alpha=0.7, density=True, bins=15)\n",
        "  plt.hist(df[df['Meta']== 0][label], color='red', label=\"Não\", alpha=0.7, density=True, bins=15)\n",
        "  plt.title(label)\n",
        "  plt.ylabel(\"Probabilidade\")\n",
        "  plt.xlabel(label)\n",
        "  plt.legend()\n",
        "  plt.show()"
      ],
      "metadata": {
        "colab": {
          "base_uri": "https://localhost:8080/",
          "height": 1000
        },
        "id": "PbAasGwp8J4m",
        "outputId": "e1414c71-ae77-4c33-e39e-668eafd699e8"
      },
      "execution_count": 104,
      "outputs": [
        {
          "output_type": "display_data",
          "data": {
            "text/plain": [
              "<Figure size 432x288 with 1 Axes>"
            ],
            "image/png": "[encoded data removed]"
          },
          "metadata": {
            "needs_background": "light"
          }
        },
        {
          "output_type": "display_data",
          "data": {
            "text/plain": [
              "<Figure size 432x288 with 1 Axes>"
            ],
            "image/png": "[encoded data removed]"
          },
          "metadata": {
            "needs_background": "light"
          }
        },
        {
          "output_type": "display_data",
          "data": {
            "text/plain": [
              "<Figure size 432x288 with 1 Axes>"
            ],
            "image/png": "[encoded data removed]"
          },
          "metadata": {
            "needs_background": "light"
          }
        },
        {
          "output_type": "display_data",
          "data": {
            "text/plain": [
              "<Figure size 432x288 with 1 Axes>"
            ],
            "image/png": "[encoded data removed]"
          },
          "metadata": {
            "needs_background": "light"
          }
        },
        {
          "output_type": "display_data",
          "data": {
            "text/plain": [
              "<Figure size 432x288 with 1 Axes>"
            ],
            "image/png": "[encoded data removed]"
          },
          "metadata": {
            "needs_background": "light"
          }
        },
        {
          "output_type": "display_data",
          "data": {
            "text/plain": [
              "<Figure size 432x288 with 1 Axes>"
            ],
            "image/png": "[encoded data removed]"
          },
          "metadata": {
            "needs_background": "light"
          }
        },
        {
          "output_type": "display_data",
          "data": {
            "text/plain": [
              "<Figure size 432x288 with 1 Axes>"
            ],
            "image/png": "[encoded data removed]"
          },
          "metadata": {
            "needs_background": "light"
          }
        },
        {
          "output_type": "display_data",
          "data": {
            "text/plain": [
              "<Figure size 432x288 with 1 Axes>"
            ],
            "image/png": "[encoded data removed]"
          },
          "metadata": {
            "needs_background": "light"
          }
        },
        {
          "output_type": "display_data",
          "data": {
            "text/plain": [
              "<Figure size 432x288 with 1 Axes>"
            ],
            "image/png": "[encoded data removed]"
          },
          "metadata": {
            "needs_background": "light"
          }
        },
        {
          "output_type": "display_data",
          "data": {
            "text/plain": [
              "<Figure size 432x288 with 1 Axes>"
            ],
            "image/png": "[encoded data removed]"
          },
          "metadata": {
            "needs_background": "light"
          }
        }
      ]
    },
    {
      "cell_type": "code",
      "source": [
        "# normalizando o formato de X e Y para que possam ser comparados\n",
        "X = df[df.columns[:-1]].values\n",
        "y = df[df.columns[-1]].values"
      ],
      "metadata": {
        "id": "kksetLav8OT2"
      },
      "execution_count": 105,
      "outputs": []
    },
    {
      "cell_type": "code",
      "source": [
        "# Mostrando o formato\n",
        "X.shape, y.shape"
      ],
      "metadata": {
        "colab": {
          "base_uri": "https://localhost:8080/"
        },
        "id": "Ke8lhB2J8QtT",
        "outputId": "38ce4764-25f7-41ef-912b-804a15493249"
      },
      "execution_count": 106,
      "outputs": [
        {
          "output_type": "execute_result",
          "data": {
            "text/plain": [
              "((12, 10), (12,))"
            ]
          },
          "metadata": {},
          "execution_count": 106
        }
      ]
    },
    {
      "cell_type": "code",
      "source": [
        "# normalizando o formato de X e Y para que possam ser comparados parte 2\n",
        "scaler = StandardScaler()\n",
        "X = scaler.fit_transform(X)\n",
        "data = np.hstack((X, np.reshape(y, (-1, 1))))\n",
        "transformed_df = pd.DataFrame(data, columns=df.columns)"
      ],
      "metadata": {
        "id": "WqB3iSMw8R7f"
      },
      "execution_count": 107,
      "outputs": []
    },
    {
      "cell_type": "code",
      "source": [
        "# normalizando o formato de X e Y para que possam ser comparados parte 3\n",
        "over = RandomOverSampler()\n",
        "X, y = over.fit_resample(X, y)\n",
        "data = np.hstack((X, np.reshape(y, (-1, 1))))\n",
        "transformed_df = pd.DataFrame(data, columns=df.columns)"
      ],
      "metadata": {
        "id": "mjHXBzcl8TLI"
      },
      "execution_count": 108,
      "outputs": []
    },
    {
      "cell_type": "code",
      "source": [
        "# dispozição dos valores do meta sim,não ou 1,0\n",
        "len(transformed_df[transformed_df[\"Meta\"]==1]), len(transformed_df[transformed_df[\"Meta\"]==0])"
      ],
      "metadata": {
        "colab": {
          "base_uri": "https://localhost:8080/"
        },
        "id": "267djDsk8U9N",
        "outputId": "14ec5ffc-4c7b-41f0-88af-39c290d5baec"
      },
      "execution_count": 109,
      "outputs": [
        {
          "output_type": "execute_result",
          "data": {
            "text/plain": [
              "(6, 6)"
            ]
          },
          "metadata": {},
          "execution_count": 109
        }
      ]
    },
    {
      "cell_type": "code",
      "source": [
        "# determinando os treinamentos\n",
        "X_train, X_temp, y_train, y_temp = train_test_split(X, y, test_size=0.4, random_state=0)\n",
        "X_valid, X_test, y_valid, y_test = train_test_split(X_temp, y_temp, test_size=0.5, random_state=0)"
      ],
      "metadata": {
        "id": "P8Koquul8k8I"
      },
      "execution_count": 110,
      "outputs": []
    },
    {
      "cell_type": "code",
      "source": [
        "# definindo a quantidade de camadas e metodo\n",
        "model = tf.keras.Sequential([\n",
        "                             tf.keras.layers.Dense(24, activation='relu'), # if x <= 0 --> 0, x > 0 --> x\n",
        "                             tf.keras.layers.Dense(16, activation='relu'),\n",
        "                             tf.keras.layers.Dense(8, activation='relu'),\n",
        "                             tf.keras.layers.Dense(1, activation=\"sigmoid\")\n",
        "])"
      ],
      "metadata": {
        "id": "evQssdmb8Xs4"
      },
      "execution_count": 111,
      "outputs": []
    },
    {
      "cell_type": "code",
      "source": [
        "# mais alguns parametros e a taxa de aprendizagem\n",
        "model.compile(optimizer=tf.keras.optimizers.Adam(learning_rate=0.001),\n",
        "              loss=tf.keras.losses.BinaryCrossentropy(),\n",
        "              metrics=['accuracy'])"
      ],
      "metadata": {
        "id": "7ETLWcDI8Y3m"
      },
      "execution_count": 112,
      "outputs": []
    },
    {
      "cell_type": "code",
      "source": [
        "# pré avaliação com variaveis de treino\n",
        "model.evaluate(X_train, y_train)"
      ],
      "metadata": {
        "colab": {
          "base_uri": "https://localhost:8080/"
        },
        "id": "VHFYiLS28Zw9",
        "outputId": "60a8a8db-da25-46e5-b510-3c1632625359"
      },
      "execution_count": 113,
      "outputs": [
        {
          "output_type": "stream",
          "name": "stdout",
          "text": [
            "1/1 [==============================] - 1s 653ms/step - loss: 0.6294 - accuracy: 0.7143\n"
          ]
        },
        {
          "output_type": "execute_result",
          "data": {
            "text/plain": [
              "[0.6293858289718628, 0.7142857313156128]"
            ]
          },
          "metadata": {},
          "execution_count": 113
        }
      ]
    },
    {
      "cell_type": "code",
      "source": [
        "# pré avaliação 2\n",
        "model.evaluate(X_valid, y_valid)"
      ],
      "metadata": {
        "colab": {
          "base_uri": "https://localhost:8080/"
        },
        "id": "CSdo_mK-8a5p",
        "outputId": "f488077a-55b7-4c85-df8d-c3fe9f9f1e74"
      },
      "execution_count": 114,
      "outputs": [
        {
          "output_type": "stream",
          "name": "stdout",
          "text": [
            "1/1 [==============================] - 0s 19ms/step - loss: 0.7011 - accuracy: 0.5000\n"
          ]
        },
        {
          "output_type": "execute_result",
          "data": {
            "text/plain": [
              "[0.7010912895202637, 0.5]"
            ]
          },
          "metadata": {},
          "execution_count": 114
        }
      ]
    },
    {
      "cell_type": "code",
      "source": [
        "# treinamento\n",
        "model.fit(X_train, y_train, batch_size=9, epochs=50, validation_data=(X_valid, y_valid))"
      ],
      "metadata": {
        "colab": {
          "base_uri": "https://localhost:8080/"
        },
        "id": "FXfV9IPc8nyA",
        "outputId": "59367776-b022-49a3-be91-900da26f575a"
      },
      "execution_count": 115,
      "outputs": [
        {
          "output_type": "stream",
          "name": "stdout",
          "text": [
            "Epoch 1/50\n",
            "1/1 [==============================] - 2s 2s/step - loss: 0.6294 - accuracy: 0.7143 - val_loss: 0.7021 - val_accuracy: 0.5000\n",
            "Epoch 2/50\n",
            "1/1 [==============================] - 0s 125ms/step - loss: 0.6205 - accuracy: 0.7143 - val_loss: 0.7034 - val_accuracy: 0.5000\n",
            "Epoch 3/50\n",
            "1/1 [==============================] - 0s 66ms/step - loss: 0.6118 - accuracy: 0.7143 - val_loss: 0.7041 - val_accuracy: 0.5000\n",
            "Epoch 4/50\n",
            "1/1 [==============================] - 0s 67ms/step - loss: 0.6033 - accuracy: 0.7143 - val_loss: 0.7041 - val_accuracy: 0.5000\n",
            "Epoch 5/50\n",
            "1/1 [==============================] - 0s 96ms/step - loss: 0.5949 - accuracy: 0.7143 - val_loss: 0.7041 - val_accuracy: 0.5000\n",
            "Epoch 6/50\n",
            "1/1 [==============================] - 0s 35ms/step - loss: 0.5869 - accuracy: 0.8571 - val_loss: 0.7034 - val_accuracy: 0.5000\n",
            "Epoch 7/50\n",
            "1/1 [==============================] - 0s 33ms/step - loss: 0.5791 - accuracy: 0.8571 - val_loss: 0.7020 - val_accuracy: 0.5000\n",
            "Epoch 8/50\n",
            "1/1 [==============================] - 0s 35ms/step - loss: 0.5715 - accuracy: 0.8571 - val_loss: 0.7005 - val_accuracy: 0.5000\n",
            "Epoch 9/50\n",
            "1/1 [==============================] - 0s 41ms/step - loss: 0.5641 - accuracy: 1.0000 - val_loss: 0.6991 - val_accuracy: 0.5000\n",
            "Epoch 10/50\n",
            "1/1 [==============================] - 0s 31ms/step - loss: 0.5573 - accuracy: 1.0000 - val_loss: 0.6977 - val_accuracy: 0.5000\n",
            "Epoch 11/50\n",
            "1/1 [==============================] - 0s 31ms/step - loss: 0.5506 - accuracy: 1.0000 - val_loss: 0.6963 - val_accuracy: 0.5000\n",
            "Epoch 12/50\n",
            "1/1 [==============================] - 0s 47ms/step - loss: 0.5439 - accuracy: 1.0000 - val_loss: 0.6949 - val_accuracy: 0.5000\n",
            "Epoch 13/50\n",
            "1/1 [==============================] - 0s 30ms/step - loss: 0.5371 - accuracy: 1.0000 - val_loss: 0.6934 - val_accuracy: 0.5000\n",
            "Epoch 14/50\n",
            "1/1 [==============================] - 0s 33ms/step - loss: 0.5305 - accuracy: 1.0000 - val_loss: 0.6920 - val_accuracy: 0.5000\n",
            "Epoch 15/50\n",
            "1/1 [==============================] - 0s 32ms/step - loss: 0.5241 - accuracy: 1.0000 - val_loss: 0.6906 - val_accuracy: 0.5000\n",
            "Epoch 16/50\n",
            "1/1 [==============================] - 0s 41ms/step - loss: 0.5176 - accuracy: 1.0000 - val_loss: 0.6892 - val_accuracy: 0.5000\n",
            "Epoch 17/50\n",
            "1/1 [==============================] - 0s 34ms/step - loss: 0.5112 - accuracy: 1.0000 - val_loss: 0.6877 - val_accuracy: 0.5000\n",
            "Epoch 18/50\n",
            "1/1 [==============================] - 0s 31ms/step - loss: 0.5049 - accuracy: 1.0000 - val_loss: 0.6861 - val_accuracy: 0.5000\n",
            "Epoch 19/50\n",
            "1/1 [==============================] - 0s 36ms/step - loss: 0.4987 - accuracy: 1.0000 - val_loss: 0.6844 - val_accuracy: 0.5000\n",
            "Epoch 20/50\n",
            "1/1 [==============================] - 0s 32ms/step - loss: 0.4925 - accuracy: 1.0000 - val_loss: 0.6828 - val_accuracy: 0.5000\n",
            "Epoch 21/50\n",
            "1/1 [==============================] - 0s 33ms/step - loss: 0.4871 - accuracy: 1.0000 - val_loss: 0.6812 - val_accuracy: 0.5000\n",
            "Epoch 22/50\n",
            "1/1 [==============================] - 0s 32ms/step - loss: 0.4818 - accuracy: 1.0000 - val_loss: 0.6796 - val_accuracy: 0.5000\n",
            "Epoch 23/50\n",
            "1/1 [==============================] - 0s 33ms/step - loss: 0.4766 - accuracy: 1.0000 - val_loss: 0.6779 - val_accuracy: 0.5000\n",
            "Epoch 24/50\n",
            "1/1 [==============================] - 0s 31ms/step - loss: 0.4713 - accuracy: 1.0000 - val_loss: 0.6763 - val_accuracy: 0.5000\n",
            "Epoch 25/50\n",
            "1/1 [==============================] - 0s 39ms/step - loss: 0.4661 - accuracy: 1.0000 - val_loss: 0.6746 - val_accuracy: 0.5000\n",
            "Epoch 26/50\n",
            "1/1 [==============================] - 0s 35ms/step - loss: 0.4610 - accuracy: 1.0000 - val_loss: 0.6730 - val_accuracy: 0.5000\n",
            "Epoch 27/50\n",
            "1/1 [==============================] - 0s 32ms/step - loss: 0.4559 - accuracy: 1.0000 - val_loss: 0.6714 - val_accuracy: 0.5000\n",
            "Epoch 28/50\n",
            "1/1 [==============================] - 0s 38ms/step - loss: 0.4509 - accuracy: 1.0000 - val_loss: 0.6697 - val_accuracy: 0.5000\n",
            "Epoch 29/50\n",
            "1/1 [==============================] - 0s 33ms/step - loss: 0.4461 - accuracy: 1.0000 - val_loss: 0.6681 - val_accuracy: 0.5000\n",
            "Epoch 30/50\n",
            "1/1 [==============================] - 0s 31ms/step - loss: 0.4413 - accuracy: 1.0000 - val_loss: 0.6665 - val_accuracy: 0.5000\n",
            "Epoch 31/50\n",
            "1/1 [==============================] - 0s 31ms/step - loss: 0.4365 - accuracy: 1.0000 - val_loss: 0.6649 - val_accuracy: 0.5000\n",
            "Epoch 32/50\n",
            "1/1 [==============================] - 0s 36ms/step - loss: 0.4318 - accuracy: 1.0000 - val_loss: 0.6632 - val_accuracy: 0.5000\n",
            "Epoch 33/50\n",
            "1/1 [==============================] - 0s 41ms/step - loss: 0.4271 - accuracy: 1.0000 - val_loss: 0.6616 - val_accuracy: 0.5000\n",
            "Epoch 34/50\n",
            "1/1 [==============================] - 0s 36ms/step - loss: 0.4225 - accuracy: 1.0000 - val_loss: 0.6588 - val_accuracy: 0.5000\n",
            "Epoch 35/50\n",
            "1/1 [==============================] - 0s 31ms/step - loss: 0.4179 - accuracy: 1.0000 - val_loss: 0.6549 - val_accuracy: 0.5000\n",
            "Epoch 36/50\n",
            "1/1 [==============================] - 0s 38ms/step - loss: 0.4132 - accuracy: 1.0000 - val_loss: 0.6510 - val_accuracy: 0.5000\n",
            "Epoch 37/50\n",
            "1/1 [==============================] - 0s 33ms/step - loss: 0.4088 - accuracy: 1.0000 - val_loss: 0.6473 - val_accuracy: 0.5000\n",
            "Epoch 38/50\n",
            "1/1 [==============================] - 0s 34ms/step - loss: 0.4046 - accuracy: 1.0000 - val_loss: 0.6436 - val_accuracy: 0.5000\n",
            "Epoch 39/50\n",
            "1/1 [==============================] - 0s 32ms/step - loss: 0.4001 - accuracy: 1.0000 - val_loss: 0.6401 - val_accuracy: 0.5000\n",
            "Epoch 40/50\n",
            "1/1 [==============================] - 0s 35ms/step - loss: 0.3960 - accuracy: 1.0000 - val_loss: 0.6365 - val_accuracy: 0.5000\n",
            "Epoch 41/50\n",
            "1/1 [==============================] - 0s 32ms/step - loss: 0.3919 - accuracy: 1.0000 - val_loss: 0.6331 - val_accuracy: 0.5000\n",
            "Epoch 42/50\n",
            "1/1 [==============================] - 0s 40ms/step - loss: 0.3877 - accuracy: 1.0000 - val_loss: 0.6296 - val_accuracy: 0.5000\n",
            "Epoch 43/50\n",
            "1/1 [==============================] - 0s 38ms/step - loss: 0.3837 - accuracy: 1.0000 - val_loss: 0.6260 - val_accuracy: 0.5000\n",
            "Epoch 44/50\n",
            "1/1 [==============================] - 0s 31ms/step - loss: 0.3795 - accuracy: 1.0000 - val_loss: 0.6223 - val_accuracy: 0.5000\n",
            "Epoch 45/50\n",
            "1/1 [==============================] - 0s 38ms/step - loss: 0.3754 - accuracy: 1.0000 - val_loss: 0.6185 - val_accuracy: 1.0000\n",
            "Epoch 46/50\n",
            "1/1 [==============================] - 0s 36ms/step - loss: 0.3713 - accuracy: 1.0000 - val_loss: 0.6147 - val_accuracy: 1.0000\n",
            "Epoch 47/50\n",
            "1/1 [==============================] - 0s 32ms/step - loss: 0.3674 - accuracy: 1.0000 - val_loss: 0.6109 - val_accuracy: 1.0000\n",
            "Epoch 48/50\n",
            "1/1 [==============================] - 0s 34ms/step - loss: 0.3634 - accuracy: 1.0000 - val_loss: 0.6072 - val_accuracy: 1.0000\n",
            "Epoch 49/50\n",
            "1/1 [==============================] - 0s 34ms/step - loss: 0.3596 - accuracy: 1.0000 - val_loss: 0.6035 - val_accuracy: 1.0000\n",
            "Epoch 50/50\n",
            "1/1 [==============================] - 0s 31ms/step - loss: 0.3560 - accuracy: 1.0000 - val_loss: 0.6000 - val_accuracy: 1.0000\n"
          ]
        },
        {
          "output_type": "execute_result",
          "data": {
            "text/plain": [
              "<keras.callbacks.History at 0x7f87cc9d64c0>"
            ]
          },
          "metadata": {},
          "execution_count": 115
        }
      ]
    },
    {
      "cell_type": "code",
      "source": [
        "# avaliação com as variaveis separadas para teste\n",
        "model.evaluate(X_test, y_test)"
      ],
      "metadata": {
        "colab": {
          "base_uri": "https://localhost:8080/"
        },
        "id": "dHFFyjzo8qkl",
        "outputId": "3457f87b-4f36-49ef-db5b-3339cdd281ad"
      },
      "execution_count": 116,
      "outputs": [
        {
          "output_type": "stream",
          "name": "stdout",
          "text": [
            "1/1 [==============================] - 0s 23ms/step - loss: 0.6808 - accuracy: 0.6667\n"
          ]
        },
        {
          "output_type": "execute_result",
          "data": {
            "text/plain": [
              "[0.6808058619499207, 0.6666666865348816]"
            ]
          },
          "metadata": {},
          "execution_count": 116
        }
      ]
    },
    {
      "cell_type": "code",
      "source": [
        "# avaliação com todos os elementos\n",
        "model.evaluate(X, y)"
      ],
      "metadata": {
        "colab": {
          "base_uri": "https://localhost:8080/"
        },
        "id": "COr5_Xjd8rzJ",
        "outputId": "989989c0-8cb2-46fd-dad6-482a01534a65"
      },
      "execution_count": 117,
      "outputs": [
        {
          "output_type": "stream",
          "name": "stdout",
          "text": [
            "1/1 [==============================] - 0s 24ms/step - loss: 0.4756 - accuracy: 0.9167\n"
          ]
        },
        {
          "output_type": "execute_result",
          "data": {
            "text/plain": [
              "[0.4756089448928833, 0.9166666865348816]"
            ]
          },
          "metadata": {},
          "execution_count": 117
        }
      ]
    }
  ]
}