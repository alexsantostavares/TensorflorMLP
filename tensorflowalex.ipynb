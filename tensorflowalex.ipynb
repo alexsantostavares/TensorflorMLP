{
  "nbformat": 4,
  "nbformat_minor": 0,
  "metadata": {
    "colab": {
      "provenance": [],
      "include_colab_link": true
    },
    "kernelspec": {
      "name": "python3",
      "display_name": "Python 3"
    },
    "language_info": {
      "name": "python"
    }
  },
  "cells": [
    {
      "cell_type": "markdown",
      "metadata": {
        "id": "view-in-github",
        "colab_type": "text"
      },
      "source": [
        "<a href=\"https://colab.research.google.com/github/alexsantostavares/TensorflorMLP/blob/master/tensorflowalex.ipynb\" target=\"_parent\"><img src=\"https://colab.research.google.com/assets/colab-badge.svg\" alt=\"Open In Colab\"/></a>"
      ]
    },
    {
      "cell_type": "code",
      "source": [
        "!pip install -U imbalanced-learn"
      ],
      "metadata": {
        "colab": {
          "base_uri": "https://localhost:8080/"
        },
        "id": "qnQgae_cbWJ6",
        "outputId": "ba82090a-4d16-463d-bb15-3c9ba2690970"
      },
      "execution_count": 251,
      "outputs": [
        {
          "output_type": "stream",
          "name": "stdout",
          "text": [
            "Looking in indexes: https://pypi.org/simple, https://us-python.pkg.dev/colab-wheels/public/simple/\n",
            "Requirement already satisfied: imbalanced-learn in /usr/local/lib/python3.8/dist-packages (0.9.1)\n",
            "Requirement already satisfied: scikit-learn>=1.1.0 in /usr/local/lib/python3.8/dist-packages (from imbalanced-learn) (1.1.3)\n",
            "Requirement already satisfied: threadpoolctl>=2.0.0 in /usr/local/lib/python3.8/dist-packages (from imbalanced-learn) (3.1.0)\n",
            "Requirement already satisfied: joblib>=1.0.0 in /usr/local/lib/python3.8/dist-packages (from imbalanced-learn) (1.2.0)\n",
            "Requirement already satisfied: scipy>=1.3.2 in /usr/local/lib/python3.8/dist-packages (from imbalanced-learn) (1.7.3)\n",
            "Requirement already satisfied: numpy>=1.17.3 in /usr/local/lib/python3.8/dist-packages (from imbalanced-learn) (1.21.6)\n"
          ]
        }
      ]
    },
    {
      "cell_type": "code",
      "execution_count": 252,
      "metadata": {
        "id": "INR3CT8rS9Rv"
      },
      "outputs": [],
      "source": [
        "#importando todas as bibliotecas\n",
        "import numpy as np\n",
        "import pandas as pd\n",
        "import matplotlib.pyplot as plt\n",
        "from sklearn.model_selection import train_test_split\n",
        "from sklearn.preprocessing import StandardScaler\n",
        "import tensorflow as tf\n",
        "from imblearn.over_sampling import RandomOverSampler"
      ]
    },
    {
      "cell_type": "code",
      "source": [
        "#leitura do arquivo csv\n",
        "df = pd.read_csv(\"/content/sample_data/BD-2trab(CSV) (1).csv\")"
      ],
      "metadata": {
        "id": "m699oQ22TBDo"
      },
      "execution_count": 253,
      "outputs": []
    },
    {
      "cell_type": "code",
      "source": [
        "#transformando o arquivo para linguagem compreensivel(inteiros)\n",
        "\n",
        "df = df.replace(['$$$'],'Caro')\n",
        "df = df.replace(['$$'],'Médio')\n",
        "df = df.replace(['$'],'Barato')\n",
        "df = df.replace(['Sim'], 1)\n",
        "df = df.replace([' Sim'], 1)\n",
        "df = df.replace(['Sim '], 1)\n",
        "df = df.replace(['Não'], 0)\n",
        "df = df.replace(['Caro'], 100)\n",
        "df = df.replace(['Médio'], 50)\n",
        "df = df.replace(['Barato'], 25)\n",
        "df = df.replace(['Fra'], 10)\n",
        "df = df.replace(['Tai'], 11)\n",
        "df = df.replace(['Ham'], 12)\n",
        "df = df.replace(['Ita'], 13)\n",
        "df = df.replace(['0-10'], 110)\n",
        "df = df.replace(['10-30'], 130)\n",
        "df = df.replace(['30-60'], 160)\n",
        "df = df.replace(['>60'], 190)\n",
        "\n",
        "df = df.replace(['Alg'], 1001)\n",
        "df = df.replace(['Che'], 1002)\n",
        "df = df.replace(['Ne'], 1003)"
      ],
      "metadata": {
        "id": "TT6QC9RE4Pbs"
      },
      "execution_count": 254,
      "outputs": []
    },
    {
      "cell_type": "code",
      "source": [
        "#exibindo a tabela\n",
        "df.head()"
      ],
      "metadata": {
        "colab": {
          "base_uri": "https://localhost:8080/",
          "height": 206
        },
        "id": "tQjtjvRkTdYR",
        "outputId": "189c2601-37ce-4b28-9487-7366037a661f"
      },
      "execution_count": 255,
      "outputs": [
        {
          "output_type": "execute_result",
          "data": {
            "text/plain": [
              "   Alternativo  Bar  Sex/Sab  Faminto  Cliente  Preço  Chove  Reserva  Tipo  \\\n",
              "0            1    0        0        1     1001    100      0        1    10   \n",
              "1            1    0        0        1     1002     25      0        0    11   \n",
              "2            0    1        0        0     1001     25      0        0    12   \n",
              "3            1    0        1        1     1002     25      1        0    11   \n",
              "4            1    0        1        0     1002    100      0        1    10   \n",
              "\n",
              "   Espera  Meta  \n",
              "0     110     1  \n",
              "1     160     0  \n",
              "2     110     1  \n",
              "3     130     1  \n",
              "4     190     0  "
            ],
            "text/html": [
              "\n",
              "  <div id=\"df-ba88d18d-94ec-48ed-8ff0-0a9dfb33189f\">\n",
              "    <div class=\"colab-df-container\">\n",
              "      <div>\n",
              "<style scoped>\n",
              "    .dataframe tbody tr th:only-of-type {\n",
              "        vertical-align: middle;\n",
              "    }\n",
              "\n",
              "    .dataframe tbody tr th {\n",
              "        vertical-align: top;\n",
              "    }\n",
              "\n",
              "    .dataframe thead th {\n",
              "        text-align: right;\n",
              "    }\n",
              "</style>\n",
              "<table border=\"1\" class=\"dataframe\">\n",
              "  <thead>\n",
              "    <tr style=\"text-align: right;\">\n",
              "      <th></th>\n",
              "      <th>Alternativo</th>\n",
              "      <th>Bar</th>\n",
              "      <th>Sex/Sab</th>\n",
              "      <th>Faminto</th>\n",
              "      <th>Cliente</th>\n",
              "      <th>Preço</th>\n",
              "      <th>Chove</th>\n",
              "      <th>Reserva</th>\n",
              "      <th>Tipo</th>\n",
              "      <th>Espera</th>\n",
              "      <th>Meta</th>\n",
              "    </tr>\n",
              "  </thead>\n",
              "  <tbody>\n",
              "    <tr>\n",
              "      <th>0</th>\n",
              "      <td>1</td>\n",
              "      <td>0</td>\n",
              "      <td>0</td>\n",
              "      <td>1</td>\n",
              "      <td>1001</td>\n",
              "      <td>100</td>\n",
              "      <td>0</td>\n",
              "      <td>1</td>\n",
              "      <td>10</td>\n",
              "      <td>110</td>\n",
              "      <td>1</td>\n",
              "    </tr>\n",
              "    <tr>\n",
              "      <th>1</th>\n",
              "      <td>1</td>\n",
              "      <td>0</td>\n",
              "      <td>0</td>\n",
              "      <td>1</td>\n",
              "      <td>1002</td>\n",
              "      <td>25</td>\n",
              "      <td>0</td>\n",
              "      <td>0</td>\n",
              "      <td>11</td>\n",
              "      <td>160</td>\n",
              "      <td>0</td>\n",
              "    </tr>\n",
              "    <tr>\n",
              "      <th>2</th>\n",
              "      <td>0</td>\n",
              "      <td>1</td>\n",
              "      <td>0</td>\n",
              "      <td>0</td>\n",
              "      <td>1001</td>\n",
              "      <td>25</td>\n",
              "      <td>0</td>\n",
              "      <td>0</td>\n",
              "      <td>12</td>\n",
              "      <td>110</td>\n",
              "      <td>1</td>\n",
              "    </tr>\n",
              "    <tr>\n",
              "      <th>3</th>\n",
              "      <td>1</td>\n",
              "      <td>0</td>\n",
              "      <td>1</td>\n",
              "      <td>1</td>\n",
              "      <td>1002</td>\n",
              "      <td>25</td>\n",
              "      <td>1</td>\n",
              "      <td>0</td>\n",
              "      <td>11</td>\n",
              "      <td>130</td>\n",
              "      <td>1</td>\n",
              "    </tr>\n",
              "    <tr>\n",
              "      <th>4</th>\n",
              "      <td>1</td>\n",
              "      <td>0</td>\n",
              "      <td>1</td>\n",
              "      <td>0</td>\n",
              "      <td>1002</td>\n",
              "      <td>100</td>\n",
              "      <td>0</td>\n",
              "      <td>1</td>\n",
              "      <td>10</td>\n",
              "      <td>190</td>\n",
              "      <td>0</td>\n",
              "    </tr>\n",
              "  </tbody>\n",
              "</table>\n",
              "</div>\n",
              "      <button class=\"colab-df-convert\" onclick=\"convertToInteractive('df-ba88d18d-94ec-48ed-8ff0-0a9dfb33189f')\"\n",
              "              title=\"Convert this dataframe to an interactive table.\"\n",
              "              style=\"display:none;\">\n",
              "        \n",
              "  <svg xmlns=\"http://www.w3.org/2000/svg\" height=\"24px\"viewBox=\"0 0 24 24\"\n",
              "       width=\"24px\">\n",
              "    <path d=\"M0 0h24v24H0V0z\" fill=\"none\"/>\n",
              "    <path d=\"M18.56 5.44l.94 2.06.94-2.06 2.06-.94-2.06-.94-.94-2.06-.94 2.06-2.06.94zm-11 1L8.5 8.5l.94-2.06 2.06-.94-2.06-.94L8.5 2.5l-.94 2.06-2.06.94zm10 10l.94 2.06.94-2.06 2.06-.94-2.06-.94-.94-2.06-.94 2.06-2.06.94z\"/><path d=\"M17.41 7.96l-1.37-1.37c-.4-.4-.92-.59-1.43-.59-.52 0-1.04.2-1.43.59L10.3 9.45l-7.72 7.72c-.78.78-.78 2.05 0 2.83L4 21.41c.39.39.9.59 1.41.59.51 0 1.02-.2 1.41-.59l7.78-7.78 2.81-2.81c.8-.78.8-2.07 0-2.86zM5.41 20L4 18.59l7.72-7.72 1.47 1.35L5.41 20z\"/>\n",
              "  </svg>\n",
              "      </button>\n",
              "      \n",
              "  <style>\n",
              "    .colab-df-container {\n",
              "      display:flex;\n",
              "      flex-wrap:wrap;\n",
              "      gap: 12px;\n",
              "    }\n",
              "\n",
              "    .colab-df-convert {\n",
              "      background-color: #E8F0FE;\n",
              "      border: none;\n",
              "      border-radius: 50%;\n",
              "      cursor: pointer;\n",
              "      display: none;\n",
              "      fill: #1967D2;\n",
              "      height: 32px;\n",
              "      padding: 0 0 0 0;\n",
              "      width: 32px;\n",
              "    }\n",
              "\n",
              "    .colab-df-convert:hover {\n",
              "      background-color: #E2EBFA;\n",
              "      box-shadow: 0px 1px 2px rgba(60, 64, 67, 0.3), 0px 1px 3px 1px rgba(60, 64, 67, 0.15);\n",
              "      fill: #174EA6;\n",
              "    }\n",
              "\n",
              "    [theme=dark] .colab-df-convert {\n",
              "      background-color: #3B4455;\n",
              "      fill: #D2E3FC;\n",
              "    }\n",
              "\n",
              "    [theme=dark] .colab-df-convert:hover {\n",
              "      background-color: #434B5C;\n",
              "      box-shadow: 0px 1px 3px 1px rgba(0, 0, 0, 0.15);\n",
              "      filter: drop-shadow(0px 1px 2px rgba(0, 0, 0, 0.3));\n",
              "      fill: #FFFFFF;\n",
              "    }\n",
              "  </style>\n",
              "\n",
              "      <script>\n",
              "        const buttonEl =\n",
              "          document.querySelector('#df-ba88d18d-94ec-48ed-8ff0-0a9dfb33189f button.colab-df-convert');\n",
              "        buttonEl.style.display =\n",
              "          google.colab.kernel.accessAllowed ? 'block' : 'none';\n",
              "\n",
              "        async function convertToInteractive(key) {\n",
              "          const element = document.querySelector('#df-ba88d18d-94ec-48ed-8ff0-0a9dfb33189f');\n",
              "          const dataTable =\n",
              "            await google.colab.kernel.invokeFunction('convertToInteractive',\n",
              "                                                     [key], {});\n",
              "          if (!dataTable) return;\n",
              "\n",
              "          const docLinkHtml = 'Like what you see? Visit the ' +\n",
              "            '<a target=\"_blank\" href=https://colab.research.google.com/notebooks/data_table.ipynb>data table notebook</a>'\n",
              "            + ' to learn more about interactive tables.';\n",
              "          element.innerHTML = '';\n",
              "          dataTable['output_type'] = 'display_data';\n",
              "          await google.colab.output.renderOutput(dataTable, element);\n",
              "          const docLink = document.createElement('div');\n",
              "          docLink.innerHTML = docLinkHtml;\n",
              "          element.appendChild(docLink);\n",
              "        }\n",
              "      </script>\n",
              "    </div>\n",
              "  </div>\n",
              "  "
            ]
          },
          "metadata": {},
          "execution_count": 255
        }
      ]
    },
    {
      "cell_type": "code",
      "source": [
        "# mostrando todas as relações das colunas da tabela com a Meta\n",
        "for i in range(len(df.columns[:-1])):\n",
        "  label = df.columns[i]\n",
        "  plt.hist(df[df['Meta']== 1][label], color='blue', label=\"Sim\", alpha=0.7, density=True, bins=15)\n",
        "  plt.hist(df[df['Meta']== 0][label], color='red', label=\"Não\", alpha=0.7, density=True, bins=15)\n",
        "  plt.title(label)\n",
        "  plt.ylabel(\"Probabilidade\")\n",
        "  plt.xlabel(label)\n",
        "  plt.legend()\n",
        "  plt.show()"
      ],
      "metadata": {
        "colab": {
          "base_uri": "https://localhost:8080/",
          "height": 1000
        },
        "id": "BULFaNw3TeJV",
        "outputId": "7ecf05bc-017f-4d4f-8220-3f41e20ea54a"
      },
      "execution_count": 256,
      "outputs": [
        {
          "output_type": "display_data",
          "data": {
            "text/plain": [
              "<Figure size 432x288 with 1 Axes>"
            ],
            "image/png": "[encoded data removed]"
          },
          "metadata": {
            "needs_background": "light"
          }
        },
        {
          "output_type": "display_data",
          "data": {
            "text/plain": [
              "<Figure size 432x288 with 1 Axes>"
            ],
            "image/png": "[encoded data removed]"
          },
          "metadata": {
            "needs_background": "light"
          }
        },
        {
          "output_type": "display_data",
          "data": {
            "text/plain": [
              "<Figure size 432x288 with 1 Axes>"
            ],
            "image/png": "[encoded data removed]"
          },
          "metadata": {
            "needs_background": "light"
          }
        },
        {
          "output_type": "display_data",
          "data": {
            "text/plain": [
              "<Figure size 432x288 with 1 Axes>"
            ],
            "image/png": "[encoded data removed]"
          },
          "metadata": {
            "needs_background": "light"
          }
        },
        {
          "output_type": "display_data",
          "data": {
            "text/plain": [
              "<Figure size 432x288 with 1 Axes>"
            ],
            "image/png": "[encoded data removed]"
          },
          "metadata": {
            "needs_background": "light"
          }
        },
        {
          "output_type": "display_data",
          "data": {
            "text/plain": [
              "<Figure size 432x288 with 1 Axes>"
            ],
            "image/png": "[encoded data removed]"
          },
          "metadata": {
            "needs_background": "light"
          }
        },
        {
          "output_type": "display_data",
          "data": {
            "text/plain": [
              "<Figure size 432x288 with 1 Axes>"
            ],
            "image/png": "[encoded data removed]"
          },
          "metadata": {
            "needs_background": "light"
          }
        },
        {
          "output_type": "display_data",
          "data": {
            "text/plain": [
              "<Figure size 432x288 with 1 Axes>"
            ],
            "image/png": "[encoded data removed]"
          },
          "metadata": {
            "needs_background": "light"
          }
        },
        {
          "output_type": "display_data",
          "data": {
            "text/plain": [
              "<Figure size 432x288 with 1 Axes>"
            ],
            "image/png": "[encoded data removed]"
          },
          "metadata": {
            "needs_background": "light"
          }
        },
        {
          "output_type": "display_data",
          "data": {
            "text/plain": [
              "<Figure size 432x288 with 1 Axes>"
            ],
            "image/png": "[encoded data removed]"
          },
          "metadata": {
            "needs_background": "light"
          }
        }
      ]
    },
    {
      "cell_type": "code",
      "source": [
        "# normalizando o formato de X e Y para que possam ser comparados\n",
        "X = df[df.columns[:-1]].values\n",
        "y = df[df.columns[-1]].values"
      ],
      "metadata": {
        "id": "wJVA9Lc8UiMx"
      },
      "execution_count": 257,
      "outputs": []
    },
    {
      "cell_type": "code",
      "source": [
        "# Mostrando o formato\n",
        "X.shape, y.shape"
      ],
      "metadata": {
        "colab": {
          "base_uri": "https://localhost:8080/"
        },
        "id": "ROrVPYHkadbe",
        "outputId": "38c25c9a-e6b8-4b77-e94a-d689ecf2c057"
      },
      "execution_count": 258,
      "outputs": [
        {
          "output_type": "execute_result",
          "data": {
            "text/plain": [
              "((12, 10), (12,))"
            ]
          },
          "metadata": {},
          "execution_count": 258
        }
      ]
    },
    {
      "cell_type": "code",
      "source": [
        "# normalizando o formato de X e Y para que possam ser comparados parte 2\n",
        "scaler = StandardScaler()\n",
        "X = scaler.fit_transform(X)\n",
        "data = np.hstack((X, np.reshape(y, (-1, 1))))\n",
        "transformed_df = pd.DataFrame(data, columns=df.columns)"
      ],
      "metadata": {
        "id": "JftXjjF8aFma"
      },
      "execution_count": 259,
      "outputs": []
    },
    {
      "cell_type": "code",
      "source": [
        "# normalizando o formato de X e Y para que possam ser comparados parte 3\n",
        "over = RandomOverSampler()\n",
        "X, y = over.fit_resample(X, y)\n",
        "data = np.hstack((X, np.reshape(y, (-1, 1))))\n",
        "transformed_df = pd.DataFrame(data, columns=df.columns)"
      ],
      "metadata": {
        "id": "A5oHtGZjbejl"
      },
      "execution_count": 260,
      "outputs": []
    },
    {
      "cell_type": "code",
      "source": [
        "# dispozição dos valores do meta sim,não ou 1,0\n",
        "len(transformed_df[transformed_df[\"Meta\"]==1]), len(transformed_df[transformed_df[\"Meta\"]==0])"
      ],
      "metadata": {
        "colab": {
          "base_uri": "https://localhost:8080/"
        },
        "id": "sOqdGfTza-Gl",
        "outputId": "5623124f-fce0-431a-e02f-de6912f1395d"
      },
      "execution_count": 261,
      "outputs": [
        {
          "output_type": "execute_result",
          "data": {
            "text/plain": [
              "(6, 6)"
            ]
          },
          "metadata": {},
          "execution_count": 261
        }
      ]
    },
    {
      "cell_type": "code",
      "source": [
        "# determinando os treinamentos\n",
        "X_train, X_temp, y_train, y_temp = train_test_split(X, y, test_size=0.4, random_state=0)\n",
        "X_valid, X_test, y_valid, y_test = train_test_split(X_temp, y_temp, test_size=0.5, random_state=0)"
      ],
      "metadata": {
        "id": "mo2-uhrBVZPC"
      },
      "execution_count": 262,
      "outputs": []
    },
    {
      "cell_type": "code",
      "source": [
        "# definindo a quantidade de camadas e metodo\n",
        "model = tf.keras.Sequential([\n",
        "                             tf.keras.layers.Dense(24, activation='relu'), # if x <= 0 --> 0, x > 0 --> x\n",
        "                             tf.keras.layers.Dense(16, activation='relu'),\n",
        "                             tf.keras.layers.Dense(8, activation='relu'),\n",
        "                             tf.keras.layers.Dense(1, activation=\"sigmoid\")\n",
        "])"
      ],
      "metadata": {
        "id": "uWNbwA7mWFj3"
      },
      "execution_count": 263,
      "outputs": []
    },
    {
      "cell_type": "code",
      "source": [
        "# mais alguns parametros e a taxa de aprendizagem\n",
        "model.compile(optimizer=tf.keras.optimizers.Adam(learning_rate=0.001),\n",
        "              loss=tf.keras.losses.BinaryCrossentropy(),\n",
        "              metrics=['accuracy'])"
      ],
      "metadata": {
        "id": "ve21a--WXTDg"
      },
      "execution_count": 264,
      "outputs": []
    },
    {
      "cell_type": "code",
      "source": [
        "# pré avaliação com variaveis de treino\n",
        "model.evaluate(X_train, y_train)"
      ],
      "metadata": {
        "colab": {
          "base_uri": "https://localhost:8080/"
        },
        "id": "gRTstfSMX05S",
        "outputId": "cd1844e0-ccbb-4b5d-de24-59f72efb200b"
      },
      "execution_count": 265,
      "outputs": [
        {
          "output_type": "stream",
          "name": "stdout",
          "text": [
            "1/1 [==============================] - 0s 442ms/step - loss: 0.6624 - accuracy: 0.8571\n"
          ]
        },
        {
          "output_type": "execute_result",
          "data": {
            "text/plain": [
              "[0.6624076962471008, 0.8571428656578064]"
            ]
          },
          "metadata": {},
          "execution_count": 265
        }
      ]
    },
    {
      "cell_type": "code",
      "source": [
        "# pré avaliação 2\n",
        "model.evaluate(X_valid, y_valid)"
      ],
      "metadata": {
        "colab": {
          "base_uri": "https://localhost:8080/"
        },
        "id": "61wpwkqD3Rwu",
        "outputId": "fafe46e6-50aa-48c0-c798-dec9c2e11ed3"
      },
      "execution_count": 266,
      "outputs": [
        {
          "output_type": "stream",
          "name": "stdout",
          "text": [
            "1/1 [==============================] - 0s 24ms/step - loss: 0.6835 - accuracy: 0.5000\n"
          ]
        },
        {
          "output_type": "execute_result",
          "data": {
            "text/plain": [
              "[0.6835159659385681, 0.5]"
            ]
          },
          "metadata": {},
          "execution_count": 266
        }
      ]
    },
    {
      "cell_type": "code",
      "source": [
        "# treinamento\n",
        "model.fit(X_train, y_train, batch_size=9, epochs=50, validation_data=(X_valid, y_valid))"
      ],
      "metadata": {
        "colab": {
          "base_uri": "https://localhost:8080/"
        },
        "id": "OlxgtY6pYF1E",
        "outputId": "13613ab8-cfd4-42b6-c69f-842953c74d27"
      },
      "execution_count": 267,
      "outputs": [
        {
          "output_type": "stream",
          "name": "stdout",
          "text": [
            "Epoch 1/50\n",
            "1/1 [==============================] - 1s 700ms/step - loss: 0.6624 - accuracy: 0.8571 - val_loss: 0.6821 - val_accuracy: 0.5000\n",
            "Epoch 2/50\n",
            "1/1 [==============================] - 0s 36ms/step - loss: 0.6563 - accuracy: 0.8571 - val_loss: 0.6808 - val_accuracy: 0.5000\n",
            "Epoch 3/50\n",
            "1/1 [==============================] - 0s 38ms/step - loss: 0.6515 - accuracy: 0.8571 - val_loss: 0.6797 - val_accuracy: 0.5000\n",
            "Epoch 4/50\n",
            "1/1 [==============================] - 0s 34ms/step - loss: 0.6468 - accuracy: 0.8571 - val_loss: 0.6786 - val_accuracy: 0.5000\n",
            "Epoch 5/50\n",
            "1/1 [==============================] - 0s 34ms/step - loss: 0.6421 - accuracy: 0.8571 - val_loss: 0.6775 - val_accuracy: 0.5000\n",
            "Epoch 6/50\n",
            "1/1 [==============================] - 0s 72ms/step - loss: 0.6376 - accuracy: 0.8571 - val_loss: 0.6766 - val_accuracy: 0.5000\n",
            "Epoch 7/50\n",
            "1/1 [==============================] - 0s 57ms/step - loss: 0.6331 - accuracy: 0.8571 - val_loss: 0.6759 - val_accuracy: 0.5000\n",
            "Epoch 8/50\n",
            "1/1 [==============================] - 0s 48ms/step - loss: 0.6288 - accuracy: 0.8571 - val_loss: 0.6758 - val_accuracy: 1.0000\n",
            "Epoch 9/50\n",
            "1/1 [==============================] - 0s 46ms/step - loss: 0.6245 - accuracy: 0.8571 - val_loss: 0.6756 - val_accuracy: 1.0000\n",
            "Epoch 10/50\n",
            "1/1 [==============================] - 0s 76ms/step - loss: 0.6208 - accuracy: 0.8571 - val_loss: 0.6754 - val_accuracy: 1.0000\n",
            "Epoch 11/50\n",
            "1/1 [==============================] - 0s 55ms/step - loss: 0.6164 - accuracy: 0.8571 - val_loss: 0.6752 - val_accuracy: 1.0000\n",
            "Epoch 12/50\n",
            "1/1 [==============================] - 0s 44ms/step - loss: 0.6117 - accuracy: 0.8571 - val_loss: 0.6749 - val_accuracy: 1.0000\n",
            "Epoch 13/50\n",
            "1/1 [==============================] - 0s 36ms/step - loss: 0.6068 - accuracy: 0.8571 - val_loss: 0.6745 - val_accuracy: 1.0000\n",
            "Epoch 14/50\n",
            "1/1 [==============================] - 0s 36ms/step - loss: 0.6019 - accuracy: 0.8571 - val_loss: 0.6741 - val_accuracy: 1.0000\n",
            "Epoch 15/50\n",
            "1/1 [==============================] - 0s 34ms/step - loss: 0.5966 - accuracy: 1.0000 - val_loss: 0.6737 - val_accuracy: 1.0000\n",
            "Epoch 16/50\n",
            "1/1 [==============================] - 0s 46ms/step - loss: 0.5915 - accuracy: 1.0000 - val_loss: 0.6742 - val_accuracy: 1.0000\n",
            "Epoch 17/50\n",
            "1/1 [==============================] - 0s 36ms/step - loss: 0.5867 - accuracy: 1.0000 - val_loss: 0.6748 - val_accuracy: 1.0000\n",
            "Epoch 18/50\n",
            "1/1 [==============================] - 0s 40ms/step - loss: 0.5818 - accuracy: 1.0000 - val_loss: 0.6755 - val_accuracy: 1.0000\n",
            "Epoch 19/50\n",
            "1/1 [==============================] - 0s 33ms/step - loss: 0.5770 - accuracy: 1.0000 - val_loss: 0.6764 - val_accuracy: 0.5000\n",
            "Epoch 20/50\n",
            "1/1 [==============================] - 0s 40ms/step - loss: 0.5722 - accuracy: 1.0000 - val_loss: 0.6771 - val_accuracy: 0.5000\n",
            "Epoch 21/50\n",
            "1/1 [==============================] - 0s 38ms/step - loss: 0.5672 - accuracy: 1.0000 - val_loss: 0.6777 - val_accuracy: 0.5000\n",
            "Epoch 22/50\n",
            "1/1 [==============================] - 0s 37ms/step - loss: 0.5622 - accuracy: 1.0000 - val_loss: 0.6783 - val_accuracy: 0.5000\n",
            "Epoch 23/50\n",
            "1/1 [==============================] - 0s 45ms/step - loss: 0.5571 - accuracy: 1.0000 - val_loss: 0.6789 - val_accuracy: 0.5000\n",
            "Epoch 24/50\n",
            "1/1 [==============================] - 0s 43ms/step - loss: 0.5519 - accuracy: 1.0000 - val_loss: 0.6795 - val_accuracy: 0.5000\n",
            "Epoch 25/50\n",
            "1/1 [==============================] - 0s 42ms/step - loss: 0.5466 - accuracy: 1.0000 - val_loss: 0.6801 - val_accuracy: 0.5000\n",
            "Epoch 26/50\n",
            "1/1 [==============================] - 0s 36ms/step - loss: 0.5416 - accuracy: 1.0000 - val_loss: 0.6807 - val_accuracy: 0.5000\n",
            "Epoch 27/50\n",
            "1/1 [==============================] - 0s 44ms/step - loss: 0.5365 - accuracy: 1.0000 - val_loss: 0.6812 - val_accuracy: 0.5000\n",
            "Epoch 28/50\n",
            "1/1 [==============================] - 0s 39ms/step - loss: 0.5312 - accuracy: 1.0000 - val_loss: 0.6817 - val_accuracy: 0.5000\n",
            "Epoch 29/50\n",
            "1/1 [==============================] - 0s 35ms/step - loss: 0.5260 - accuracy: 1.0000 - val_loss: 0.6822 - val_accuracy: 0.5000\n",
            "Epoch 30/50\n",
            "1/1 [==============================] - 0s 41ms/step - loss: 0.5208 - accuracy: 1.0000 - val_loss: 0.6827 - val_accuracy: 0.5000\n",
            "Epoch 31/50\n",
            "1/1 [==============================] - 0s 35ms/step - loss: 0.5158 - accuracy: 1.0000 - val_loss: 0.6832 - val_accuracy: 0.5000\n",
            "Epoch 32/50\n",
            "1/1 [==============================] - 0s 38ms/step - loss: 0.5108 - accuracy: 1.0000 - val_loss: 0.6836 - val_accuracy: 0.5000\n",
            "Epoch 33/50\n",
            "1/1 [==============================] - 0s 43ms/step - loss: 0.5057 - accuracy: 1.0000 - val_loss: 0.6839 - val_accuracy: 0.5000\n",
            "Epoch 34/50\n",
            "1/1 [==============================] - 0s 36ms/step - loss: 0.5005 - accuracy: 1.0000 - val_loss: 0.6844 - val_accuracy: 0.5000\n",
            "Epoch 35/50\n",
            "1/1 [==============================] - 0s 37ms/step - loss: 0.4954 - accuracy: 1.0000 - val_loss: 0.6848 - val_accuracy: 0.5000\n",
            "Epoch 36/50\n",
            "1/1 [==============================] - 0s 35ms/step - loss: 0.4903 - accuracy: 1.0000 - val_loss: 0.6852 - val_accuracy: 0.5000\n",
            "Epoch 37/50\n",
            "1/1 [==============================] - 0s 42ms/step - loss: 0.4853 - accuracy: 1.0000 - val_loss: 0.6858 - val_accuracy: 0.5000\n",
            "Epoch 38/50\n",
            "1/1 [==============================] - 0s 34ms/step - loss: 0.4803 - accuracy: 1.0000 - val_loss: 0.6865 - val_accuracy: 0.5000\n",
            "Epoch 39/50\n",
            "1/1 [==============================] - 0s 36ms/step - loss: 0.4753 - accuracy: 1.0000 - val_loss: 0.6873 - val_accuracy: 0.5000\n",
            "Epoch 40/50\n",
            "1/1 [==============================] - 0s 38ms/step - loss: 0.4702 - accuracy: 1.0000 - val_loss: 0.6879 - val_accuracy: 0.5000\n",
            "Epoch 41/50\n",
            "1/1 [==============================] - 0s 37ms/step - loss: 0.4651 - accuracy: 1.0000 - val_loss: 0.6885 - val_accuracy: 0.5000\n",
            "Epoch 42/50\n",
            "1/1 [==============================] - 0s 35ms/step - loss: 0.4599 - accuracy: 1.0000 - val_loss: 0.6891 - val_accuracy: 0.5000\n",
            "Epoch 43/50\n",
            "1/1 [==============================] - 0s 37ms/step - loss: 0.4547 - accuracy: 1.0000 - val_loss: 0.6894 - val_accuracy: 0.5000\n",
            "Epoch 44/50\n",
            "1/1 [==============================] - 0s 38ms/step - loss: 0.4494 - accuracy: 1.0000 - val_loss: 0.6890 - val_accuracy: 0.5000\n",
            "Epoch 45/50\n",
            "1/1 [==============================] - 0s 41ms/step - loss: 0.4440 - accuracy: 1.0000 - val_loss: 0.6885 - val_accuracy: 0.5000\n",
            "Epoch 46/50\n",
            "1/1 [==============================] - 0s 35ms/step - loss: 0.4386 - accuracy: 1.0000 - val_loss: 0.6882 - val_accuracy: 0.5000\n",
            "Epoch 47/50\n",
            "1/1 [==============================] - 0s 37ms/step - loss: 0.4331 - accuracy: 1.0000 - val_loss: 0.6879 - val_accuracy: 0.5000\n",
            "Epoch 48/50\n",
            "1/1 [==============================] - 0s 36ms/step - loss: 0.4275 - accuracy: 1.0000 - val_loss: 0.6876 - val_accuracy: 0.5000\n",
            "Epoch 49/50\n",
            "1/1 [==============================] - 0s 38ms/step - loss: 0.4221 - accuracy: 1.0000 - val_loss: 0.6873 - val_accuracy: 0.5000\n",
            "Epoch 50/50\n",
            "1/1 [==============================] - 0s 42ms/step - loss: 0.4166 - accuracy: 1.0000 - val_loss: 0.6870 - val_accuracy: 0.5000\n"
          ]
        },
        {
          "output_type": "execute_result",
          "data": {
            "text/plain": [
              "<keras.callbacks.History at 0x7f54d7576d90>"
            ]
          },
          "metadata": {},
          "execution_count": 267
        }
      ]
    },
    {
      "cell_type": "code",
      "source": [
        "# avaliação com as variaveis separadas para teste\n",
        "model.evaluate(X_test, y_test)"
      ],
      "metadata": {
        "colab": {
          "base_uri": "https://localhost:8080/"
        },
        "id": "EHs9emUWZmxc",
        "outputId": "2a7f15b5-99a4-4047-efc2-194a5d98c607"
      },
      "execution_count": 268,
      "outputs": [
        {
          "output_type": "stream",
          "name": "stdout",
          "text": [
            "1/1 [==============================] - 0s 36ms/step - loss: 0.7303 - accuracy: 0.6667\n"
          ]
        },
        {
          "output_type": "execute_result",
          "data": {
            "text/plain": [
              "[0.730290949344635, 0.6666666865348816]"
            ]
          },
          "metadata": {},
          "execution_count": 268
        }
      ]
    },
    {
      "cell_type": "code",
      "source": [
        "# avaliação com todos os elementos\n",
        "model.evaluate(X, y)"
      ],
      "metadata": {
        "id": "QfKmTaHDcLhv",
        "colab": {
          "base_uri": "https://localhost:8080/"
        },
        "outputId": "b46bdadd-a9d7-4a22-c29a-edccb9b37cb6"
      },
      "execution_count": 269,
      "outputs": [
        {
          "output_type": "stream",
          "name": "stdout",
          "text": [
            "1/1 [==============================] - 0s 41ms/step - loss: 0.5368 - accuracy: 0.8333\n"
          ]
        },
        {
          "output_type": "execute_result",
          "data": {
            "text/plain": [
              "[0.5368369221687317, 0.8333333134651184]"
            ]
          },
          "metadata": {},
          "execution_count": 269
        }
      ]
    }
  ]
}